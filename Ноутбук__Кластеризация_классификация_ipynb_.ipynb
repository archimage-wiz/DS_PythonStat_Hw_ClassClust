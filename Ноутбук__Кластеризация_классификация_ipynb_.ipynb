{
 "cells": [
  {
   "cell_type": "code",
   "execution_count": 1,
   "metadata": {
    "id": "-ppToJrUWoJ0"
   },
   "outputs": [],
   "source": [
    "from sklearn.datasets import load_wine\n",
    "import pandas as pd\n",
    "import numpy as np\n",
    "import matplotlib.pyplot as plt\n",
    "from matplotlib import colors"
   ]
  },
  {
   "cell_type": "code",
   "execution_count": 2,
   "metadata": {
    "id": "ik4WLSx51KZY"
   },
   "outputs": [
    {
     "name": "stderr",
     "output_type": "stream",
     "text": [
      "C:\\Users\\Archimage\\AppData\\Local\\Temp\\ipykernel_2292\\226866674.py:6: MatplotlibDeprecationWarning: The register_cmap function was deprecated in Matplotlib 3.7 and will be removed two minor releases later. Use ``matplotlib.colormaps.register(name)`` instead.\n",
      "  plt.cm.register_cmap(cmap=cmap)\n"
     ]
    }
   ],
   "source": [
    "cmap = colors.LinearSegmentedColormap(\n",
    "    'red_blue_classes',\n",
    "    {'red': [(0, 1, 1), (1, 0.7, 0.7)],\n",
    "     'green': [(0, 0.7, 0.7), (1, 0.7, 0.7)],\n",
    "     'blue': [(0, 0.7, 0.7), (1, 1, 1)]})\n",
    "plt.cm.register_cmap(cmap=cmap)"
   ]
  },
  {
   "cell_type": "code",
   "execution_count": 3,
   "metadata": {
    "id": "cmLC9M6oW2v8"
   },
   "outputs": [],
   "source": [
    "wine = load_wine()"
   ]
  },
  {
   "cell_type": "code",
   "execution_count": 4,
   "metadata": {
    "colab": {
     "base_uri": "https://localhost:8080/"
    },
    "id": "7eptbMYNvq0S",
    "outputId": "6d4fc0d1-62cb-4efe-bd76-9c4b2f129615"
   },
   "outputs": [
    {
     "name": "stdout",
     "output_type": "stream",
     "text": [
      ".. _wine_dataset:\n",
      "\n",
      "Wine recognition dataset\n",
      "------------------------\n",
      "\n",
      "**Data Set Characteristics:**\n",
      "\n",
      "    :Number of Instances: 178\n",
      "    :Number of Attributes: 13 numeric, predictive attributes and the class\n",
      "    :Attribute Information:\n",
      " \t\t- Alcohol\n",
      " \t\t- Malic acid\n",
      " \t\t- Ash\n",
      "\t\t- Alcalinity of ash  \n",
      " \t\t- Magnesium\n",
      "\t\t- Total phenols\n",
      " \t\t- Flavanoids\n",
      " \t\t- Nonflavanoid phenols\n",
      " \t\t- Proanthocyanins\n",
      "\t\t- Color intensity\n",
      " \t\t- Hue\n",
      " \t\t- OD280/OD315 of diluted wines\n",
      " \t\t- Proline\n",
      "\n",
      "    - class:\n",
      "            - class_0\n",
      "            - class_1\n",
      "            - class_2\n",
      "\t\t\n",
      "    :Summary Statistics:\n",
      "    \n",
      "    ============================= ==== ===== ======= =====\n",
      "                                   Min   Max   Mean     SD\n",
      "    ============================= ==== ===== ======= =====\n",
      "    Alcohol:                      11.0  14.8    13.0   0.8\n",
      "    Malic Acid:                   0.74  5.80    2.34  1.12\n",
      "    Ash:                          1.36  3.23    2.36  0.27\n",
      "    Alcalinity of Ash:            10.6  30.0    19.5   3.3\n",
      "    Magnesium:                    70.0 162.0    99.7  14.3\n",
      "    Total Phenols:                0.98  3.88    2.29  0.63\n",
      "    Flavanoids:                   0.34  5.08    2.03  1.00\n",
      "    Nonflavanoid Phenols:         0.13  0.66    0.36  0.12\n",
      "    Proanthocyanins:              0.41  3.58    1.59  0.57\n",
      "    Colour Intensity:              1.3  13.0     5.1   2.3\n",
      "    Hue:                          0.48  1.71    0.96  0.23\n",
      "    OD280/OD315 of diluted wines: 1.27  4.00    2.61  0.71\n",
      "    Proline:                       278  1680     746   315\n",
      "    ============================= ==== ===== ======= =====\n",
      "\n",
      "    :Missing Attribute Values: None\n",
      "    :Class Distribution: class_0 (59), class_1 (71), class_2 (48)\n",
      "    :Creator: R.A. Fisher\n",
      "    :Donor: Michael Marshall (MARSHALL%PLU@io.arc.nasa.gov)\n",
      "    :Date: July, 1988\n",
      "\n",
      "This is a copy of UCI ML Wine recognition datasets.\n",
      "https://archive.ics.uci.edu/ml/machine-learning-databases/wine/wine.data\n",
      "\n",
      "The data is the results of a chemical analysis of wines grown in the same\n",
      "region in Italy by three different cultivators. There are thirteen different\n",
      "measurements taken for different constituents found in the three types of\n",
      "wine.\n",
      "\n",
      "Original Owners: \n",
      "\n",
      "Forina, M. et al, PARVUS - \n",
      "An Extendible Package for Data Exploration, Classification and Correlation. \n",
      "Institute of Pharmaceutical and Food Analysis and Technologies,\n",
      "Via Brigata Salerno, 16147 Genoa, Italy.\n",
      "\n",
      "Citation:\n",
      "\n",
      "Lichman, M. (2013). UCI Machine Learning Repository\n",
      "[https://archive.ics.uci.edu/ml]. Irvine, CA: University of California,\n",
      "School of Information and Computer Science. \n",
      "\n",
      "|details-start|\n",
      "**References**\n",
      "|details-split|\n",
      "\n",
      "(1) S. Aeberhard, D. Coomans and O. de Vel, \n",
      "Comparison of Classifiers in High Dimensional Settings, \n",
      "Tech. Rep. no. 92-02, (1992), Dept. of Computer Science and Dept. of  \n",
      "Mathematics and Statistics, James Cook University of North Queensland. \n",
      "(Also submitted to Technometrics). \n",
      "\n",
      "The data was used with many others for comparing various \n",
      "classifiers. The classes are separable, though only RDA \n",
      "has achieved 100% correct classification. \n",
      "(RDA : 100%, QDA 99.4%, LDA 98.9%, 1NN 96.1% (z-transformed data)) \n",
      "(All results using the leave-one-out technique) \n",
      "\n",
      "(2) S. Aeberhard, D. Coomans and O. de Vel, \n",
      "\"THE CLASSIFICATION PERFORMANCE OF RDA\" \n",
      "Tech. Rep. no. 92-01, (1992), Dept. of Computer Science and Dept. of \n",
      "Mathematics and Statistics, James Cook University of North Queensland. \n",
      "(Also submitted to Journal of Chemometrics).\n",
      "\n",
      "|details-end|\n"
     ]
    }
   ],
   "source": [
    "print(wine.DESCR)"
   ]
  },
  {
   "cell_type": "code",
   "execution_count": 5,
   "metadata": {
    "id": "7rO21IhnvyIo"
   },
   "outputs": [],
   "source": [
    "# загружаем данные в датафрейм\n",
    "data = pd.DataFrame(wine.data, columns=wine.feature_names)\n",
    "data_class = wine.target"
   ]
  },
  {
   "cell_type": "code",
   "execution_count": 6,
   "metadata": {
    "colab": {
     "base_uri": "https://localhost:8080/",
     "height": 423
    },
    "id": "M92y_fa2wBjn",
    "outputId": "1252f211-b445-47d9-a501-6968ea815f81"
   },
   "outputs": [
    {
     "data": {
      "text/html": [
       "<div>\n",
       "<style scoped>\n",
       "    .dataframe tbody tr th:only-of-type {\n",
       "        vertical-align: middle;\n",
       "    }\n",
       "\n",
       "    .dataframe tbody tr th {\n",
       "        vertical-align: top;\n",
       "    }\n",
       "\n",
       "    .dataframe thead th {\n",
       "        text-align: right;\n",
       "    }\n",
       "</style>\n",
       "<table border=\"1\" class=\"dataframe\">\n",
       "  <thead>\n",
       "    <tr style=\"text-align: right;\">\n",
       "      <th></th>\n",
       "      <th>alcohol</th>\n",
       "      <th>malic_acid</th>\n",
       "      <th>ash</th>\n",
       "      <th>alcalinity_of_ash</th>\n",
       "      <th>magnesium</th>\n",
       "      <th>total_phenols</th>\n",
       "      <th>flavanoids</th>\n",
       "      <th>nonflavanoid_phenols</th>\n",
       "      <th>proanthocyanins</th>\n",
       "      <th>color_intensity</th>\n",
       "      <th>hue</th>\n",
       "      <th>od280/od315_of_diluted_wines</th>\n",
       "      <th>proline</th>\n",
       "    </tr>\n",
       "  </thead>\n",
       "  <tbody>\n",
       "    <tr>\n",
       "      <th>0</th>\n",
       "      <td>14.23</td>\n",
       "      <td>1.71</td>\n",
       "      <td>2.43</td>\n",
       "      <td>15.6</td>\n",
       "      <td>127.0</td>\n",
       "      <td>2.80</td>\n",
       "      <td>3.06</td>\n",
       "      <td>0.28</td>\n",
       "      <td>2.29</td>\n",
       "      <td>5.64</td>\n",
       "      <td>1.04</td>\n",
       "      <td>3.92</td>\n",
       "      <td>1065.0</td>\n",
       "    </tr>\n",
       "    <tr>\n",
       "      <th>1</th>\n",
       "      <td>13.20</td>\n",
       "      <td>1.78</td>\n",
       "      <td>2.14</td>\n",
       "      <td>11.2</td>\n",
       "      <td>100.0</td>\n",
       "      <td>2.65</td>\n",
       "      <td>2.76</td>\n",
       "      <td>0.26</td>\n",
       "      <td>1.28</td>\n",
       "      <td>4.38</td>\n",
       "      <td>1.05</td>\n",
       "      <td>3.40</td>\n",
       "      <td>1050.0</td>\n",
       "    </tr>\n",
       "    <tr>\n",
       "      <th>2</th>\n",
       "      <td>13.16</td>\n",
       "      <td>2.36</td>\n",
       "      <td>2.67</td>\n",
       "      <td>18.6</td>\n",
       "      <td>101.0</td>\n",
       "      <td>2.80</td>\n",
       "      <td>3.24</td>\n",
       "      <td>0.30</td>\n",
       "      <td>2.81</td>\n",
       "      <td>5.68</td>\n",
       "      <td>1.03</td>\n",
       "      <td>3.17</td>\n",
       "      <td>1185.0</td>\n",
       "    </tr>\n",
       "    <tr>\n",
       "      <th>3</th>\n",
       "      <td>14.37</td>\n",
       "      <td>1.95</td>\n",
       "      <td>2.50</td>\n",
       "      <td>16.8</td>\n",
       "      <td>113.0</td>\n",
       "      <td>3.85</td>\n",
       "      <td>3.49</td>\n",
       "      <td>0.24</td>\n",
       "      <td>2.18</td>\n",
       "      <td>7.80</td>\n",
       "      <td>0.86</td>\n",
       "      <td>3.45</td>\n",
       "      <td>1480.0</td>\n",
       "    </tr>\n",
       "    <tr>\n",
       "      <th>4</th>\n",
       "      <td>13.24</td>\n",
       "      <td>2.59</td>\n",
       "      <td>2.87</td>\n",
       "      <td>21.0</td>\n",
       "      <td>118.0</td>\n",
       "      <td>2.80</td>\n",
       "      <td>2.69</td>\n",
       "      <td>0.39</td>\n",
       "      <td>1.82</td>\n",
       "      <td>4.32</td>\n",
       "      <td>1.04</td>\n",
       "      <td>2.93</td>\n",
       "      <td>735.0</td>\n",
       "    </tr>\n",
       "    <tr>\n",
       "      <th>...</th>\n",
       "      <td>...</td>\n",
       "      <td>...</td>\n",
       "      <td>...</td>\n",
       "      <td>...</td>\n",
       "      <td>...</td>\n",
       "      <td>...</td>\n",
       "      <td>...</td>\n",
       "      <td>...</td>\n",
       "      <td>...</td>\n",
       "      <td>...</td>\n",
       "      <td>...</td>\n",
       "      <td>...</td>\n",
       "      <td>...</td>\n",
       "    </tr>\n",
       "    <tr>\n",
       "      <th>173</th>\n",
       "      <td>13.71</td>\n",
       "      <td>5.65</td>\n",
       "      <td>2.45</td>\n",
       "      <td>20.5</td>\n",
       "      <td>95.0</td>\n",
       "      <td>1.68</td>\n",
       "      <td>0.61</td>\n",
       "      <td>0.52</td>\n",
       "      <td>1.06</td>\n",
       "      <td>7.70</td>\n",
       "      <td>0.64</td>\n",
       "      <td>1.74</td>\n",
       "      <td>740.0</td>\n",
       "    </tr>\n",
       "    <tr>\n",
       "      <th>174</th>\n",
       "      <td>13.40</td>\n",
       "      <td>3.91</td>\n",
       "      <td>2.48</td>\n",
       "      <td>23.0</td>\n",
       "      <td>102.0</td>\n",
       "      <td>1.80</td>\n",
       "      <td>0.75</td>\n",
       "      <td>0.43</td>\n",
       "      <td>1.41</td>\n",
       "      <td>7.30</td>\n",
       "      <td>0.70</td>\n",
       "      <td>1.56</td>\n",
       "      <td>750.0</td>\n",
       "    </tr>\n",
       "    <tr>\n",
       "      <th>175</th>\n",
       "      <td>13.27</td>\n",
       "      <td>4.28</td>\n",
       "      <td>2.26</td>\n",
       "      <td>20.0</td>\n",
       "      <td>120.0</td>\n",
       "      <td>1.59</td>\n",
       "      <td>0.69</td>\n",
       "      <td>0.43</td>\n",
       "      <td>1.35</td>\n",
       "      <td>10.20</td>\n",
       "      <td>0.59</td>\n",
       "      <td>1.56</td>\n",
       "      <td>835.0</td>\n",
       "    </tr>\n",
       "    <tr>\n",
       "      <th>176</th>\n",
       "      <td>13.17</td>\n",
       "      <td>2.59</td>\n",
       "      <td>2.37</td>\n",
       "      <td>20.0</td>\n",
       "      <td>120.0</td>\n",
       "      <td>1.65</td>\n",
       "      <td>0.68</td>\n",
       "      <td>0.53</td>\n",
       "      <td>1.46</td>\n",
       "      <td>9.30</td>\n",
       "      <td>0.60</td>\n",
       "      <td>1.62</td>\n",
       "      <td>840.0</td>\n",
       "    </tr>\n",
       "    <tr>\n",
       "      <th>177</th>\n",
       "      <td>14.13</td>\n",
       "      <td>4.10</td>\n",
       "      <td>2.74</td>\n",
       "      <td>24.5</td>\n",
       "      <td>96.0</td>\n",
       "      <td>2.05</td>\n",
       "      <td>0.76</td>\n",
       "      <td>0.56</td>\n",
       "      <td>1.35</td>\n",
       "      <td>9.20</td>\n",
       "      <td>0.61</td>\n",
       "      <td>1.60</td>\n",
       "      <td>560.0</td>\n",
       "    </tr>\n",
       "  </tbody>\n",
       "</table>\n",
       "<p>178 rows × 13 columns</p>\n",
       "</div>"
      ],
      "text/plain": [
       "     alcohol  malic_acid   ash  alcalinity_of_ash  magnesium  total_phenols  \\\n",
       "0      14.23        1.71  2.43               15.6      127.0           2.80   \n",
       "1      13.20        1.78  2.14               11.2      100.0           2.65   \n",
       "2      13.16        2.36  2.67               18.6      101.0           2.80   \n",
       "3      14.37        1.95  2.50               16.8      113.0           3.85   \n",
       "4      13.24        2.59  2.87               21.0      118.0           2.80   \n",
       "..       ...         ...   ...                ...        ...            ...   \n",
       "173    13.71        5.65  2.45               20.5       95.0           1.68   \n",
       "174    13.40        3.91  2.48               23.0      102.0           1.80   \n",
       "175    13.27        4.28  2.26               20.0      120.0           1.59   \n",
       "176    13.17        2.59  2.37               20.0      120.0           1.65   \n",
       "177    14.13        4.10  2.74               24.5       96.0           2.05   \n",
       "\n",
       "     flavanoids  nonflavanoid_phenols  proanthocyanins  color_intensity   hue  \\\n",
       "0          3.06                  0.28             2.29             5.64  1.04   \n",
       "1          2.76                  0.26             1.28             4.38  1.05   \n",
       "2          3.24                  0.30             2.81             5.68  1.03   \n",
       "3          3.49                  0.24             2.18             7.80  0.86   \n",
       "4          2.69                  0.39             1.82             4.32  1.04   \n",
       "..          ...                   ...              ...              ...   ...   \n",
       "173        0.61                  0.52             1.06             7.70  0.64   \n",
       "174        0.75                  0.43             1.41             7.30  0.70   \n",
       "175        0.69                  0.43             1.35            10.20  0.59   \n",
       "176        0.68                  0.53             1.46             9.30  0.60   \n",
       "177        0.76                  0.56             1.35             9.20  0.61   \n",
       "\n",
       "     od280/od315_of_diluted_wines  proline  \n",
       "0                            3.92   1065.0  \n",
       "1                            3.40   1050.0  \n",
       "2                            3.17   1185.0  \n",
       "3                            3.45   1480.0  \n",
       "4                            2.93    735.0  \n",
       "..                            ...      ...  \n",
       "173                          1.74    740.0  \n",
       "174                          1.56    750.0  \n",
       "175                          1.56    835.0  \n",
       "176                          1.62    840.0  \n",
       "177                          1.60    560.0  \n",
       "\n",
       "[178 rows x 13 columns]"
      ]
     },
     "execution_count": 6,
     "metadata": {},
     "output_type": "execute_result"
    }
   ],
   "source": [
    "data"
   ]
  },
  {
   "cell_type": "code",
   "execution_count": 7,
   "metadata": {
    "colab": {
     "base_uri": "https://localhost:8080/"
    },
    "id": "4u8TEZjzby45",
    "outputId": "d55600b9-c7a6-4dee-9a73-2d36382acf08"
   },
   "outputs": [
    {
     "data": {
      "text/plain": [
       "array([0, 0, 0, 0, 0, 0, 0, 0, 0, 0, 0, 0, 0, 0, 0, 0, 0, 0, 0, 0, 0, 0,\n",
       "       0, 0, 0, 0, 0, 0, 0, 0, 0, 0, 0, 0, 0, 0, 0, 0, 0, 0, 0, 0, 0, 0,\n",
       "       0, 0, 0, 0, 0, 0, 0, 0, 0, 0, 0, 0, 0, 0, 0, 1, 1, 1, 1, 1, 1, 1,\n",
       "       1, 1, 1, 1, 1, 1, 1, 1, 1, 1, 1, 1, 1, 1, 1, 1, 1, 1, 1, 1, 1, 1,\n",
       "       1, 1, 1, 1, 1, 1, 1, 1, 1, 1, 1, 1, 1, 1, 1, 1, 1, 1, 1, 1, 1, 1,\n",
       "       1, 1, 1, 1, 1, 1, 1, 1, 1, 1, 1, 1, 1, 1, 1, 1, 1, 1, 1, 1, 2, 2,\n",
       "       2, 2, 2, 2, 2, 2, 2, 2, 2, 2, 2, 2, 2, 2, 2, 2, 2, 2, 2, 2, 2, 2,\n",
       "       2, 2, 2, 2, 2, 2, 2, 2, 2, 2, 2, 2, 2, 2, 2, 2, 2, 2, 2, 2, 2, 2,\n",
       "       2, 2])"
      ]
     },
     "execution_count": 7,
     "metadata": {},
     "output_type": "execute_result"
    }
   ],
   "source": [
    "data_class"
   ]
  },
  {
   "cell_type": "code",
   "execution_count": 8,
   "metadata": {
    "id": "lFjqjX-iwCaW"
   },
   "outputs": [],
   "source": [
    "# разделяем выборку на тренировочную и тестовую\n",
    "from sklearn.model_selection import train_test_split\n",
    "\n",
    "X_train, X_test, y_train, y_test = train_test_split(data, data_class, test_size=0.25, random_state=42)"
   ]
  },
  {
   "cell_type": "code",
   "execution_count": 9,
   "metadata": {
    "colab": {
     "base_uri": "https://localhost:8080/"
    },
    "id": "ygkZ_ffYby48",
    "outputId": "8b234ca5-ec35-4e3c-dd4f-f7c6bd82e81d"
   },
   "outputs": [
    {
     "data": {
      "text/plain": [
       "45"
      ]
     },
     "execution_count": 9,
     "metadata": {},
     "output_type": "execute_result"
    }
   ],
   "source": [
    "len(y_test)"
   ]
  },
  {
   "cell_type": "code",
   "execution_count": 10,
   "metadata": {
    "id": "6HINhvLtwdZT"
   },
   "outputs": [],
   "source": [
    "# импортируем LDA-функционал\n",
    "from sklearn.discriminant_analysis import LinearDiscriminantAnalysis"
   ]
  },
  {
   "cell_type": "code",
   "execution_count": 11,
   "metadata": {
    "id": "0Us8oVotwku1"
   },
   "outputs": [],
   "source": [
    "lda = LinearDiscriminantAnalysis()"
   ]
  },
  {
   "cell_type": "code",
   "execution_count": 12,
   "metadata": {
    "colab": {
     "base_uri": "https://localhost:8080/"
    },
    "id": "h5Ufc5sjwnZ3",
    "outputId": "d84bfc63-0626-49d1-b060-42d0afca71d7"
   },
   "outputs": [
    {
     "data": {
      "text/html": [
       "<style>#sk-container-id-1 {color: black;}#sk-container-id-1 pre{padding: 0;}#sk-container-id-1 div.sk-toggleable {background-color: white;}#sk-container-id-1 label.sk-toggleable__label {cursor: pointer;display: block;width: 100%;margin-bottom: 0;padding: 0.3em;box-sizing: border-box;text-align: center;}#sk-container-id-1 label.sk-toggleable__label-arrow:before {content: \"▸\";float: left;margin-right: 0.25em;color: #696969;}#sk-container-id-1 label.sk-toggleable__label-arrow:hover:before {color: black;}#sk-container-id-1 div.sk-estimator:hover label.sk-toggleable__label-arrow:before {color: black;}#sk-container-id-1 div.sk-toggleable__content {max-height: 0;max-width: 0;overflow: hidden;text-align: left;background-color: #f0f8ff;}#sk-container-id-1 div.sk-toggleable__content pre {margin: 0.2em;color: black;border-radius: 0.25em;background-color: #f0f8ff;}#sk-container-id-1 input.sk-toggleable__control:checked~div.sk-toggleable__content {max-height: 200px;max-width: 100%;overflow: auto;}#sk-container-id-1 input.sk-toggleable__control:checked~label.sk-toggleable__label-arrow:before {content: \"▾\";}#sk-container-id-1 div.sk-estimator input.sk-toggleable__control:checked~label.sk-toggleable__label {background-color: #d4ebff;}#sk-container-id-1 div.sk-label input.sk-toggleable__control:checked~label.sk-toggleable__label {background-color: #d4ebff;}#sk-container-id-1 input.sk-hidden--visually {border: 0;clip: rect(1px 1px 1px 1px);clip: rect(1px, 1px, 1px, 1px);height: 1px;margin: -1px;overflow: hidden;padding: 0;position: absolute;width: 1px;}#sk-container-id-1 div.sk-estimator {font-family: monospace;background-color: #f0f8ff;border: 1px dotted black;border-radius: 0.25em;box-sizing: border-box;margin-bottom: 0.5em;}#sk-container-id-1 div.sk-estimator:hover {background-color: #d4ebff;}#sk-container-id-1 div.sk-parallel-item::after {content: \"\";width: 100%;border-bottom: 1px solid gray;flex-grow: 1;}#sk-container-id-1 div.sk-label:hover label.sk-toggleable__label {background-color: #d4ebff;}#sk-container-id-1 div.sk-serial::before {content: \"\";position: absolute;border-left: 1px solid gray;box-sizing: border-box;top: 0;bottom: 0;left: 50%;z-index: 0;}#sk-container-id-1 div.sk-serial {display: flex;flex-direction: column;align-items: center;background-color: white;padding-right: 0.2em;padding-left: 0.2em;position: relative;}#sk-container-id-1 div.sk-item {position: relative;z-index: 1;}#sk-container-id-1 div.sk-parallel {display: flex;align-items: stretch;justify-content: center;background-color: white;position: relative;}#sk-container-id-1 div.sk-item::before, #sk-container-id-1 div.sk-parallel-item::before {content: \"\";position: absolute;border-left: 1px solid gray;box-sizing: border-box;top: 0;bottom: 0;left: 50%;z-index: -1;}#sk-container-id-1 div.sk-parallel-item {display: flex;flex-direction: column;z-index: 1;position: relative;background-color: white;}#sk-container-id-1 div.sk-parallel-item:first-child::after {align-self: flex-end;width: 50%;}#sk-container-id-1 div.sk-parallel-item:last-child::after {align-self: flex-start;width: 50%;}#sk-container-id-1 div.sk-parallel-item:only-child::after {width: 0;}#sk-container-id-1 div.sk-dashed-wrapped {border: 1px dashed gray;margin: 0 0.4em 0.5em 0.4em;box-sizing: border-box;padding-bottom: 0.4em;background-color: white;}#sk-container-id-1 div.sk-label label {font-family: monospace;font-weight: bold;display: inline-block;line-height: 1.2em;}#sk-container-id-1 div.sk-label-container {text-align: center;}#sk-container-id-1 div.sk-container {/* jupyter's `normalize.less` sets `[hidden] { display: none; }` but bootstrap.min.css set `[hidden] { display: none !important; }` so we also need the `!important` here to be able to override the default hidden behavior on the sphinx rendered scikit-learn.org. See: https://github.com/scikit-learn/scikit-learn/issues/21755 */display: inline-block !important;position: relative;}#sk-container-id-1 div.sk-text-repr-fallback {display: none;}</style><div id=\"sk-container-id-1\" class=\"sk-top-container\"><div class=\"sk-text-repr-fallback\"><pre>LinearDiscriminantAnalysis()</pre><b>In a Jupyter environment, please rerun this cell to show the HTML representation or trust the notebook. <br />On GitHub, the HTML representation is unable to render, please try loading this page with nbviewer.org.</b></div><div class=\"sk-container\" hidden><div class=\"sk-item\"><div class=\"sk-estimator sk-toggleable\"><input class=\"sk-toggleable__control sk-hidden--visually\" id=\"sk-estimator-id-1\" type=\"checkbox\" checked><label for=\"sk-estimator-id-1\" class=\"sk-toggleable__label sk-toggleable__label-arrow\">LinearDiscriminantAnalysis</label><div class=\"sk-toggleable__content\"><pre>LinearDiscriminantAnalysis()</pre></div></div></div></div></div>"
      ],
      "text/plain": [
       "LinearDiscriminantAnalysis()"
      ]
     },
     "execution_count": 12,
     "metadata": {},
     "output_type": "execute_result"
    }
   ],
   "source": [
    "# обучаем данные\n",
    "lda.fit(X_train, y_train)"
   ]
  },
  {
   "cell_type": "code",
   "execution_count": 13,
   "metadata": {
    "colab": {
     "base_uri": "https://localhost:8080/"
    },
    "id": "bcZ3H-T1xSWu",
    "outputId": "9b81ea99-0deb-43a3-9d68-298cca80be63"
   },
   "outputs": [
    {
     "data": {
      "text/plain": [
       "array([0, 0, 2, 0, 1, 0, 1, 2, 1, 2, 0, 2, 0, 1, 0, 1, 1, 1, 0, 1, 0, 1,\n",
       "       1, 2, 2, 2, 1, 1, 1, 0, 0, 1, 2, 0, 0, 0, 2, 2, 1, 2, 0, 1, 1, 1,\n",
       "       2])"
      ]
     },
     "execution_count": 13,
     "metadata": {},
     "output_type": "execute_result"
    }
   ],
   "source": [
    "# делаем прогноз на тестовой выборке\n",
    "lda.predict(X_test)"
   ]
  },
  {
   "cell_type": "code",
   "execution_count": 14,
   "metadata": {
    "id": "9wGodM6OxUds"
   },
   "outputs": [],
   "source": [
    "# смотрим разницу факта и прогноза\n",
    "result = pd.DataFrame([y_test, lda.predict(X_test)]).T"
   ]
  },
  {
   "cell_type": "code",
   "execution_count": 15,
   "metadata": {
    "colab": {
     "base_uri": "https://localhost:8080/",
     "height": 1000
    },
    "id": "RK4zDP6ZxaXI",
    "outputId": "775a10db-d7e2-4ec3-c86d-19486c3637c0"
   },
   "outputs": [
    {
     "data": {
      "text/html": [
       "<div>\n",
       "<style scoped>\n",
       "    .dataframe tbody tr th:only-of-type {\n",
       "        vertical-align: middle;\n",
       "    }\n",
       "\n",
       "    .dataframe tbody tr th {\n",
       "        vertical-align: top;\n",
       "    }\n",
       "\n",
       "    .dataframe thead th {\n",
       "        text-align: right;\n",
       "    }\n",
       "</style>\n",
       "<table border=\"1\" class=\"dataframe\">\n",
       "  <thead>\n",
       "    <tr style=\"text-align: right;\">\n",
       "      <th></th>\n",
       "      <th>0</th>\n",
       "      <th>1</th>\n",
       "    </tr>\n",
       "  </thead>\n",
       "  <tbody>\n",
       "    <tr>\n",
       "      <th>0</th>\n",
       "      <td>0</td>\n",
       "      <td>0</td>\n",
       "    </tr>\n",
       "    <tr>\n",
       "      <th>1</th>\n",
       "      <td>0</td>\n",
       "      <td>0</td>\n",
       "    </tr>\n",
       "    <tr>\n",
       "      <th>2</th>\n",
       "      <td>2</td>\n",
       "      <td>2</td>\n",
       "    </tr>\n",
       "    <tr>\n",
       "      <th>3</th>\n",
       "      <td>0</td>\n",
       "      <td>0</td>\n",
       "    </tr>\n",
       "    <tr>\n",
       "      <th>4</th>\n",
       "      <td>1</td>\n",
       "      <td>1</td>\n",
       "    </tr>\n",
       "    <tr>\n",
       "      <th>5</th>\n",
       "      <td>0</td>\n",
       "      <td>0</td>\n",
       "    </tr>\n",
       "    <tr>\n",
       "      <th>6</th>\n",
       "      <td>1</td>\n",
       "      <td>1</td>\n",
       "    </tr>\n",
       "    <tr>\n",
       "      <th>7</th>\n",
       "      <td>2</td>\n",
       "      <td>2</td>\n",
       "    </tr>\n",
       "    <tr>\n",
       "      <th>8</th>\n",
       "      <td>1</td>\n",
       "      <td>1</td>\n",
       "    </tr>\n",
       "    <tr>\n",
       "      <th>9</th>\n",
       "      <td>2</td>\n",
       "      <td>2</td>\n",
       "    </tr>\n",
       "    <tr>\n",
       "      <th>10</th>\n",
       "      <td>0</td>\n",
       "      <td>0</td>\n",
       "    </tr>\n",
       "    <tr>\n",
       "      <th>11</th>\n",
       "      <td>2</td>\n",
       "      <td>2</td>\n",
       "    </tr>\n",
       "    <tr>\n",
       "      <th>12</th>\n",
       "      <td>0</td>\n",
       "      <td>0</td>\n",
       "    </tr>\n",
       "    <tr>\n",
       "      <th>13</th>\n",
       "      <td>1</td>\n",
       "      <td>1</td>\n",
       "    </tr>\n",
       "    <tr>\n",
       "      <th>14</th>\n",
       "      <td>0</td>\n",
       "      <td>0</td>\n",
       "    </tr>\n",
       "    <tr>\n",
       "      <th>15</th>\n",
       "      <td>1</td>\n",
       "      <td>1</td>\n",
       "    </tr>\n",
       "    <tr>\n",
       "      <th>16</th>\n",
       "      <td>1</td>\n",
       "      <td>1</td>\n",
       "    </tr>\n",
       "    <tr>\n",
       "      <th>17</th>\n",
       "      <td>1</td>\n",
       "      <td>1</td>\n",
       "    </tr>\n",
       "    <tr>\n",
       "      <th>18</th>\n",
       "      <td>0</td>\n",
       "      <td>0</td>\n",
       "    </tr>\n",
       "    <tr>\n",
       "      <th>19</th>\n",
       "      <td>1</td>\n",
       "      <td>1</td>\n",
       "    </tr>\n",
       "    <tr>\n",
       "      <th>20</th>\n",
       "      <td>0</td>\n",
       "      <td>0</td>\n",
       "    </tr>\n",
       "    <tr>\n",
       "      <th>21</th>\n",
       "      <td>1</td>\n",
       "      <td>1</td>\n",
       "    </tr>\n",
       "    <tr>\n",
       "      <th>22</th>\n",
       "      <td>1</td>\n",
       "      <td>1</td>\n",
       "    </tr>\n",
       "    <tr>\n",
       "      <th>23</th>\n",
       "      <td>2</td>\n",
       "      <td>2</td>\n",
       "    </tr>\n",
       "    <tr>\n",
       "      <th>24</th>\n",
       "      <td>2</td>\n",
       "      <td>2</td>\n",
       "    </tr>\n",
       "    <tr>\n",
       "      <th>25</th>\n",
       "      <td>2</td>\n",
       "      <td>2</td>\n",
       "    </tr>\n",
       "    <tr>\n",
       "      <th>26</th>\n",
       "      <td>1</td>\n",
       "      <td>1</td>\n",
       "    </tr>\n",
       "    <tr>\n",
       "      <th>27</th>\n",
       "      <td>1</td>\n",
       "      <td>1</td>\n",
       "    </tr>\n",
       "    <tr>\n",
       "      <th>28</th>\n",
       "      <td>1</td>\n",
       "      <td>1</td>\n",
       "    </tr>\n",
       "    <tr>\n",
       "      <th>29</th>\n",
       "      <td>0</td>\n",
       "      <td>0</td>\n",
       "    </tr>\n",
       "    <tr>\n",
       "      <th>30</th>\n",
       "      <td>0</td>\n",
       "      <td>0</td>\n",
       "    </tr>\n",
       "    <tr>\n",
       "      <th>31</th>\n",
       "      <td>1</td>\n",
       "      <td>1</td>\n",
       "    </tr>\n",
       "    <tr>\n",
       "      <th>32</th>\n",
       "      <td>2</td>\n",
       "      <td>2</td>\n",
       "    </tr>\n",
       "    <tr>\n",
       "      <th>33</th>\n",
       "      <td>0</td>\n",
       "      <td>0</td>\n",
       "    </tr>\n",
       "    <tr>\n",
       "      <th>34</th>\n",
       "      <td>0</td>\n",
       "      <td>0</td>\n",
       "    </tr>\n",
       "    <tr>\n",
       "      <th>35</th>\n",
       "      <td>0</td>\n",
       "      <td>0</td>\n",
       "    </tr>\n",
       "    <tr>\n",
       "      <th>36</th>\n",
       "      <td>2</td>\n",
       "      <td>2</td>\n",
       "    </tr>\n",
       "    <tr>\n",
       "      <th>37</th>\n",
       "      <td>2</td>\n",
       "      <td>2</td>\n",
       "    </tr>\n",
       "    <tr>\n",
       "      <th>38</th>\n",
       "      <td>1</td>\n",
       "      <td>1</td>\n",
       "    </tr>\n",
       "    <tr>\n",
       "      <th>39</th>\n",
       "      <td>2</td>\n",
       "      <td>2</td>\n",
       "    </tr>\n",
       "    <tr>\n",
       "      <th>40</th>\n",
       "      <td>0</td>\n",
       "      <td>0</td>\n",
       "    </tr>\n",
       "    <tr>\n",
       "      <th>41</th>\n",
       "      <td>1</td>\n",
       "      <td>1</td>\n",
       "    </tr>\n",
       "    <tr>\n",
       "      <th>42</th>\n",
       "      <td>1</td>\n",
       "      <td>1</td>\n",
       "    </tr>\n",
       "    <tr>\n",
       "      <th>43</th>\n",
       "      <td>1</td>\n",
       "      <td>1</td>\n",
       "    </tr>\n",
       "    <tr>\n",
       "      <th>44</th>\n",
       "      <td>2</td>\n",
       "      <td>2</td>\n",
       "    </tr>\n",
       "  </tbody>\n",
       "</table>\n",
       "</div>"
      ],
      "text/plain": [
       "    0  1\n",
       "0   0  0\n",
       "1   0  0\n",
       "2   2  2\n",
       "3   0  0\n",
       "4   1  1\n",
       "5   0  0\n",
       "6   1  1\n",
       "7   2  2\n",
       "8   1  1\n",
       "9   2  2\n",
       "10  0  0\n",
       "11  2  2\n",
       "12  0  0\n",
       "13  1  1\n",
       "14  0  0\n",
       "15  1  1\n",
       "16  1  1\n",
       "17  1  1\n",
       "18  0  0\n",
       "19  1  1\n",
       "20  0  0\n",
       "21  1  1\n",
       "22  1  1\n",
       "23  2  2\n",
       "24  2  2\n",
       "25  2  2\n",
       "26  1  1\n",
       "27  1  1\n",
       "28  1  1\n",
       "29  0  0\n",
       "30  0  0\n",
       "31  1  1\n",
       "32  2  2\n",
       "33  0  0\n",
       "34  0  0\n",
       "35  0  0\n",
       "36  2  2\n",
       "37  2  2\n",
       "38  1  1\n",
       "39  2  2\n",
       "40  0  0\n",
       "41  1  1\n",
       "42  1  1\n",
       "43  1  1\n",
       "44  2  2"
      ]
     },
     "execution_count": 15,
     "metadata": {},
     "output_type": "execute_result"
    }
   ],
   "source": [
    "result"
   ]
  },
  {
   "cell_type": "code",
   "execution_count": 16,
   "metadata": {
    "id": "B66nVhbk2Mf1"
   },
   "outputs": [],
   "source": [
    "# расчет точности - отношение верных прогнозов к общему количеству позиций\n",
    "# является хорошей метрикой для сбалансированных классов\n",
    "# (наблюдений в категориях примерно одинаковое количество)\n",
    "\n",
    "from sklearn.metrics import accuracy_score"
   ]
  },
  {
   "cell_type": "code",
   "execution_count": 17,
   "metadata": {
    "colab": {
     "base_uri": "https://localhost:8080/"
    },
    "id": "2x5pYOZB2P2F",
    "outputId": "34bda971-b84f-42dd-fb5a-e150f1565853"
   },
   "outputs": [
    {
     "data": {
      "text/plain": [
       "1.0"
      ]
     },
     "execution_count": 17,
     "metadata": {},
     "output_type": "execute_result"
    }
   ],
   "source": [
    "accuracy_score(y_test, lda.predict(X_test))"
   ]
  },
  {
   "cell_type": "code",
   "execution_count": 18,
   "metadata": {
    "colab": {
     "base_uri": "https://localhost:8080/"
    },
    "id": "aBdqgd5ixdMh",
    "outputId": "e007ce6c-3f52-4036-b1e4-9bc95ca7b8a3"
   },
   "outputs": [
    {
     "data": {
      "text/plain": [
       "array([[ 2.77785654e+00, -2.62823777e-01,  6.34033699e+00,\n",
       "        -9.23264800e-01,  1.12148061e-03, -1.73622434e+00,\n",
       "         4.95743646e+00,  3.14554165e+00, -1.19253447e+00,\n",
       "        -8.98034416e-01, -1.73258088e-01,  3.81064150e+00,\n",
       "         1.36856107e-02],\n",
       "       [-2.00764892e+00, -4.89578703e-01, -6.54854947e+00,\n",
       "         4.49722072e-01,  4.06933168e-05, -7.56394603e-01,\n",
       "         1.34633325e+00,  2.67670321e+00,  1.06737575e+00,\n",
       "        -6.98689535e-01,  3.51943073e+00,  4.92874648e-01,\n",
       "        -5.99014310e-03],\n",
       "       [-4.39452636e-01,  1.04199771e+00,  1.89161928e+00,\n",
       "         4.66343927e-01, -1.43060813e-03,  3.23563291e+00,\n",
       "        -8.04119074e+00, -7.78525286e+00, -1.13872164e-01,\n",
       "         2.12622388e+00, -4.96962424e+00, -5.38307173e+00,\n",
       "        -7.90803569e-03]])"
      ]
     },
     "execution_count": 18,
     "metadata": {},
     "output_type": "execute_result"
    }
   ],
   "source": [
    "# коэффициенты дискриминатных линий\n",
    "lda.coef_"
   ]
  },
  {
   "cell_type": "code",
   "execution_count": 19,
   "metadata": {
    "colab": {
     "base_uri": "https://localhost:8080/",
     "height": 265
    },
    "id": "6fWjKgl4yLHO",
    "outputId": "3a04a131-21c4-45f9-8d7b-cbc755f9a6bb"
   },
   "outputs": [
    {
     "data": {
      "image/png": "[encoded data removed]",
      "text/plain": [
       "<Figure size 640x480 with 1 Axes>"
      ]
     },
     "metadata": {},
     "output_type": "display_data"
    }
   ],
   "source": [
    "# визуализируем дискриминантную линию только по 2 признакам\n",
    "plt.scatter(x=X_train['ash'], y=X_train['flavanoids'], c=y_train)\n",
    "plt.show()"
   ]
  },
  {
   "cell_type": "code",
   "execution_count": null,
   "metadata": {
    "id": "z6GzQbdr8B-u"
   },
   "outputs": [],
   "source": []
  },
  {
   "cell_type": "markdown",
   "metadata": {
    "id": "Zm-g9kH18Cd9"
   },
   "source": [
    "### Кластеризация на этом же наборе данных с этой же моделью"
   ]
  },
  {
   "cell_type": "code",
   "execution_count": 20,
   "metadata": {
    "id": "KFSam-cJzCOG"
   },
   "outputs": [],
   "source": [
    "small_train = X_train[(y_train == 0) | (y_train == 2)]\n",
    "small_train = small_train[['ash', 'flavanoids']]\n",
    "sy_train = y_train[(y_train == 0) | (y_train == 2)]\n",
    "small_test = X_test[(y_test == 0) | (y_test == 2)]\n",
    "small_test = small_test[['ash', 'flavanoids']]\n",
    "sy_test = y_test[(y_test == 0) | (y_test == 2)]"
   ]
  },
  {
   "cell_type": "code",
   "execution_count": 21,
   "metadata": {
    "colab": {
     "base_uri": "https://localhost:8080/",
     "height": 265
    },
    "id": "SX47KNgXySEU",
    "outputId": "0d4b0db1-2e2c-4a95-e956-1364d895dcc7"
   },
   "outputs": [
    {
     "data": {
      "image/png": "[encoded data removed]",
      "text/plain": [
       "<Figure size 640x480 with 1 Axes>"
      ]
     },
     "metadata": {},
     "output_type": "display_data"
    }
   ],
   "source": [
    "plt.scatter(x=small_train['ash'], y=small_train['flavanoids'], c=sy_train)\n",
    "plt.show()"
   ]
  },
  {
   "cell_type": "code",
   "execution_count": 22,
   "metadata": {
    "colab": {
     "base_uri": "https://localhost:8080/"
    },
    "id": "jzWXDuY7y453",
    "outputId": "8fe07f74-ef3c-4b8c-b9db-674222ed9a36"
   },
   "outputs": [
    {
     "data": {
      "text/html": [
       "<style>#sk-container-id-2 {color: black;}#sk-container-id-2 pre{padding: 0;}#sk-container-id-2 div.sk-toggleable {background-color: white;}#sk-container-id-2 label.sk-toggleable__label {cursor: pointer;display: block;width: 100%;margin-bottom: 0;padding: 0.3em;box-sizing: border-box;text-align: center;}#sk-container-id-2 label.sk-toggleable__label-arrow:before {content: \"▸\";float: left;margin-right: 0.25em;color: #696969;}#sk-container-id-2 label.sk-toggleable__label-arrow:hover:before {color: black;}#sk-container-id-2 div.sk-estimator:hover label.sk-toggleable__label-arrow:before {color: black;}#sk-container-id-2 div.sk-toggleable__content {max-height: 0;max-width: 0;overflow: hidden;text-align: left;background-color: #f0f8ff;}#sk-container-id-2 div.sk-toggleable__content pre {margin: 0.2em;color: black;border-radius: 0.25em;background-color: #f0f8ff;}#sk-container-id-2 input.sk-toggleable__control:checked~div.sk-toggleable__content {max-height: 200px;max-width: 100%;overflow: auto;}#sk-container-id-2 input.sk-toggleable__control:checked~label.sk-toggleable__label-arrow:before {content: \"▾\";}#sk-container-id-2 div.sk-estimator input.sk-toggleable__control:checked~label.sk-toggleable__label {background-color: #d4ebff;}#sk-container-id-2 div.sk-label input.sk-toggleable__control:checked~label.sk-toggleable__label {background-color: #d4ebff;}#sk-container-id-2 input.sk-hidden--visually {border: 0;clip: rect(1px 1px 1px 1px);clip: rect(1px, 1px, 1px, 1px);height: 1px;margin: -1px;overflow: hidden;padding: 0;position: absolute;width: 1px;}#sk-container-id-2 div.sk-estimator {font-family: monospace;background-color: #f0f8ff;border: 1px dotted black;border-radius: 0.25em;box-sizing: border-box;margin-bottom: 0.5em;}#sk-container-id-2 div.sk-estimator:hover {background-color: #d4ebff;}#sk-container-id-2 div.sk-parallel-item::after {content: \"\";width: 100%;border-bottom: 1px solid gray;flex-grow: 1;}#sk-container-id-2 div.sk-label:hover label.sk-toggleable__label {background-color: #d4ebff;}#sk-container-id-2 div.sk-serial::before {content: \"\";position: absolute;border-left: 1px solid gray;box-sizing: border-box;top: 0;bottom: 0;left: 50%;z-index: 0;}#sk-container-id-2 div.sk-serial {display: flex;flex-direction: column;align-items: center;background-color: white;padding-right: 0.2em;padding-left: 0.2em;position: relative;}#sk-container-id-2 div.sk-item {position: relative;z-index: 1;}#sk-container-id-2 div.sk-parallel {display: flex;align-items: stretch;justify-content: center;background-color: white;position: relative;}#sk-container-id-2 div.sk-item::before, #sk-container-id-2 div.sk-parallel-item::before {content: \"\";position: absolute;border-left: 1px solid gray;box-sizing: border-box;top: 0;bottom: 0;left: 50%;z-index: -1;}#sk-container-id-2 div.sk-parallel-item {display: flex;flex-direction: column;z-index: 1;position: relative;background-color: white;}#sk-container-id-2 div.sk-parallel-item:first-child::after {align-self: flex-end;width: 50%;}#sk-container-id-2 div.sk-parallel-item:last-child::after {align-self: flex-start;width: 50%;}#sk-container-id-2 div.sk-parallel-item:only-child::after {width: 0;}#sk-container-id-2 div.sk-dashed-wrapped {border: 1px dashed gray;margin: 0 0.4em 0.5em 0.4em;box-sizing: border-box;padding-bottom: 0.4em;background-color: white;}#sk-container-id-2 div.sk-label label {font-family: monospace;font-weight: bold;display: inline-block;line-height: 1.2em;}#sk-container-id-2 div.sk-label-container {text-align: center;}#sk-container-id-2 div.sk-container {/* jupyter's `normalize.less` sets `[hidden] { display: none; }` but bootstrap.min.css set `[hidden] { display: none !important; }` so we also need the `!important` here to be able to override the default hidden behavior on the sphinx rendered scikit-learn.org. See: https://github.com/scikit-learn/scikit-learn/issues/21755 */display: inline-block !important;position: relative;}#sk-container-id-2 div.sk-text-repr-fallback {display: none;}</style><div id=\"sk-container-id-2\" class=\"sk-top-container\"><div class=\"sk-text-repr-fallback\"><pre>LinearDiscriminantAnalysis()</pre><b>In a Jupyter environment, please rerun this cell to show the HTML representation or trust the notebook. <br />On GitHub, the HTML representation is unable to render, please try loading this page with nbviewer.org.</b></div><div class=\"sk-container\" hidden><div class=\"sk-item\"><div class=\"sk-estimator sk-toggleable\"><input class=\"sk-toggleable__control sk-hidden--visually\" id=\"sk-estimator-id-2\" type=\"checkbox\" checked><label for=\"sk-estimator-id-2\" class=\"sk-toggleable__label sk-toggleable__label-arrow\">LinearDiscriminantAnalysis</label><div class=\"sk-toggleable__content\"><pre>LinearDiscriminantAnalysis()</pre></div></div></div></div></div>"
      ],
      "text/plain": [
       "LinearDiscriminantAnalysis()"
      ]
     },
     "execution_count": 22,
     "metadata": {},
     "output_type": "execute_result"
    }
   ],
   "source": [
    "lda_small = LinearDiscriminantAnalysis()\n",
    "lda_small.fit(small_train, sy_train)"
   ]
  },
  {
   "cell_type": "code",
   "execution_count": 23,
   "metadata": {
    "colab": {
     "base_uri": "https://localhost:8080/"
    },
    "id": "MSo9yPBxzPYx",
    "outputId": "7edbcefe-5f39-4afb-9eef-a3f6cd15d8c6"
   },
   "outputs": [
    {
     "data": {
      "text/plain": [
       "array([[2.45795455, 2.98522727],\n",
       "       [2.41416667, 0.76888889]])"
      ]
     },
     "execution_count": 23,
     "metadata": {},
     "output_type": "execute_result"
    }
   ],
   "source": [
    "# посмотрим на наши центроиды\n",
    "lda_small.means_"
   ]
  },
  {
   "cell_type": "code",
   "execution_count": 24,
   "metadata": {
    "colab": {
     "base_uri": "https://localhost:8080/",
     "height": 317
    },
    "id": "IrQb_JTwzREc",
    "outputId": "21d5231b-4f12-4061-9b32-1e9be3f67897"
   },
   "outputs": [
    {
     "name": "stderr",
     "output_type": "stream",
     "text": [
      "d:\\_AppProjects\\!Netology\\DS_PythonStatistic\\Hw_ClassificationClusterization\\env\\Lib\\site-packages\\sklearn\\base.py:465: UserWarning: X does not have valid feature names, but LinearDiscriminantAnalysis was fitted with feature names\n",
      "  warnings.warn(\n"
     ]
    },
    {
     "data": {
      "text/plain": [
       "<matplotlib.contour.QuadContourSet at 0x2ae4078ad50>"
      ]
     },
     "execution_count": 24,
     "metadata": {},
     "output_type": "execute_result"
    },
    {
     "data": {
      "image/png": "[encoded data removed]",
      "text/plain": [
       "<Figure size 640x480 with 1 Axes>"
      ]
     },
     "metadata": {},
     "output_type": "display_data"
    }
   ],
   "source": [
    "# сам scatter plot\n",
    "plt.scatter(small_train['ash'], small_train['flavanoids'], c=sy_train)\n",
    "# центроиды\n",
    "plt.scatter(lda_small.means_[:, 0], lda_small.means_[:, 1], c='r', s=150, marker='*')\n",
    "\n",
    "# делаем условную \"сетку\"\n",
    "nx, ny = 200, 100\n",
    "x_min, x_max = plt.xlim()\n",
    "y_min, y_max = plt.ylim()\n",
    "xx, yy = np.meshgrid(np.linspace(x_min, x_max, nx),\n",
    "                     np.linspace(y_min, y_max, ny))\n",
    "\n",
    "# предсказываем класс каждой точки нашей сетки\n",
    "Z = lda_small.predict_proba(np.c_[xx.ravel(), yy.ravel()])\n",
    "Z = Z[:, 1].reshape(xx.shape)\n",
    "\n",
    "# закрашиваем классы разными цветами\n",
    "plt.pcolormesh(xx, yy, Z, cmap='red_blue_classes',\n",
    "               norm=colors.Normalize(0., 1.), zorder=-1, shading='auto')\n",
    "\n",
    "plt.contour(xx, yy, Z, [0.5], linewidths=2., colors='white')"
   ]
  },
  {
   "cell_type": "code",
   "execution_count": 25,
   "metadata": {
    "colab": {
     "base_uri": "https://localhost:8080/"
    },
    "id": "e4_nponj4X5a",
    "outputId": "3546bc20-44b1-47d9-a18f-171b84f97153"
   },
   "outputs": [
    {
     "data": {
      "text/plain": [
       "array([[ -4.34521388, -18.55400407]])"
      ]
     },
     "execution_count": 25,
     "metadata": {},
     "output_type": "execute_result"
    }
   ],
   "source": [
    "# второй признак во много раз важнее первого для кластеризации (это видно по визуализации)\n",
    "lda_small.coef_"
   ]
  },
  {
   "cell_type": "code",
   "execution_count": 26,
   "metadata": {
    "colab": {
     "base_uri": "https://localhost:8080/"
    },
    "id": "fDmV457H4kz_",
    "outputId": "cfa41921-4769-4ee7-bca4-3d660cbb8012"
   },
   "outputs": [
    {
     "data": {
      "text/plain": [
       "1.0"
      ]
     },
     "execution_count": 26,
     "metadata": {},
     "output_type": "execute_result"
    }
   ],
   "source": [
    "# какая будет точность?\n",
    "accuracy_score(sy_test, lda_small.predict(small_test))"
   ]
  },
  {
   "cell_type": "code",
   "execution_count": 27,
   "metadata": {
    "colab": {
     "base_uri": "https://localhost:8080/",
     "height": 112
    },
    "id": "bhPt9IHjby5I",
    "outputId": "df96296b-2d59-4e17-d5d1-c1930dd66c0a"
   },
   "outputs": [
    {
     "data": {
      "text/html": [
       "<div>\n",
       "<style scoped>\n",
       "    .dataframe tbody tr th:only-of-type {\n",
       "        vertical-align: middle;\n",
       "    }\n",
       "\n",
       "    .dataframe tbody tr th {\n",
       "        vertical-align: top;\n",
       "    }\n",
       "\n",
       "    .dataframe thead th {\n",
       "        text-align: right;\n",
       "    }\n",
       "</style>\n",
       "<table border=\"1\" class=\"dataframe\">\n",
       "  <thead>\n",
       "    <tr style=\"text-align: right;\">\n",
       "      <th></th>\n",
       "      <th>flavanoids</th>\n",
       "      <th>ash</th>\n",
       "    </tr>\n",
       "  </thead>\n",
       "  <tbody>\n",
       "    <tr>\n",
       "      <th>flavanoids</th>\n",
       "      <td>1.000000</td>\n",
       "      <td>0.115077</td>\n",
       "    </tr>\n",
       "    <tr>\n",
       "      <th>ash</th>\n",
       "      <td>0.115077</td>\n",
       "      <td>1.000000</td>\n",
       "    </tr>\n",
       "  </tbody>\n",
       "</table>\n",
       "</div>"
      ],
      "text/plain": [
       "            flavanoids       ash\n",
       "flavanoids    1.000000  0.115077\n",
       "ash           0.115077  1.000000"
      ]
     },
     "execution_count": 27,
     "metadata": {},
     "output_type": "execute_result"
    }
   ],
   "source": [
    "data[['flavanoids', 'ash']].corr()"
   ]
  },
  {
   "cell_type": "code",
   "execution_count": 28,
   "metadata": {
    "id": "E-gchIEJ4t2d"
   },
   "outputs": [],
   "source": [
    "# заменим модель на логистическую регрессиию\n",
    "# кому интересно, отличия логистической регрессии от LDA:\n",
    "# https://www.introspective-mode.org/logistic-regression-or-discriminant-function-analysis/\n",
    "# Основные моменты:\n",
    "# LR может работать с категориальными признаками\n",
    "# зависимая переменная в LR подчиняется логистической функции (изменяется от 0 до 1) и непрерывна\n",
    "from sklearn.linear_model import LogisticRegression"
   ]
  },
  {
   "cell_type": "code",
   "execution_count": 29,
   "metadata": {
    "id": "R4NDgweF41cm"
   },
   "outputs": [],
   "source": [
    "lr = LogisticRegression()"
   ]
  },
  {
   "cell_type": "code",
   "execution_count": 30,
   "metadata": {
    "colab": {
     "base_uri": "https://localhost:8080/"
    },
    "id": "badyR0Tj43nx",
    "outputId": "127651b7-3c74-4211-9efa-4b5199742bad"
   },
   "outputs": [
    {
     "data": {
      "text/html": [
       "<style>#sk-container-id-3 {color: black;}#sk-container-id-3 pre{padding: 0;}#sk-container-id-3 div.sk-toggleable {background-color: white;}#sk-container-id-3 label.sk-toggleable__label {cursor: pointer;display: block;width: 100%;margin-bottom: 0;padding: 0.3em;box-sizing: border-box;text-align: center;}#sk-container-id-3 label.sk-toggleable__label-arrow:before {content: \"▸\";float: left;margin-right: 0.25em;color: #696969;}#sk-container-id-3 label.sk-toggleable__label-arrow:hover:before {color: black;}#sk-container-id-3 div.sk-estimator:hover label.sk-toggleable__label-arrow:before {color: black;}#sk-container-id-3 div.sk-toggleable__content {max-height: 0;max-width: 0;overflow: hidden;text-align: left;background-color: #f0f8ff;}#sk-container-id-3 div.sk-toggleable__content pre {margin: 0.2em;color: black;border-radius: 0.25em;background-color: #f0f8ff;}#sk-container-id-3 input.sk-toggleable__control:checked~div.sk-toggleable__content {max-height: 200px;max-width: 100%;overflow: auto;}#sk-container-id-3 input.sk-toggleable__control:checked~label.sk-toggleable__label-arrow:before {content: \"▾\";}#sk-container-id-3 div.sk-estimator input.sk-toggleable__control:checked~label.sk-toggleable__label {background-color: #d4ebff;}#sk-container-id-3 div.sk-label input.sk-toggleable__control:checked~label.sk-toggleable__label {background-color: #d4ebff;}#sk-container-id-3 input.sk-hidden--visually {border: 0;clip: rect(1px 1px 1px 1px);clip: rect(1px, 1px, 1px, 1px);height: 1px;margin: -1px;overflow: hidden;padding: 0;position: absolute;width: 1px;}#sk-container-id-3 div.sk-estimator {font-family: monospace;background-color: #f0f8ff;border: 1px dotted black;border-radius: 0.25em;box-sizing: border-box;margin-bottom: 0.5em;}#sk-container-id-3 div.sk-estimator:hover {background-color: #d4ebff;}#sk-container-id-3 div.sk-parallel-item::after {content: \"\";width: 100%;border-bottom: 1px solid gray;flex-grow: 1;}#sk-container-id-3 div.sk-label:hover label.sk-toggleable__label {background-color: #d4ebff;}#sk-container-id-3 div.sk-serial::before {content: \"\";position: absolute;border-left: 1px solid gray;box-sizing: border-box;top: 0;bottom: 0;left: 50%;z-index: 0;}#sk-container-id-3 div.sk-serial {display: flex;flex-direction: column;align-items: center;background-color: white;padding-right: 0.2em;padding-left: 0.2em;position: relative;}#sk-container-id-3 div.sk-item {position: relative;z-index: 1;}#sk-container-id-3 div.sk-parallel {display: flex;align-items: stretch;justify-content: center;background-color: white;position: relative;}#sk-container-id-3 div.sk-item::before, #sk-container-id-3 div.sk-parallel-item::before {content: \"\";position: absolute;border-left: 1px solid gray;box-sizing: border-box;top: 0;bottom: 0;left: 50%;z-index: -1;}#sk-container-id-3 div.sk-parallel-item {display: flex;flex-direction: column;z-index: 1;position: relative;background-color: white;}#sk-container-id-3 div.sk-parallel-item:first-child::after {align-self: flex-end;width: 50%;}#sk-container-id-3 div.sk-parallel-item:last-child::after {align-self: flex-start;width: 50%;}#sk-container-id-3 div.sk-parallel-item:only-child::after {width: 0;}#sk-container-id-3 div.sk-dashed-wrapped {border: 1px dashed gray;margin: 0 0.4em 0.5em 0.4em;box-sizing: border-box;padding-bottom: 0.4em;background-color: white;}#sk-container-id-3 div.sk-label label {font-family: monospace;font-weight: bold;display: inline-block;line-height: 1.2em;}#sk-container-id-3 div.sk-label-container {text-align: center;}#sk-container-id-3 div.sk-container {/* jupyter's `normalize.less` sets `[hidden] { display: none; }` but bootstrap.min.css set `[hidden] { display: none !important; }` so we also need the `!important` here to be able to override the default hidden behavior on the sphinx rendered scikit-learn.org. See: https://github.com/scikit-learn/scikit-learn/issues/21755 */display: inline-block !important;position: relative;}#sk-container-id-3 div.sk-text-repr-fallback {display: none;}</style><div id=\"sk-container-id-3\" class=\"sk-top-container\"><div class=\"sk-text-repr-fallback\"><pre>LogisticRegression()</pre><b>In a Jupyter environment, please rerun this cell to show the HTML representation or trust the notebook. <br />On GitHub, the HTML representation is unable to render, please try loading this page with nbviewer.org.</b></div><div class=\"sk-container\" hidden><div class=\"sk-item\"><div class=\"sk-estimator sk-toggleable\"><input class=\"sk-toggleable__control sk-hidden--visually\" id=\"sk-estimator-id-3\" type=\"checkbox\" checked><label for=\"sk-estimator-id-3\" class=\"sk-toggleable__label sk-toggleable__label-arrow\">LogisticRegression</label><div class=\"sk-toggleable__content\"><pre>LogisticRegression()</pre></div></div></div></div></div>"
      ],
      "text/plain": [
       "LogisticRegression()"
      ]
     },
     "execution_count": 30,
     "metadata": {},
     "output_type": "execute_result"
    }
   ],
   "source": [
    "lr.fit(small_train, sy_train)"
   ]
  },
  {
   "cell_type": "code",
   "execution_count": 31,
   "metadata": {
    "colab": {
     "base_uri": "https://localhost:8080/"
    },
    "id": "NfqW9uR9481f",
    "outputId": "ec24050e-9ca6-4d24-8687-f3feeda359fa"
   },
   "outputs": [
    {
     "data": {
      "text/plain": [
       "array([0, 0, 2, 0, 0, 2, 2, 0, 2, 0, 0, 0, 0, 2, 2, 2, 0, 0, 2, 0, 0, 0,\n",
       "       2, 2, 2, 0, 2])"
      ]
     },
     "execution_count": 31,
     "metadata": {},
     "output_type": "execute_result"
    }
   ],
   "source": [
    "lr.predict(small_test)"
   ]
  },
  {
   "cell_type": "code",
   "execution_count": 32,
   "metadata": {
    "colab": {
     "base_uri": "https://localhost:8080/"
    },
    "id": "DNUNJ6NLby5J",
    "outputId": "33adb6cc-c019-421b-9d9b-d131cf263dbf"
   },
   "outputs": [
    {
     "data": {
      "text/plain": [
       "array([[0.97834045, 0.02165955],\n",
       "       [0.93221509, 0.06778491],\n",
       "       [0.01748788, 0.98251212],\n",
       "       [0.9890649 , 0.0109351 ],\n",
       "       [0.98470954, 0.01529046],\n",
       "       [0.03657156, 0.96342844],\n",
       "       [0.01699235, 0.98300765],\n",
       "       [0.92493082, 0.07506918],\n",
       "       [0.32848902, 0.67151098],\n",
       "       [0.93628937, 0.06371063],\n",
       "       [0.96922354, 0.03077646],\n",
       "       [0.98461022, 0.01538978],\n",
       "       [0.99863668, 0.00136332],\n",
       "       [0.06992575, 0.93007425],\n",
       "       [0.01741811, 0.98258189],\n",
       "       [0.02921328, 0.97078672],\n",
       "       [0.95374787, 0.04625213],\n",
       "       [0.83327626, 0.16672374],\n",
       "       [0.01946624, 0.98053376],\n",
       "       [0.98648283, 0.01351717],\n",
       "       [0.95073645, 0.04926355],\n",
       "       [0.99575405, 0.00424595],\n",
       "       [0.18017914, 0.81982086],\n",
       "       [0.02358415, 0.97641585],\n",
       "       [0.10231262, 0.89768738],\n",
       "       [0.92836091, 0.07163909],\n",
       "       [0.04200962, 0.95799038]])"
      ]
     },
     "execution_count": 32,
     "metadata": {},
     "output_type": "execute_result"
    }
   ],
   "source": [
    "lr.predict_proba(small_test)"
   ]
  },
  {
   "cell_type": "code",
   "execution_count": 33,
   "metadata": {
    "colab": {
     "base_uri": "https://localhost:8080/"
    },
    "id": "qqFys9hT4_Eo",
    "outputId": "d417a2ab-c74e-4967-a859-ceec2df6764c"
   },
   "outputs": [
    {
     "data": {
      "text/plain": [
       "1.0"
      ]
     },
     "execution_count": 33,
     "metadata": {},
     "output_type": "execute_result"
    }
   ],
   "source": [
    "accuracy_score(sy_test, lr.predict(small_test))"
   ]
  },
  {
   "cell_type": "code",
   "execution_count": 34,
   "metadata": {
    "colab": {
     "base_uri": "https://localhost:8080/"
    },
    "id": "1Ei0UlN55CZ_",
    "outputId": "305810cd-10c0-462d-d2ec-a45eaf064355"
   },
   "outputs": [
    {
     "data": {
      "text/plain": [
       "array([[-0.08356991, -3.1030496 ]])"
      ]
     },
     "execution_count": 34,
     "metadata": {},
     "output_type": "execute_result"
    }
   ],
   "source": [
    "lr.coef_"
   ]
  },
  {
   "cell_type": "code",
   "execution_count": 35,
   "metadata": {
    "colab": {
     "base_uri": "https://localhost:8080/",
     "height": 300
    },
    "id": "eTw2FBQh5GKr",
    "outputId": "66b9ff2b-62bd-4e05-e4a6-0237354a883b"
   },
   "outputs": [
    {
     "name": "stderr",
     "output_type": "stream",
     "text": [
      "d:\\_AppProjects\\!Netology\\DS_PythonStatistic\\Hw_ClassificationClusterization\\env\\Lib\\site-packages\\sklearn\\base.py:465: UserWarning: X does not have valid feature names, but LogisticRegression was fitted with feature names\n",
      "  warnings.warn(\n"
     ]
    },
    {
     "data": {
      "image/png": "[encoded data removed]",
      "text/plain": [
       "<Figure size 640x480 with 1 Axes>"
      ]
     },
     "metadata": {},
     "output_type": "display_data"
    }
   ],
   "source": [
    "plt.scatter(small_train['ash'], small_train['flavanoids'], c=sy_train)\n",
    "\n",
    "nx, ny = 200, 100\n",
    "x_min, x_max = plt.xlim()\n",
    "y_min, y_max = plt.ylim()\n",
    "xx, yy = np.meshgrid(np.linspace(x_min, x_max, nx),\n",
    "                     np.linspace(y_min, y_max, ny))\n",
    "Z = lr.predict_proba(np.c_[xx.ravel(), yy.ravel()])\n",
    "Z = Z[:, 1].reshape(xx.shape)\n",
    "plt.pcolormesh(xx, yy, Z, cmap='red_blue_classes',\n",
    "               norm=colors.Normalize(0., 1.), zorder=-1, shading='auto')\n",
    "plt.contour(xx, yy, Z, [0.5], linewidths=2., colors='white')\n",
    "\n",
    "plt.show()"
   ]
  },
  {
   "cell_type": "markdown",
   "metadata": {
    "id": "UJefBk-e58kX"
   },
   "source": [
    "## Кластеризация"
   ]
  },
  {
   "cell_type": "code",
   "execution_count": 36,
   "metadata": {
    "id": "ZK-UchxSXREG"
   },
   "outputs": [],
   "source": [
    "# генерируем искусвтенные данные для примера\n",
    "from sklearn.datasets import make_blobs"
   ]
  },
  {
   "cell_type": "code",
   "execution_count": 37,
   "metadata": {
    "id": "_NxdrQ7RXSF5"
   },
   "outputs": [],
   "source": [
    "# 200 точек с 2 центрами, СКО - 2.5\n",
    "X, y = make_blobs(n_samples=200, centers=2, cluster_std=2.5)"
   ]
  },
  {
   "cell_type": "code",
   "execution_count": 38,
   "metadata": {
    "colab": {
     "base_uri": "https://localhost:8080/"
    },
    "id": "Ih7skwiwby5N",
    "outputId": "2ce8c6b7-ffd6-44e2-aa5a-5aa37de5a424"
   },
   "outputs": [
    {
     "data": {
      "text/plain": [
       "array([[ 8.7390575 ,  2.78810588],\n",
       "       [ 3.85494966, 10.31523902],\n",
       "       [ 9.31732445,  6.91138252],\n",
       "       [ 5.60047293,  7.4997905 ],\n",
       "       [ 6.89123782,  2.23086564],\n",
       "       [ 9.62197067,  7.27953699],\n",
       "       [ 5.4016022 ,  6.01164932],\n",
       "       [ 4.4999715 ,  8.40295144],\n",
       "       [ 7.77367235,  8.88695888],\n",
       "       [ 9.4437465 ,  1.27109758],\n",
       "       [ 7.12562738, 12.35270225],\n",
       "       [ 3.94183727,  6.00152577],\n",
       "       [ 8.57913886,  3.05044517],\n",
       "       [ 4.81033319,  2.08879054],\n",
       "       [ 4.52064965,  9.5587191 ],\n",
       "       [ 5.86951797,  9.38261722],\n",
       "       [ 4.32769154,  9.91137697],\n",
       "       [ 4.12747784,  9.71713329],\n",
       "       [12.10518651,  6.8486715 ],\n",
       "       [ 1.47278004,  1.77368926],\n",
       "       [ 6.90092497,  8.08500061],\n",
       "       [-0.76152548,  4.05843929],\n",
       "       [ 0.20984805,  7.06964324],\n",
       "       [ 6.82678402,  3.2063752 ],\n",
       "       [ 7.16507908,  8.73466089],\n",
       "       [ 5.64170544,  5.49659257],\n",
       "       [10.35650584,  4.4187862 ],\n",
       "       [ 4.38346056, 10.94276055],\n",
       "       [ 8.23236919,  9.91585988],\n",
       "       [ 5.51082537,  8.78383581],\n",
       "       [ 1.80108979,  8.0658589 ],\n",
       "       [ 5.42861401,  5.24121593],\n",
       "       [ 4.82428191,  7.58220118],\n",
       "       [ 4.77390242,  7.6501008 ],\n",
       "       [ 6.91793119,  5.97495599],\n",
       "       [ 7.14631258,  4.14405639],\n",
       "       [ 5.1819739 ,  3.14187144],\n",
       "       [ 3.92485   , 13.46903038],\n",
       "       [ 5.30032089,  8.96609715],\n",
       "       [ 2.84871657,  7.11270231],\n",
       "       [ 7.13640408,  7.38320244],\n",
       "       [10.83479764,  7.11068519],\n",
       "       [ 4.81205458,  5.04600897],\n",
       "       [ 7.00567669,  7.95037549],\n",
       "       [ 5.34395671,  3.25737982],\n",
       "       [ 8.10256946,  6.15540617],\n",
       "       [ 7.34945053,  3.03120395],\n",
       "       [ 5.8486569 ,  8.97947086],\n",
       "       [ 6.09814938,  2.79082394],\n",
       "       [ 6.29083984,  9.67891543],\n",
       "       [ 5.60601318, 12.1489801 ],\n",
       "       [ 3.85192662,  8.57060893],\n",
       "       [ 7.21525149,  8.29761481],\n",
       "       [ 3.57978782,  9.27059691],\n",
       "       [ 8.94307933,  0.90876623],\n",
       "       [ 6.89579504,  8.58612369],\n",
       "       [ 6.14126824,  5.57679169],\n",
       "       [ 9.34126211,  7.65046996],\n",
       "       [ 7.66293396,  1.27841179],\n",
       "       [ 4.62810446,  7.3446605 ],\n",
       "       [ 3.65888228,  8.6896877 ],\n",
       "       [ 4.3634931 ,  6.28794371],\n",
       "       [ 7.29436458,  3.25879374],\n",
       "       [ 1.10693243, 10.18608317],\n",
       "       [ 6.70746044,  1.307013  ],\n",
       "       [ 4.24078385,  8.88565522],\n",
       "       [ 7.30822673,  9.2009879 ],\n",
       "       [ 5.41821198,  2.32737977],\n",
       "       [ 6.84937588,  8.68284019],\n",
       "       [ 6.58680253,  8.3087657 ],\n",
       "       [ 6.12776942,  9.01398291],\n",
       "       [ 4.63199028,  6.7456906 ],\n",
       "       [ 7.00518581,  0.62017007],\n",
       "       [ 8.23178292, 10.39654959],\n",
       "       [ 3.61495022,  6.54777563],\n",
       "       [ 3.14103986,  5.44142936],\n",
       "       [ 4.15599951, 10.52004868],\n",
       "       [ 6.3663798 , 10.19941285],\n",
       "       [ 3.55548058,  4.26745718],\n",
       "       [ 3.60692888,  3.35317235],\n",
       "       [-1.80781796,  9.41908904],\n",
       "       [ 2.65689832,  5.69586349],\n",
       "       [ 8.13309112,  5.68433572],\n",
       "       [ 7.79752217,  6.85565631],\n",
       "       [ 7.81560065,  8.34442529],\n",
       "       [ 8.89714352,  5.90421551],\n",
       "       [ 6.68603055,  5.83863882],\n",
       "       [ 9.88091604,  6.23175544],\n",
       "       [11.10071738,  5.8574816 ],\n",
       "       [ 2.80953504, 12.59345795],\n",
       "       [ 2.10579956, 10.01398336],\n",
       "       [ 4.92232187,  5.82551858],\n",
       "       [ 6.37605778,  9.77837462],\n",
       "       [ 7.38339539, 10.11295483],\n",
       "       [ 5.07240235, 14.35344598],\n",
       "       [ 3.64516565,  5.0473542 ],\n",
       "       [ 4.86201808,  4.49909417],\n",
       "       [10.24376501, -1.13316314],\n",
       "       [ 6.88115318,  5.61493522],\n",
       "       [ 7.76697765,  2.02056206],\n",
       "       [ 8.32855508,  3.84560622],\n",
       "       [ 4.60933233,  8.67707606],\n",
       "       [ 8.87525915, 11.04496291],\n",
       "       [ 6.55270022,  8.37589501],\n",
       "       [ 6.60157486, 10.05186924],\n",
       "       [ 1.06274058,  9.56156463],\n",
       "       [ 6.16041758, 11.6459185 ],\n",
       "       [ 4.86865505,  9.65563097],\n",
       "       [ 4.96863623,  5.36669813],\n",
       "       [ 4.73034969,  4.44206458],\n",
       "       [ 3.80725811,  5.36690174],\n",
       "       [ 1.67245103,  3.9081714 ],\n",
       "       [ 4.55517985,  7.66639579],\n",
       "       [ 5.83628248,  4.78254631],\n",
       "       [ 6.76782582,  4.46878033],\n",
       "       [ 6.47783268,  8.43026752],\n",
       "       [ 6.74402212,  4.15112552],\n",
       "       [ 7.22195658, 11.77619254],\n",
       "       [ 8.1509302 ,  5.213315  ],\n",
       "       [ 6.07516284,  5.33983181],\n",
       "       [ 7.87694105,  4.73046943],\n",
       "       [ 7.38535129,  5.66610765],\n",
       "       [ 4.52728812,  8.20928872],\n",
       "       [ 8.225395  ,  6.1918483 ],\n",
       "       [ 3.6276037 , 15.00553412],\n",
       "       [10.24966219,  2.88734785],\n",
       "       [10.5223119 , 13.28117368],\n",
       "       [ 7.37473386,  7.26823589],\n",
       "       [ 3.34033171, 13.09264423],\n",
       "       [ 4.57604182,  8.65279704],\n",
       "       [ 2.90392262,  9.12589412],\n",
       "       [ 5.25265838,  7.48355246],\n",
       "       [ 6.74134508,  6.05977128],\n",
       "       [ 9.27968606,  2.65009941],\n",
       "       [ 5.62624391,  3.24617395],\n",
       "       [ 2.77720979,  5.2395256 ],\n",
       "       [ 3.58735627,  7.3569108 ],\n",
       "       [ 9.82336171, 10.51457041],\n",
       "       [ 2.34433248, 10.5859835 ],\n",
       "       [ 3.62356313,  9.31946576],\n",
       "       [ 7.9157399 ,  2.9455714 ],\n",
       "       [ 6.98308256,  9.54000185],\n",
       "       [ 6.87544262,  3.94359528],\n",
       "       [ 7.88800163, 13.57607115],\n",
       "       [ 6.71354909,  6.56753647],\n",
       "       [ 9.53904629,  6.2772753 ],\n",
       "       [ 3.97988526, 11.0366574 ],\n",
       "       [ 6.5921093 ,  6.3654975 ],\n",
       "       [ 2.99687085,  5.95754138],\n",
       "       [ 7.30617924,  7.78961978],\n",
       "       [ 4.79238195,  4.81964199],\n",
       "       [ 3.93504511,  6.45979431],\n",
       "       [ 6.37588854,  6.21921865],\n",
       "       [ 1.29714821,  6.52866957],\n",
       "       [10.21428066,  6.68859824],\n",
       "       [ 6.20841098,  4.64092245],\n",
       "       [ 6.98957044,  8.58730943],\n",
       "       [ 7.00948883,  4.60125984],\n",
       "       [ 7.29637342,  3.90642073],\n",
       "       [ 6.51247507,  0.79517274],\n",
       "       [ 5.82681302, 12.44963034],\n",
       "       [ 7.06659774,  3.67870715],\n",
       "       [ 3.29161691, 15.25762752],\n",
       "       [ 5.28180135, 15.45922209],\n",
       "       [ 5.04295787, 11.44447937],\n",
       "       [ 7.76547601,  7.98948846],\n",
       "       [ 7.35881944,  7.48677189],\n",
       "       [11.90364792,  7.54140916],\n",
       "       [ 4.25049677,  5.62548598],\n",
       "       [ 8.89358644,  5.07822412],\n",
       "       [ 6.09307269,  2.74698576],\n",
       "       [ 4.01107144,  6.38083329],\n",
       "       [ 4.59589443,  9.11824473],\n",
       "       [ 6.25246501,  6.48065995],\n",
       "       [ 6.32724992, 11.30869723],\n",
       "       [ 3.85103273, 11.57737022],\n",
       "       [ 6.58080592,  5.4188741 ],\n",
       "       [ 8.01294651,  5.49788991],\n",
       "       [ 4.88945315,  8.80323809],\n",
       "       [ 8.00627018, 11.14733806],\n",
       "       [ 7.22467449,  7.24666474],\n",
       "       [ 3.61339977, 11.54540153],\n",
       "       [ 6.0136946 ,  4.85909943],\n",
       "       [ 6.55537544,  5.77488351],\n",
       "       [ 7.37065096, 11.38791593],\n",
       "       [ 7.22949484,  5.33334127],\n",
       "       [ 7.13883916,  9.4234229 ],\n",
       "       [ 6.24329462,  8.19151441],\n",
       "       [ 4.58402524, 10.38098573],\n",
       "       [ 5.9037324 ,  6.98982469],\n",
       "       [ 8.63630814,  6.34924504],\n",
       "       [ 6.53597827,  2.3134321 ],\n",
       "       [ 8.27592908,  5.57876533],\n",
       "       [ 4.37096686,  7.96372625],\n",
       "       [ 7.30001439, 11.24255398],\n",
       "       [ 5.75352823,  9.41485149],\n",
       "       [13.98381836,  7.21626315],\n",
       "       [ 4.88138122,  6.80403348],\n",
       "       [ 3.85197975,  8.48059939],\n",
       "       [ 2.37421516,  6.40286743]])"
      ]
     },
     "execution_count": 38,
     "metadata": {},
     "output_type": "execute_result"
    }
   ],
   "source": [
    "X"
   ]
  },
  {
   "cell_type": "code",
   "execution_count": 39,
   "metadata": {
    "colab": {
     "base_uri": "https://localhost:8080/",
     "height": 282
    },
    "id": "TjSYaC57XUeq",
    "outputId": "7b64cb17-4313-499e-849d-bcb93b7cbd48",
    "scrolled": true
   },
   "outputs": [
    {
     "name": "stderr",
     "output_type": "stream",
     "text": [
      "C:\\Users\\Archimage\\AppData\\Local\\Temp\\ipykernel_2292\\1686605575.py:1: UserWarning: No data for colormapping provided via 'c'. Parameters 'cmap' will be ignored\n",
      "  plt.scatter(X[:, 0], X[:, 1], cmap='autumn', s=60)\n"
     ]
    },
    {
     "data": {
      "text/plain": [
       "<matplotlib.collections.PathCollection at 0x2ae4068a150>"
      ]
     },
     "execution_count": 39,
     "metadata": {},
     "output_type": "execute_result"
    },
    {
     "data": {
      "image/png": "[encoded data removed]",
      "text/plain": [
       "<Figure size 640x480 with 1 Axes>"
      ]
     },
     "metadata": {},
     "output_type": "display_data"
    }
   ],
   "source": [
    "plt.scatter(X[:, 0], X[:, 1], cmap='autumn', s=60)"
   ]
  },
  {
   "cell_type": "code",
   "execution_count": 40,
   "metadata": {
    "id": "bWdNYOIqzzO-"
   },
   "outputs": [],
   "source": [
    "# приведем данные к единому масштабу\n",
    "from sklearn.preprocessing import StandardScaler"
   ]
  },
  {
   "cell_type": "code",
   "execution_count": 41,
   "metadata": {
    "id": "NzLJH0GBXGwQ"
   },
   "outputs": [],
   "source": [
    "scaler = StandardScaler()"
   ]
  },
  {
   "cell_type": "markdown",
   "metadata": {
    "id": "JcyHcWN-by5Q"
   },
   "source": [
    "В реальных задачах при разделении выборки на train и test нужно обучать StandardScaler только на тренировочных данных (и применять уже к тестовым данным).\n"
   ]
  },
  {
   "cell_type": "code",
   "execution_count": 42,
   "metadata": {
    "id": "ZjwJ2Nbxby5Q"
   },
   "outputs": [
    {
     "data": {
      "text/plain": [
       "array([867,  79,  25, 541, 429, 745, 848, 908, 260, 768, 571, 251, 300,\n",
       "       158, 274,  14, 899, 942,  35, 269, 300, 798, 229, 745, 332, 473,\n",
       "       107, 713, 439, 461, 148, 207, 846, 474, 949, 207,  74, 350,  95,\n",
       "       987, 142, 431, 960, 465, 779, 800, 430, 347, 615, 878, 755, 710,\n",
       "       618, 391, 442, 158, 450, 167,  22, 537, 365, 376, 536, 379, 980,\n",
       "        81,   5, 871, 918, 811, 397,  62, 878, 324, 656, 506, 480, 901,\n",
       "        81, 220, 373, 830, 251, 208, 854, 910, 626, 708, 661, 922, 528,\n",
       "       239, 604, 617, 399,  70, 131, 667, 420, 792, 327, 255, 490, 475,\n",
       "       669, 624, 804, 553, 300, 616, 959, 727, 321, 245, 604, 256, 357,\n",
       "       691, 905, 536, 692, 523, 516, 473, 357, 979, 386, 162, 643, 876,\n",
       "       708, 556, 250, 481,  87, 348, 257, 211, 263,  45, 541, 222,  83,\n",
       "       904, 307, 363, 401, 628, 406, 857, 118, 506, 731, 339, 612, 549,\n",
       "       291, 490, 254, 491, 146, 940, 725, 974, 658,  92, 631, 962, 551,\n",
       "       795, 167, 809, 557,  58,  10, 874, 854, 612, 756, 315, 282, 101,\n",
       "       632,  82, 267, 946, 874,  99, 386, 112, 545, 285, 265,  64,   6,\n",
       "       904, 498, 704,  77, 258, 758, 658, 569, 999, 204, 845, 966, 772,\n",
       "       871, 107, 222, 382, 637, 704, 996, 362, 997, 311, 665, 477, 125,\n",
       "       905, 272, 100, 426, 693, 510, 894, 830, 442, 311, 445, 907, 900,\n",
       "       676, 994, 523, 487, 610, 246, 644, 395, 810, 247, 762, 896, 675,\n",
       "       672, 473, 235,  51,  27, 277, 286, 314, 943, 101, 921, 967, 468,\n",
       "        93, 587, 105, 162, 802, 467, 544, 211, 353, 512,  18,  52, 633,\n",
       "       938, 452, 753, 378,  70, 942, 490, 639, 592,  12, 487, 174, 106,\n",
       "       639, 689, 672, 258, 539, 498, 954, 571, 133, 196, 217, 359, 873,\n",
       "       642, 925,   9, 539, 757, 516,  52, 548, 717,  38, 148, 644, 708,\n",
       "        86, 741, 543, 522, 254, 959, 493, 508, 208, 627,   9, 519, 382,\n",
       "       964, 355,  58, 327, 277, 337, 921, 198, 874, 238, 516, 456, 134,\n",
       "       546, 883, 980, 714, 559, 855, 151, 975, 650, 283, 631, 753, 460,\n",
       "       352, 824, 945, 166, 861, 423, 138, 951, 383, 732, 429, 488, 974,\n",
       "       429, 933, 681, 563, 338, 684, 308, 620, 523,  53, 151, 783, 546,\n",
       "       165,  74, 252, 425, 484, 688, 206, 525,   8, 337, 428,  81, 462,\n",
       "       253, 115,   7,  32, 740, 592, 529, 842, 948, 680, 215, 335, 762,\n",
       "       482, 871, 614, 188, 241, 272, 207, 479, 869, 455,  68, 283, 824,\n",
       "       282, 700, 608, 263,  80, 335, 263, 406, 842, 539, 461,  75, 915,\n",
       "        15, 787, 532, 843, 717, 349, 984, 786,  54, 803, 796, 850, 274,\n",
       "        81, 876, 308, 888, 355, 583,  47, 142, 961, 439, 570, 657,  51,\n",
       "       456, 708, 145, 558, 932, 390, 176, 594, 178,  39,  37, 533, 865,\n",
       "       883, 273, 792,  93, 101, 912, 397, 863, 282, 983, 339, 816,  11,\n",
       "       885, 937, 247, 860, 916, 879, 970, 782, 600, 879, 356, 350,  63,\n",
       "       860, 133, 932, 509, 978, 938])"
      ]
     },
     "execution_count": 42,
     "metadata": {},
     "output_type": "execute_result"
    }
   ],
   "source": [
    "v_1 = np.array(np.random.randint(0, 1000, 500))\n",
    "v_2 = np.array(np.random.randint(0, 10, 500))\n",
    "v_1"
   ]
  },
  {
   "cell_type": "code",
   "execution_count": null,
   "metadata": {
    "id": "1_6LhdtcFuw2"
   },
   "outputs": [],
   "source": []
  },
  {
   "cell_type": "code",
   "execution_count": null,
   "metadata": {
    "colab": {
     "base_uri": "https://localhost:8080/"
    },
    "id": "ejb3KNymby5R",
    "outputId": "e8314243-25a9-4275-e94a-7dc4b63c7847"
   },
   "outputs": [
    {
     "name": "stdout",
     "output_type": "stream",
     "text": [
      "998\n",
      "0\n",
      "9\n",
      "0\n"
     ]
    }
   ],
   "source": [
    "print(v_1.max())\n",
    "print(v_1.min())\n",
    "\n",
    "print(v_2.max())\n",
    "print(v_2.min())"
   ]
  },
  {
   "cell_type": "code",
   "execution_count": null,
   "metadata": {
    "colab": {
     "base_uri": "https://localhost:8080/"
    },
    "id": "l6wzLVZ-by5R",
    "outputId": "134f013e-f14d-4bed-96a1-2f19dd55a51a"
   },
   "outputs": [
    {
     "data": {
      "text/plain": [
       "array([[ 0.20007147],\n",
       "       [-1.22901044],\n",
       "       [-0.87173996],\n",
       "       [ 0.55734194],\n",
       "       [ 1.2718829 ],\n",
       "       [ 1.62915337],\n",
       "       [-0.51446949],\n",
       "       [-0.51446949],\n",
       "       [-1.58628092],\n",
       "       [-0.15719901],\n",
       "       [-0.15719901],\n",
       "       [-1.22901044],\n",
       "       [-1.22901044],\n",
       "       [ 0.55734194],\n",
       "       [ 0.91461242],\n",
       "       [-0.15719901],\n",
       "       [-0.51446949],\n",
       "       [ 1.2718829 ],\n",
       "       [-0.51446949],\n",
       "       [-1.22901044],\n",
       "       [ 0.20007147],\n",
       "       [-0.15719901],\n",
       "       [-0.87173996],\n",
       "       [ 0.20007147],\n",
       "       [-0.87173996],\n",
       "       [-0.15719901],\n",
       "       [ 1.2718829 ],\n",
       "       [ 0.20007147],\n",
       "       [ 0.55734194],\n",
       "       [ 0.91461242],\n",
       "       [-0.15719901],\n",
       "       [ 1.62915337],\n",
       "       [-0.87173996],\n",
       "       [ 0.20007147],\n",
       "       [ 0.91461242],\n",
       "       [-1.58628092],\n",
       "       [ 1.62915337],\n",
       "       [-0.87173996],\n",
       "       [-0.15719901],\n",
       "       [ 1.2718829 ],\n",
       "       [-1.22901044],\n",
       "       [-0.15719901],\n",
       "       [ 0.91461242],\n",
       "       [ 0.91461242],\n",
       "       [-0.15719901],\n",
       "       [-0.87173996],\n",
       "       [-0.15719901],\n",
       "       [-0.87173996],\n",
       "       [ 0.55734194],\n",
       "       [ 0.55734194],\n",
       "       [ 1.2718829 ],\n",
       "       [-0.15719901],\n",
       "       [-0.51446949],\n",
       "       [ 1.2718829 ],\n",
       "       [-0.51446949],\n",
       "       [-0.15719901],\n",
       "       [-0.87173996],\n",
       "       [-0.87173996],\n",
       "       [ 1.62915337],\n",
       "       [-1.22901044],\n",
       "       [ 0.20007147],\n",
       "       [ 0.55734194],\n",
       "       [-0.87173996],\n",
       "       [-0.51446949],\n",
       "       [ 0.20007147],\n",
       "       [ 0.20007147],\n",
       "       [ 0.91461242],\n",
       "       [-0.87173996],\n",
       "       [ 0.91461242],\n",
       "       [ 0.20007147],\n",
       "       [ 0.91461242],\n",
       "       [-1.58628092],\n",
       "       [ 0.20007147],\n",
       "       [ 1.2718829 ],\n",
       "       [ 0.55734194],\n",
       "       [-0.51446949],\n",
       "       [ 1.62915337],\n",
       "       [ 0.20007147],\n",
       "       [-0.51446949],\n",
       "       [ 1.2718829 ],\n",
       "       [-0.51446949],\n",
       "       [ 0.91461242],\n",
       "       [-0.51446949],\n",
       "       [-1.58628092],\n",
       "       [-1.22901044],\n",
       "       [ 0.91461242],\n",
       "       [ 0.55734194],\n",
       "       [-0.51446949],\n",
       "       [ 1.2718829 ],\n",
       "       [ 0.91461242],\n",
       "       [ 0.20007147],\n",
       "       [-0.87173996],\n",
       "       [-0.51446949],\n",
       "       [-0.15719901],\n",
       "       [ 1.2718829 ],\n",
       "       [-0.15719901],\n",
       "       [-0.87173996],\n",
       "       [ 1.62915337],\n",
       "       [-0.51446949],\n",
       "       [-0.51446949],\n",
       "       [-1.58628092],\n",
       "       [ 0.55734194],\n",
       "       [ 1.62915337],\n",
       "       [ 1.62915337],\n",
       "       [-0.87173996],\n",
       "       [-0.51446949],\n",
       "       [ 0.20007147],\n",
       "       [-1.58628092],\n",
       "       [ 0.20007147],\n",
       "       [ 1.62915337],\n",
       "       [-0.51446949],\n",
       "       [-1.58628092],\n",
       "       [ 0.91461242],\n",
       "       [-1.22901044],\n",
       "       [ 1.62915337],\n",
       "       [-1.22901044],\n",
       "       [-1.58628092],\n",
       "       [ 1.2718829 ],\n",
       "       [-0.87173996],\n",
       "       [-0.15719901],\n",
       "       [ 0.20007147],\n",
       "       [-1.22901044],\n",
       "       [-0.15719901],\n",
       "       [ 0.55734194],\n",
       "       [-0.87173996],\n",
       "       [-1.58628092],\n",
       "       [ 0.20007147],\n",
       "       [ 0.91461242],\n",
       "       [ 0.55734194],\n",
       "       [ 0.91461242],\n",
       "       [-1.58628092],\n",
       "       [ 1.2718829 ],\n",
       "       [-0.15719901],\n",
       "       [-0.87173996],\n",
       "       [-1.22901044],\n",
       "       [ 0.55734194],\n",
       "       [-0.51446949],\n",
       "       [-0.51446949],\n",
       "       [ 0.91461242],\n",
       "       [-1.22901044],\n",
       "       [-0.51446949],\n",
       "       [ 0.20007147],\n",
       "       [-1.58628092],\n",
       "       [-1.22901044],\n",
       "       [-0.15719901],\n",
       "       [-0.87173996],\n",
       "       [ 0.91461242],\n",
       "       [ 1.62915337],\n",
       "       [-0.15719901],\n",
       "       [ 0.55734194],\n",
       "       [-1.22901044],\n",
       "       [-1.58628092],\n",
       "       [ 0.91461242],\n",
       "       [-0.87173996],\n",
       "       [ 1.62915337],\n",
       "       [ 0.55734194],\n",
       "       [ 0.91461242],\n",
       "       [-0.87173996],\n",
       "       [ 1.2718829 ],\n",
       "       [ 0.20007147],\n",
       "       [ 0.20007147],\n",
       "       [ 0.20007147],\n",
       "       [ 0.20007147],\n",
       "       [ 1.62915337],\n",
       "       [-0.15719901],\n",
       "       [-0.15719901],\n",
       "       [ 1.62915337],\n",
       "       [-0.51446949],\n",
       "       [ 1.62915337],\n",
       "       [-1.22901044],\n",
       "       [-0.15719901],\n",
       "       [ 0.55734194],\n",
       "       [ 1.2718829 ],\n",
       "       [ 0.91461242],\n",
       "       [ 0.55734194],\n",
       "       [-0.15719901],\n",
       "       [ 0.91461242],\n",
       "       [-1.22901044],\n",
       "       [-1.58628092],\n",
       "       [ 0.55734194],\n",
       "       [-0.51446949],\n",
       "       [-0.15719901],\n",
       "       [ 0.20007147],\n",
       "       [ 0.91461242],\n",
       "       [ 1.62915337],\n",
       "       [-0.51446949],\n",
       "       [ 0.55734194],\n",
       "       [-0.87173996],\n",
       "       [-1.58628092],\n",
       "       [-0.87173996],\n",
       "       [ 0.91461242],\n",
       "       [-1.22901044],\n",
       "       [ 0.91461242],\n",
       "       [ 0.20007147],\n",
       "       [ 1.62915337],\n",
       "       [-0.51446949],\n",
       "       [ 1.2718829 ],\n",
       "       [ 1.62915337],\n",
       "       [-1.22901044],\n",
       "       [ 0.91461242],\n",
       "       [ 1.2718829 ],\n",
       "       [-0.51446949],\n",
       "       [-0.51446949],\n",
       "       [-0.87173996],\n",
       "       [-1.58628092],\n",
       "       [-0.51446949],\n",
       "       [ 0.55734194],\n",
       "       [-0.87173996],\n",
       "       [-1.22901044],\n",
       "       [-1.22901044],\n",
       "       [-1.22901044],\n",
       "       [-1.22901044],\n",
       "       [-0.87173996],\n",
       "       [-0.51446949],\n",
       "       [ 0.91461242],\n",
       "       [-1.22901044],\n",
       "       [ 0.20007147],\n",
       "       [-1.22901044],\n",
       "       [ 0.91461242],\n",
       "       [ 0.55734194],\n",
       "       [-0.51446949],\n",
       "       [ 0.55734194],\n",
       "       [-1.22901044],\n",
       "       [-1.58628092],\n",
       "       [ 0.55734194],\n",
       "       [ 0.55734194],\n",
       "       [ 0.55734194],\n",
       "       [ 0.91461242],\n",
       "       [ 0.55734194],\n",
       "       [ 0.20007147],\n",
       "       [-0.15719901],\n",
       "       [-1.58628092],\n",
       "       [ 1.2718829 ],\n",
       "       [-1.58628092],\n",
       "       [ 0.20007147],\n",
       "       [-1.58628092],\n",
       "       [ 1.62915337],\n",
       "       [ 1.62915337],\n",
       "       [ 0.91461242],\n",
       "       [-0.51446949],\n",
       "       [ 0.55734194],\n",
       "       [ 0.20007147],\n",
       "       [-1.58628092],\n",
       "       [-1.58628092],\n",
       "       [-1.22901044],\n",
       "       [ 0.20007147],\n",
       "       [-1.58628092],\n",
       "       [ 0.55734194],\n",
       "       [-0.51446949],\n",
       "       [ 1.2718829 ],\n",
       "       [ 1.62915337],\n",
       "       [-1.58628092],\n",
       "       [ 0.55734194],\n",
       "       [ 0.20007147],\n",
       "       [-1.22901044],\n",
       "       [ 1.62915337],\n",
       "       [ 1.62915337],\n",
       "       [ 0.91461242],\n",
       "       [ 1.62915337],\n",
       "       [ 1.62915337],\n",
       "       [ 1.2718829 ],\n",
       "       [-0.87173996],\n",
       "       [-0.51446949],\n",
       "       [ 0.55734194],\n",
       "       [-1.58628092],\n",
       "       [-0.15719901],\n",
       "       [ 1.62915337],\n",
       "       [ 0.20007147],\n",
       "       [-0.51446949],\n",
       "       [-0.15719901],\n",
       "       [ 0.91461242],\n",
       "       [ 0.20007147],\n",
       "       [ 1.62915337],\n",
       "       [-0.15719901],\n",
       "       [ 1.2718829 ],\n",
       "       [ 1.62915337],\n",
       "       [-1.22901044],\n",
       "       [ 0.55734194],\n",
       "       [-0.51446949],\n",
       "       [-0.15719901],\n",
       "       [ 0.91461242],\n",
       "       [-0.15719901],\n",
       "       [ 0.55734194],\n",
       "       [ 0.20007147],\n",
       "       [ 1.2718829 ],\n",
       "       [-1.22901044],\n",
       "       [ 0.55734194],\n",
       "       [ 1.62915337],\n",
       "       [ 1.62915337],\n",
       "       [-1.22901044],\n",
       "       [ 0.55734194],\n",
       "       [-0.51446949],\n",
       "       [-1.58628092],\n",
       "       [ 0.55734194],\n",
       "       [-1.58628092],\n",
       "       [-1.58628092],\n",
       "       [ 1.62915337],\n",
       "       [-0.87173996],\n",
       "       [ 0.91461242],\n",
       "       [-0.15719901],\n",
       "       [-1.22901044],\n",
       "       [ 0.55734194],\n",
       "       [ 1.62915337],\n",
       "       [-0.51446949],\n",
       "       [ 0.91461242],\n",
       "       [-1.22901044],\n",
       "       [-0.51446949],\n",
       "       [ 0.55734194],\n",
       "       [ 0.20007147],\n",
       "       [-0.51446949],\n",
       "       [-0.87173996],\n",
       "       [ 0.91461242],\n",
       "       [-0.15719901],\n",
       "       [-0.51446949],\n",
       "       [-1.58628092],\n",
       "       [ 0.55734194],\n",
       "       [ 1.62915337],\n",
       "       [ 1.62915337],\n",
       "       [-1.58628092],\n",
       "       [-0.51446949],\n",
       "       [ 0.91461242],\n",
       "       [-0.51446949],\n",
       "       [-0.87173996],\n",
       "       [ 0.55734194],\n",
       "       [-0.87173996],\n",
       "       [-1.58628092],\n",
       "       [ 0.91461242],\n",
       "       [-0.87173996],\n",
       "       [-0.15719901],\n",
       "       [-0.15719901],\n",
       "       [ 1.2718829 ],\n",
       "       [ 0.55734194],\n",
       "       [ 1.62915337],\n",
       "       [ 0.91461242],\n",
       "       [ 1.2718829 ],\n",
       "       [-0.15719901],\n",
       "       [-0.51446949],\n",
       "       [-0.15719901],\n",
       "       [ 0.55734194],\n",
       "       [-1.22901044],\n",
       "       [-1.22901044],\n",
       "       [-0.15719901],\n",
       "       [-1.58628092],\n",
       "       [-0.51446949],\n",
       "       [ 1.2718829 ],\n",
       "       [ 0.91461242],\n",
       "       [-0.51446949],\n",
       "       [ 0.91461242],\n",
       "       [ 1.62915337],\n",
       "       [ 0.55734194],\n",
       "       [-1.58628092],\n",
       "       [ 0.55734194],\n",
       "       [ 0.91461242],\n",
       "       [ 1.2718829 ],\n",
       "       [-0.87173996],\n",
       "       [-0.15719901],\n",
       "       [-1.22901044],\n",
       "       [ 1.2718829 ],\n",
       "       [ 1.62915337],\n",
       "       [-0.15719901],\n",
       "       [ 0.20007147],\n",
       "       [ 0.91461242],\n",
       "       [ 0.20007147],\n",
       "       [-1.22901044],\n",
       "       [ 0.91461242],\n",
       "       [ 1.2718829 ],\n",
       "       [ 0.55734194],\n",
       "       [-0.87173996],\n",
       "       [ 1.2718829 ],\n",
       "       [-0.87173996],\n",
       "       [ 0.55734194],\n",
       "       [-0.87173996],\n",
       "       [ 1.62915337],\n",
       "       [ 0.91461242],\n",
       "       [ 0.55734194],\n",
       "       [-0.15719901],\n",
       "       [ 0.91461242],\n",
       "       [ 0.91461242],\n",
       "       [ 0.20007147],\n",
       "       [ 0.91461242],\n",
       "       [ 1.2718829 ],\n",
       "       [ 1.62915337],\n",
       "       [ 1.2718829 ],\n",
       "       [-0.51446949],\n",
       "       [ 1.2718829 ],\n",
       "       [ 0.55734194],\n",
       "       [-0.51446949],\n",
       "       [ 0.91461242],\n",
       "       [-0.15719901],\n",
       "       [ 1.2718829 ],\n",
       "       [ 1.62915337],\n",
       "       [-0.87173996],\n",
       "       [ 1.2718829 ],\n",
       "       [ 0.91461242],\n",
       "       [-1.22901044],\n",
       "       [ 1.2718829 ],\n",
       "       [ 0.55734194],\n",
       "       [ 0.20007147],\n",
       "       [ 0.91461242],\n",
       "       [-0.51446949],\n",
       "       [-1.22901044],\n",
       "       [-0.87173996],\n",
       "       [-1.22901044],\n",
       "       [-1.58628092],\n",
       "       [ 0.20007147],\n",
       "       [-0.15719901],\n",
       "       [-1.58628092],\n",
       "       [-0.15719901],\n",
       "       [-0.87173996],\n",
       "       [ 1.2718829 ],\n",
       "       [ 0.20007147],\n",
       "       [-0.51446949],\n",
       "       [-1.58628092],\n",
       "       [ 1.62915337],\n",
       "       [-0.15719901],\n",
       "       [-1.22901044],\n",
       "       [ 0.20007147],\n",
       "       [-1.58628092],\n",
       "       [ 0.91461242],\n",
       "       [-0.15719901],\n",
       "       [ 1.62915337],\n",
       "       [-1.58628092],\n",
       "       [-1.58628092],\n",
       "       [-0.51446949],\n",
       "       [-0.51446949],\n",
       "       [ 1.62915337],\n",
       "       [ 0.20007147],\n",
       "       [-1.58628092],\n",
       "       [ 1.2718829 ],\n",
       "       [-0.51446949],\n",
       "       [ 0.20007147],\n",
       "       [-0.51446949],\n",
       "       [-1.22901044],\n",
       "       [-1.22901044],\n",
       "       [-0.87173996],\n",
       "       [ 1.2718829 ],\n",
       "       [-0.87173996],\n",
       "       [-0.51446949],\n",
       "       [-0.51446949],\n",
       "       [-0.15719901],\n",
       "       [-0.15719901],\n",
       "       [-0.87173996],\n",
       "       [-1.58628092],\n",
       "       [ 1.62915337],\n",
       "       [-1.22901044],\n",
       "       [ 1.2718829 ],\n",
       "       [-0.51446949],\n",
       "       [-0.87173996],\n",
       "       [-1.22901044],\n",
       "       [ 0.20007147],\n",
       "       [ 0.55734194],\n",
       "       [ 1.2718829 ],\n",
       "       [ 0.55734194],\n",
       "       [ 0.91461242],\n",
       "       [-1.58628092],\n",
       "       [-1.58628092],\n",
       "       [ 0.20007147],\n",
       "       [ 0.55734194],\n",
       "       [ 0.55734194],\n",
       "       [-0.87173996],\n",
       "       [-1.58628092],\n",
       "       [ 0.20007147],\n",
       "       [ 0.91461242],\n",
       "       [-0.87173996],\n",
       "       [ 1.2718829 ],\n",
       "       [-1.58628092],\n",
       "       [-0.51446949],\n",
       "       [-0.87173996],\n",
       "       [-1.22901044],\n",
       "       [-0.87173996],\n",
       "       [-0.15719901],\n",
       "       [-0.87173996],\n",
       "       [ 0.91461242],\n",
       "       [ 0.55734194],\n",
       "       [-1.22901044],\n",
       "       [ 1.62915337],\n",
       "       [ 0.55734194],\n",
       "       [-0.87173996],\n",
       "       [-1.58628092],\n",
       "       [ 1.62915337],\n",
       "       [ 0.55734194],\n",
       "       [-0.51446949],\n",
       "       [-1.58628092],\n",
       "       [ 0.20007147],\n",
       "       [ 0.20007147],\n",
       "       [-0.51446949],\n",
       "       [ 0.55734194],\n",
       "       [-1.58628092],\n",
       "       [-0.51446949],\n",
       "       [-1.22901044],\n",
       "       [-1.22901044],\n",
       "       [ 0.20007147],\n",
       "       [-0.15719901],\n",
       "       [ 1.62915337],\n",
       "       [-1.22901044],\n",
       "       [ 0.20007147],\n",
       "       [-0.87173996],\n",
       "       [-0.87173996],\n",
       "       [ 0.20007147],\n",
       "       [-0.15719901]])"
      ]
     },
     "execution_count": 55,
     "metadata": {},
     "output_type": "execute_result"
    }
   ],
   "source": [
    "v_1_scaled = scaler.fit_transform(v_1.reshape(-1, 1))\n",
    "v_1_scaled\n",
    "v_2_scaled = scaler.fit_transform(v_2.reshape(-1, 1))\n",
    "# v_2_scaled"
   ]
  },
  {
   "cell_type": "code",
   "execution_count": null,
   "metadata": {
    "colab": {
     "base_uri": "https://localhost:8080/"
    },
    "id": "Q-TdaM01by5S",
    "outputId": "1a923b08-e321-4ec1-805c-feb4f65c4a6d"
   },
   "outputs": [
    {
     "name": "stdout",
     "output_type": "stream",
     "text": [
      "1.7512710682660064\n",
      "-1.6251068543480474\n",
      "1.6291533729989964\n",
      "-1.5862809158148126\n"
     ]
    }
   ],
   "source": [
    "print(v_1_scaled.max())\n",
    "print(v_1_scaled.min())\n",
    "\n",
    "print(v_2_scaled.max())\n",
    "print(v_2_scaled.min())"
   ]
  },
  {
   "cell_type": "code",
   "execution_count": null,
   "metadata": {
    "colab": {
     "base_uri": "https://localhost:8080/"
    },
    "id": "6UC4SNUdXIru",
    "outputId": "f2fd5908-d032-4bfe-c069-e4c1ec1f1d3a"
   },
   "outputs": [
    {
     "data": {
      "text/plain": [
       "array([[ 0.52921917,  1.34891465],\n",
       "       [-0.38087255,  0.83416365],\n",
       "       [-1.92473046, -0.49903988],\n",
       "       [ 0.10331435,  1.75159185],\n",
       "       [ 0.79297487, -0.42309778],\n",
       "       [ 0.1206292 , -1.15518483],\n",
       "       [-0.04040345,  0.78928073],\n",
       "       [-0.3532285 , -1.1489502 ],\n",
       "       [-1.44724441,  0.93392802],\n",
       "       [ 1.31633778,  1.38660313],\n",
       "       [ 0.17052389,  0.14525627],\n",
       "       [-0.01641435,  0.49077408],\n",
       "       [-0.01708485,  0.97509581],\n",
       "       [-2.02635707, -1.07663442],\n",
       "       [ 0.19544226,  1.24288973],\n",
       "       [-1.72205665, -1.0393553 ],\n",
       "       [-0.0762884 , -1.0010804 ],\n",
       "       [ 0.95613224, -0.34938938],\n",
       "       [-0.35213613, -1.44889124],\n",
       "       [-1.10309121, -0.70274515],\n",
       "       [ 1.6951537 ,  0.6963599 ],\n",
       "       [-2.49704902, -0.88542593],\n",
       "       [-0.12693584,  1.67700519],\n",
       "       [-0.00992362, -0.02406353],\n",
       "       [-0.91600735, -1.08673751],\n",
       "       [ 1.06702606,  0.80847241],\n",
       "       [-0.01461086,  0.91663135],\n",
       "       [-1.03067324,  0.21871642],\n",
       "       [-0.07723319, -1.2551949 ],\n",
       "       [ 0.30464162,  1.44267756],\n",
       "       [ 1.33483931,  0.79047394],\n",
       "       [-1.532462  , -1.1110492 ],\n",
       "       [ 1.27381027,  0.98295127],\n",
       "       [-0.17649952, -1.27637352],\n",
       "       [-1.56817318, -0.83865602],\n",
       "       [-1.74700342, -0.79340765],\n",
       "       [-0.12041274, -1.06668205],\n",
       "       [ 1.65804665,  1.56416758],\n",
       "       [ 1.23977851, -1.68036898],\n",
       "       [-1.42919418, -0.5052235 ],\n",
       "       [-0.72450929, -0.71407836],\n",
       "       [-0.55872279, -0.58468277],\n",
       "       [-1.81962631, -1.77922023],\n",
       "       [ 0.64343526, -0.97587647],\n",
       "       [ 0.38429982, -0.99132694],\n",
       "       [-1.30049044, -1.17355467],\n",
       "       [ 1.1551919 , -1.09751265],\n",
       "       [ 1.01988467,  0.92682252],\n",
       "       [ 0.42163059,  1.08641757],\n",
       "       [-0.08579386, -0.34578176],\n",
       "       [ 0.19441406,  0.24551336],\n",
       "       [ 0.33095003,  1.23211933],\n",
       "       [ 1.78382229,  1.09764352],\n",
       "       [ 0.07774085,  1.71367367],\n",
       "       [ 0.06893354,  0.80315422],\n",
       "       [ 0.62082927,  1.33399864],\n",
       "       [ 0.37791441,  1.04347437],\n",
       "       [ 1.1882863 ,  1.48198709],\n",
       "       [-0.94772456, -1.3796024 ],\n",
       "       [-0.36537116,  0.05488136],\n",
       "       [-1.47318957,  1.0299326 ],\n",
       "       [ 1.1974052 ,  1.67301832],\n",
       "       [-2.48377351, -1.36974717],\n",
       "       [-0.81370632,  0.69783769],\n",
       "       [ 0.28046586,  0.68293707],\n",
       "       [ 1.16094628,  0.88658885],\n",
       "       [-0.93881194, -0.67551598],\n",
       "       [ 0.11262316, -0.46818545],\n",
       "       [-1.17932459, -0.2885382 ],\n",
       "       [ 2.21483821,  0.593082  ],\n",
       "       [ 0.99501115,  0.92343086],\n",
       "       [-1.2375517 , -1.22832123],\n",
       "       [ 0.06972505,  0.78749314],\n",
       "       [ 2.21041101,  0.71644501],\n",
       "       [-0.0630145 ,  0.92856281],\n",
       "       [-1.08920337, -0.80029582],\n",
       "       [ 1.53831445, -1.1494395 ],\n",
       "       [-0.60850576, -1.79790927],\n",
       "       [-0.5794053 ,  1.10922571],\n",
       "       [-0.15925903, -1.0797384 ],\n",
       "       [-0.54475439,  2.06349124],\n",
       "       [ 0.15057624,  0.87010925],\n",
       "       [ 0.31317591,  1.08328547],\n",
       "       [ 0.43669767, -0.20897883],\n",
       "       [ 0.36921996,  0.60941658],\n",
       "       [ 1.11193695,  1.09080796],\n",
       "       [ 1.34158794,  1.81415289],\n",
       "       [-1.40908083, -1.27483423],\n",
       "       [-0.88368748,  0.82197982],\n",
       "       [ 0.39947526, -0.57160111],\n",
       "       [-0.74762081, -0.3048516 ],\n",
       "       [ 0.44556745,  1.16811928],\n",
       "       [ 0.26301836,  1.14523356],\n",
       "       [-0.40674339, -1.22582109],\n",
       "       [-1.01755266, -1.63779754],\n",
       "       [ 0.8286336 ,  0.78005526],\n",
       "       [ 0.51940808,  1.07551935],\n",
       "       [-0.56910215,  0.61387029],\n",
       "       [-1.03757034,  1.26206048],\n",
       "       [-0.26122181, -1.63749617],\n",
       "       [-0.49563554, -0.43188965],\n",
       "       [-0.20753243,  0.55360473],\n",
       "       [-0.90832862, -0.80977471],\n",
       "       [-0.33599204, -1.76686784],\n",
       "       [ 0.99229612, -1.23891807],\n",
       "       [ 0.91290182, -0.90761813],\n",
       "       [-1.47909249, -0.82470713],\n",
       "       [-0.11529163, -0.91058358],\n",
       "       [-1.27859136, -1.01279394],\n",
       "       [ 1.03768154,  1.35457311],\n",
       "       [ 1.76500919,  1.09515527],\n",
       "       [-1.23865768, -1.02952756],\n",
       "       [-0.85811453, -0.09193964],\n",
       "       [ 0.22754883,  0.84159868],\n",
       "       [ 1.85075747,  1.08127527],\n",
       "       [ 0.38541231,  0.52354839],\n",
       "       [ 1.08307374,  1.24748831],\n",
       "       [ 0.47409815,  0.8489996 ],\n",
       "       [-0.51291027, -0.87562751],\n",
       "       [ 0.3224094 , -0.49582816],\n",
       "       [-0.05158687, -1.02589174],\n",
       "       [ 0.20974577,  0.88770542],\n",
       "       [ 0.12232524, -0.67576518],\n",
       "       [ 0.60729589, -0.81876409],\n",
       "       [-0.20410201, -0.70394025],\n",
       "       [ 0.09315983, -1.64866867],\n",
       "       [-0.30578366, -0.9106743 ],\n",
       "       [ 0.41132722, -1.33335575],\n",
       "       [ 1.64051241,  0.75819093],\n",
       "       [-0.34355511,  0.73282167],\n",
       "       [-1.77213002, -1.01768016],\n",
       "       [ 1.48032718,  0.21001291],\n",
       "       [-1.39364319, -0.21314107],\n",
       "       [ 0.18801316, -1.00164773],\n",
       "       [ 1.85072924,  0.88193011],\n",
       "       [ 0.10009455,  1.19613398],\n",
       "       [ 0.14802043,  1.52640111],\n",
       "       [-0.69341363, -0.97513147],\n",
       "       [ 0.35989334,  1.24670923],\n",
       "       [ 0.61772046, -0.53825096],\n",
       "       [ 0.91099541,  0.42091127],\n",
       "       [ 0.71857293, -0.08991686],\n",
       "       [ 1.68490777,  0.80000124],\n",
       "       [-0.64056391,  0.59139589],\n",
       "       [-1.01017552, -1.39961159],\n",
       "       [ 0.94761585,  1.05465327],\n",
       "       [-0.15160712,  0.7738906 ],\n",
       "       [ 0.63638038,  0.64300026],\n",
       "       [-1.22018784, -1.19539503],\n",
       "       [-0.7286471 , -0.46585011],\n",
       "       [ 0.99398876,  1.09045369],\n",
       "       [ 2.02372683,  0.85328528],\n",
       "       [ 0.25709208, -0.6080663 ],\n",
       "       [-1.71963133, -1.2807992 ],\n",
       "       [ 0.4064592 ,  1.271362  ],\n",
       "       [-0.49887994, -0.63641501],\n",
       "       [-0.11787458,  0.76390964],\n",
       "       [-0.35373986, -1.10686542],\n",
       "       [-1.85673606, -0.76984849],\n",
       "       [-0.86608949, -0.71655348],\n",
       "       [ 0.32731935, -0.99368935],\n",
       "       [-1.01009214, -0.75185366],\n",
       "       [ 1.70210094, -0.34640595],\n",
       "       [ 0.19525687, -0.65549491],\n",
       "       [ 0.3802299 ,  0.80375787],\n",
       "       [ 0.91331487,  0.767709  ],\n",
       "       [-0.62582808, -1.3137194 ],\n",
       "       [ 1.70524627,  0.93861626],\n",
       "       [-1.83585496, -1.35197659],\n",
       "       [-0.62748801, -0.87596355],\n",
       "       [ 0.89918853,  0.76931381],\n",
       "       [ 1.10204191, -1.48330146],\n",
       "       [ 0.19554509, -0.6969388 ],\n",
       "       [ 1.23381625,  0.96295655],\n",
       "       [ 0.58591934, -0.95157575],\n",
       "       [ 0.9202692 ,  0.49454133],\n",
       "       [-0.24845645, -0.70206603],\n",
       "       [ 0.68947498,  1.38720388],\n",
       "       [ 0.88482096,  0.74617941],\n",
       "       [ 0.58764093, -0.16966027],\n",
       "       [ 0.55455391,  0.17068209],\n",
       "       [-0.3545063 , -1.20369621],\n",
       "       [-0.73391881,  1.46405738],\n",
       "       [ 1.00865081,  0.77306376],\n",
       "       [-0.44575027,  0.46870465],\n",
       "       [-0.12291347,  0.98708505],\n",
       "       [-1.49037372, -0.86840541],\n",
       "       [-1.14000358,  0.63151659],\n",
       "       [ 0.05676138, -0.5173074 ],\n",
       "       [-1.86034384, -1.46280711],\n",
       "       [-0.51580503, -0.68392297],\n",
       "       [ 0.50120282, -0.59739149],\n",
       "       [-0.80894142, -0.45906901],\n",
       "       [-0.88534282,  0.80533018],\n",
       "       [-1.60585196, -0.62882   ],\n",
       "       [ 0.18837629, -0.57096867],\n",
       "       [-0.57933678, -0.3901879 ],\n",
       "       [ 2.21977459,  1.30085582],\n",
       "       [ 1.14604265,  0.66376646],\n",
       "       [-0.18117552, -0.49485678]])"
      ]
     },
     "execution_count": 57,
     "metadata": {},
     "output_type": "execute_result"
    }
   ],
   "source": [
    "# fit-transform сразу обучается и преобразует данные\n",
    "X_scaled = scaler.fit_transform(X)\n",
    "X_scaled"
   ]
  },
  {
   "cell_type": "code",
   "execution_count": null,
   "metadata": {
    "colab": {
     "base_uri": "https://localhost:8080/",
     "height": 282
    },
    "id": "TRnNnC3kXbcr",
    "outputId": "a3915072-2c99-42b8-81d8-8eb3ab21c918"
   },
   "outputs": [
    {
     "data": {
      "text/plain": [
       "<matplotlib.collections.PathCollection at 0x7fe0eee67b90>"
      ]
     },
     "execution_count": 58,
     "metadata": {},
     "output_type": "execute_result"
    },
    {
     "data": {
      "image/png": "[encoded data removed]",
      "text/plain": [
       "<Figure size 432x288 with 1 Axes>"
      ]
     },
     "metadata": {
      "needs_background": "light"
     },
     "output_type": "display_data"
    }
   ],
   "source": [
    "plt.scatter(X_scaled[:, 0], X_scaled[:, 1], cmap='autumn', s=60)"
   ]
  },
  {
   "cell_type": "code",
   "execution_count": null,
   "metadata": {
    "id": "XftqUwUlYLIj"
   },
   "outputs": [],
   "source": [
    "from sklearn.cluster import KMeans"
   ]
  },
  {
   "cell_type": "code",
   "execution_count": null,
   "metadata": {
    "colab": {
     "base_uri": "https://localhost:8080/"
    },
    "id": "7PkhGAB-YN1C",
    "outputId": "bc0b1ea1-5397-409b-deb5-210a7b7ef4c6"
   },
   "outputs": [
    {
     "data": {
      "text/plain": [
       "array([1, 1, 0, 1, 1, 0, 1, 0, 1, 1, 1, 1, 1, 0, 1, 0, 0, 1, 0, 0, 1, 0,\n",
       "       1, 0, 0, 1, 1, 0, 0, 1, 1, 0, 1, 0, 0, 0, 0, 1, 0, 0, 0, 0, 0, 0,\n",
       "       0, 0, 0, 1, 1, 0, 1, 1, 1, 1, 1, 1, 1, 1, 0, 0, 1, 1, 0, 1, 1, 1,\n",
       "       0, 0, 0, 1, 1, 0, 1, 1, 1, 0, 0, 0, 1, 0, 1, 1, 1, 1, 1, 1, 1, 0,\n",
       "       1, 0, 0, 1, 1, 0, 0, 1, 1, 1, 1, 0, 0, 1, 0, 0, 0, 0, 0, 0, 0, 1,\n",
       "       1, 0, 0, 1, 1, 1, 1, 1, 0, 0, 0, 1, 0, 0, 0, 0, 0, 0, 1, 1, 0, 1,\n",
       "       0, 0, 1, 1, 1, 0, 1, 0, 1, 1, 1, 1, 0, 1, 1, 1, 0, 0, 1, 1, 0, 0,\n",
       "       1, 0, 1, 0, 0, 0, 0, 0, 1, 0, 1, 1, 0, 1, 0, 0, 1, 0, 0, 1, 0, 1,\n",
       "       0, 1, 1, 1, 1, 0, 1, 1, 1, 1, 0, 0, 0, 0, 0, 0, 0, 1, 0, 0, 0, 1,\n",
       "       1, 0], dtype=int32)"
      ]
     },
     "execution_count": 60,
     "metadata": {},
     "output_type": "execute_result"
    }
   ],
   "source": [
    "# явно указываем количество кластеров\n",
    "kmeans = KMeans(n_clusters=2)\n",
    "# fit_predict обучается на данных и каждому объекту присваивает кластер\n",
    "clusters = kmeans.fit_predict(X_scaled)\n",
    "clusters"
   ]
  },
  {
   "cell_type": "code",
   "execution_count": null,
   "metadata": {
    "colab": {
     "base_uri": "https://localhost:8080/",
     "height": 282
    },
    "id": "EIhtpQU4YXiR",
    "outputId": "9cbffc9c-81cd-4681-c869-7f0652679d3d"
   },
   "outputs": [
    {
     "data": {
      "text/plain": [
       "<matplotlib.collections.PathCollection at 0x7fe0edf1be50>"
      ]
     },
     "execution_count": 62,
     "metadata": {},
     "output_type": "execute_result"
    },
    {
     "data": {
      "image/png": "[encoded data removed]",
      "text/plain": [
       "<Figure size 432x288 with 1 Axes>"
      ]
     },
     "metadata": {
      "needs_background": "light"
     },
     "output_type": "display_data"
    }
   ],
   "source": [
    "plt.scatter(X_scaled[:, 0], X_scaled[:, 1], cmap='autumn', c=clusters, s=60)"
   ]
  },
  {
   "cell_type": "code",
   "execution_count": null,
   "metadata": {
    "id": "JakzZ_1WYbgI"
   },
   "outputs": [],
   "source": [
    "# строим график локтя\n",
    "\n",
    "# создаем список для инерции\n",
    "k_inertia = []\n",
    "# задаем диапазон кластеров\n",
    "ks = range(1, 20)\n",
    "\n",
    "for k in ks:\n",
    "    clf_kmeans = KMeans(n_clusters=k)\n",
    "    clusters_kmeans = clf_kmeans.fit_predict(X_scaled)\n",
    "    # добавляем инерцию каждой модели в список\n",
    "    k_inertia.append(clf_kmeans.inertia_)"
   ]
  },
  {
   "cell_type": "code",
   "execution_count": null,
   "metadata": {
    "colab": {
     "base_uri": "https://localhost:8080/",
     "height": 282
    },
    "id": "BL2K84DOYzQp",
    "outputId": "4cdf55a9-65c7-4599-a7f9-1ce1dc259ee7"
   },
   "outputs": [
    {
     "data": {
      "text/plain": [
       "[<matplotlib.lines.Line2D at 0x7fe0ede4c410>]"
      ]
     },
     "execution_count": 64,
     "metadata": {},
     "output_type": "execute_result"
    },
    {
     "data": {
      "image/png": "[encoded data removed]",
      "text/plain": [
       "<Figure size 432x288 with 1 Axes>"
      ]
     },
     "metadata": {
      "needs_background": "light"
     },
     "output_type": "display_data"
    }
   ],
   "source": [
    "plt.plot(ks, k_inertia)\n",
    "plt.plot(ks, k_inertia, 'ro')"
   ]
  },
  {
   "cell_type": "markdown",
   "metadata": {
    "id": "07VGmeIrby5U"
   },
   "source": [
    "Иерархическая кластеризация"
   ]
  },
  {
   "cell_type": "code",
   "execution_count": null,
   "metadata": {
    "id": "wGWt37snY1ak"
   },
   "outputs": [],
   "source": [
    "from scipy.spatial.distance import pdist\n",
    "from scipy.cluster import hierarchy"
   ]
  },
  {
   "cell_type": "code",
   "execution_count": null,
   "metadata": {
    "colab": {
     "base_uri": "https://localhost:8080/",
     "height": 537
    },
    "id": "UL2QOOH_Y8vL",
    "outputId": "68be5d42-0139-44f4-8007-7e1fdc492288"
   },
   "outputs": [
    {
     "data": {
      "image/png": "[encoded data removed]",
      "text/plain": [
       "<Figure size 1440x648 with 1 Axes>"
      ]
     },
     "metadata": {
      "needs_background": "light"
     },
     "output_type": "display_data"
    }
   ],
   "source": [
    "# строим дендрограмму\n",
    "distance_mat = pdist(X_scaled)  # pdist посчитает нам матрицу попарных расстояний между точками\n",
    "# Z = hierarchy.linkage(distance_mat) # linkage — реализация агломеративного алгоритма\n",
    "Z = hierarchy.linkage(distance_mat, 'ward')\n",
    "plt.figure(figsize=(20, 9))\n",
    "dn = hierarchy.dendrogram(Z)"
   ]
  },
  {
   "cell_type": "code",
   "execution_count": null,
   "metadata": {
    "id": "K_0ejaBzZBIv"
   },
   "outputs": [],
   "source": [
    "# делаем уже кластеризацию по факту\n",
    "from sklearn.cluster import AgglomerativeClustering"
   ]
  },
  {
   "cell_type": "code",
   "execution_count": null,
   "metadata": {
    "colab": {
     "base_uri": "https://localhost:8080/"
    },
    "id": "wjEgXrmpZVrY",
    "outputId": "33100eda-70da-4085-bff0-d437f9a06994"
   },
   "outputs": [
    {
     "data": {
      "text/plain": [
       "array([1, 1, 0, 1, 0, 0, 1, 0, 1, 1, 1, 1, 1, 0, 1, 0, 0, 0, 0, 0, 1, 0,\n",
       "       1, 1, 0, 1, 1, 0, 0, 1, 1, 0, 1, 0, 0, 0, 0, 1, 0, 0, 0, 0, 0, 0,\n",
       "       0, 0, 0, 1, 1, 0, 1, 1, 1, 1, 1, 1, 1, 1, 0, 1, 1, 1, 0, 1, 1, 1,\n",
       "       0, 0, 0, 1, 1, 0, 1, 1, 1, 0, 0, 0, 1, 0, 1, 1, 1, 0, 1, 1, 1, 0,\n",
       "       1, 0, 0, 1, 1, 0, 0, 1, 1, 1, 1, 0, 0, 1, 0, 0, 0, 0, 0, 0, 0, 1,\n",
       "       1, 0, 0, 1, 1, 1, 1, 1, 0, 0, 0, 1, 0, 0, 0, 0, 0, 0, 1, 1, 0, 0,\n",
       "       0, 0, 1, 1, 1, 0, 1, 0, 1, 0, 1, 1, 0, 1, 1, 1, 0, 0, 1, 1, 0, 0,\n",
       "       1, 0, 1, 0, 0, 0, 0, 0, 0, 0, 1, 1, 0, 1, 0, 0, 1, 0, 0, 1, 0, 1,\n",
       "       0, 1, 1, 0, 0, 0, 1, 1, 1, 1, 0, 1, 0, 0, 0, 0, 0, 1, 0, 0, 0, 1,\n",
       "       1, 0])"
      ]
     },
     "execution_count": 68,
     "metadata": {},
     "output_type": "execute_result"
    }
   ],
   "source": [
    "aglo = AgglomerativeClustering(n_clusters=2)\n",
    "clusters = aglo.fit_predict(X_scaled)\n",
    "clusters"
   ]
  },
  {
   "cell_type": "code",
   "execution_count": null,
   "metadata": {
    "colab": {
     "base_uri": "https://localhost:8080/",
     "height": 282
    },
    "id": "Us0SDSD1ZtX7",
    "outputId": "902368bc-fd77-4a4b-caec-ad4492f9ca2b"
   },
   "outputs": [
    {
     "data": {
      "text/plain": [
       "<matplotlib.collections.PathCollection at 0x7fe0ed6bda10>"
      ]
     },
     "execution_count": 69,
     "metadata": {},
     "output_type": "execute_result"
    },
    {
     "data": {
      "image/png": "[encoded data removed]",
      "text/plain": [
       "<Figure size 432x288 with 1 Axes>"
      ]
     },
     "metadata": {
      "needs_background": "light"
     },
     "output_type": "display_data"
    }
   ],
   "source": [
    "plt.scatter(X_scaled[:, 0], X_scaled[:, 1], cmap='autumn', c=clusters, s=60)"
   ]
  },
  {
   "cell_type": "code",
   "execution_count": null,
   "metadata": {
    "colab": {
     "base_uri": "https://localhost:8080/",
     "height": 423
    },
    "id": "tPUIlJOaZv5J",
    "outputId": "5ec50bb4-ea7b-47ba-bfda-0bbbcfbdc0d4"
   },
   "outputs": [
    {
     "data": {
      "text/html": [
       "\n",
       "  <div id=\"df-6560668b-b026-41bd-a35a-8a70405d4465\">\n",
       "    <div class=\"colab-df-container\">\n",
       "      <div>\n",
       "<style scoped>\n",
       "    .dataframe tbody tr th:only-of-type {\n",
       "        vertical-align: middle;\n",
       "    }\n",
       "\n",
       "    .dataframe tbody tr th {\n",
       "        vertical-align: top;\n",
       "    }\n",
       "\n",
       "    .dataframe thead th {\n",
       "        text-align: right;\n",
       "    }\n",
       "</style>\n",
       "<table border=\"1\" class=\"dataframe\">\n",
       "  <thead>\n",
       "    <tr style=\"text-align: right;\">\n",
       "      <th></th>\n",
       "      <th>0</th>\n",
       "      <th>1</th>\n",
       "      <th>y_hat</th>\n",
       "    </tr>\n",
       "  </thead>\n",
       "  <tbody>\n",
       "    <tr>\n",
       "      <th>0</th>\n",
       "      <td>-4.094006</td>\n",
       "      <td>3.828146</td>\n",
       "      <td>1</td>\n",
       "    </tr>\n",
       "    <tr>\n",
       "      <th>1</th>\n",
       "      <td>-6.594884</td>\n",
       "      <td>1.059300</td>\n",
       "      <td>1</td>\n",
       "    </tr>\n",
       "    <tr>\n",
       "      <th>2</th>\n",
       "      <td>-10.837313</td>\n",
       "      <td>-6.112001</td>\n",
       "      <td>0</td>\n",
       "    </tr>\n",
       "    <tr>\n",
       "      <th>3</th>\n",
       "      <td>-5.264367</td>\n",
       "      <td>5.994146</td>\n",
       "      <td>1</td>\n",
       "    </tr>\n",
       "    <tr>\n",
       "      <th>4</th>\n",
       "      <td>-3.369221</td>\n",
       "      <td>-5.703509</td>\n",
       "      <td>0</td>\n",
       "    </tr>\n",
       "    <tr>\n",
       "      <th>...</th>\n",
       "      <td>...</td>\n",
       "      <td>...</td>\n",
       "      <td>...</td>\n",
       "    </tr>\n",
       "    <tr>\n",
       "      <th>195</th>\n",
       "      <td>-5.030622</td>\n",
       "      <td>-6.498906</td>\n",
       "      <td>0</td>\n",
       "    </tr>\n",
       "    <tr>\n",
       "      <th>196</th>\n",
       "      <td>-7.140251</td>\n",
       "      <td>-5.526486</td>\n",
       "      <td>0</td>\n",
       "    </tr>\n",
       "    <tr>\n",
       "      <th>197</th>\n",
       "      <td>0.551539</td>\n",
       "      <td>3.569637</td>\n",
       "      <td>1</td>\n",
       "    </tr>\n",
       "    <tr>\n",
       "      <th>198</th>\n",
       "      <td>-2.399012</td>\n",
       "      <td>0.142734</td>\n",
       "      <td>1</td>\n",
       "    </tr>\n",
       "    <tr>\n",
       "      <th>199</th>\n",
       "      <td>-6.046128</td>\n",
       "      <td>-6.089500</td>\n",
       "      <td>0</td>\n",
       "    </tr>\n",
       "  </tbody>\n",
       "</table>\n",
       "<p>200 rows × 3 columns</p>\n",
       "</div>\n",
       "      <button class=\"colab-df-convert\" onclick=\"convertToInteractive('df-6560668b-b026-41bd-a35a-8a70405d4465')\"\n",
       "              title=\"Convert this dataframe to an interactive table.\"\n",
       "              style=\"display:none;\">\n",
       "        \n",
       "  <svg xmlns=\"http://www.w3.org/2000/svg\" height=\"24px\"viewBox=\"0 0 24 24\"\n",
       "       width=\"24px\">\n",
       "    <path d=\"M0 0h24v24H0V0z\" fill=\"none\"/>\n",
       "    <path d=\"M18.56 5.44l.94 2.06.94-2.06 2.06-.94-2.06-.94-.94-2.06-.94 2.06-2.06.94zm-11 1L8.5 8.5l.94-2.06 2.06-.94-2.06-.94L8.5 2.5l-.94 2.06-2.06.94zm10 10l.94 2.06.94-2.06 2.06-.94-2.06-.94-.94-2.06-.94 2.06-2.06.94z\"/><path d=\"M17.41 7.96l-1.37-1.37c-.4-.4-.92-.59-1.43-.59-.52 0-1.04.2-1.43.59L10.3 9.45l-7.72 7.72c-.78.78-.78 2.05 0 2.83L4 21.41c.39.39.9.59 1.41.59.51 0 1.02-.2 1.41-.59l7.78-7.78 2.81-2.81c.8-.78.8-2.07 0-2.86zM5.41 20L4 18.59l7.72-7.72 1.47 1.35L5.41 20z\"/>\n",
       "  </svg>\n",
       "      </button>\n",
       "      \n",
       "  <style>\n",
       "    .colab-df-container {\n",
       "      display:flex;\n",
       "      flex-wrap:wrap;\n",
       "      gap: 12px;\n",
       "    }\n",
       "\n",
       "    .colab-df-convert {\n",
       "      background-color: #E8F0FE;\n",
       "      border: none;\n",
       "      border-radius: 50%;\n",
       "      cursor: pointer;\n",
       "      display: none;\n",
       "      fill: #1967D2;\n",
       "      height: 32px;\n",
       "      padding: 0 0 0 0;\n",
       "      width: 32px;\n",
       "    }\n",
       "\n",
       "    .colab-df-convert:hover {\n",
       "      background-color: #E2EBFA;\n",
       "      box-shadow: 0px 1px 2px rgba(60, 64, 67, 0.3), 0px 1px 3px 1px rgba(60, 64, 67, 0.15);\n",
       "      fill: #174EA6;\n",
       "    }\n",
       "\n",
       "    [theme=dark] .colab-df-convert {\n",
       "      background-color: #3B4455;\n",
       "      fill: #D2E3FC;\n",
       "    }\n",
       "\n",
       "    [theme=dark] .colab-df-convert:hover {\n",
       "      background-color: #434B5C;\n",
       "      box-shadow: 0px 1px 3px 1px rgba(0, 0, 0, 0.15);\n",
       "      filter: drop-shadow(0px 1px 2px rgba(0, 0, 0, 0.3));\n",
       "      fill: #FFFFFF;\n",
       "    }\n",
       "  </style>\n",
       "\n",
       "      <script>\n",
       "        const buttonEl =\n",
       "          document.querySelector('#df-6560668b-b026-41bd-a35a-8a70405d4465 button.colab-df-convert');\n",
       "        buttonEl.style.display =\n",
       "          google.colab.kernel.accessAllowed ? 'block' : 'none';\n",
       "\n",
       "        async function convertToInteractive(key) {\n",
       "          const element = document.querySelector('#df-6560668b-b026-41bd-a35a-8a70405d4465');\n",
       "          const dataTable =\n",
       "            await google.colab.kernel.invokeFunction('convertToInteractive',\n",
       "                                                     [key], {});\n",
       "          if (!dataTable) return;\n",
       "\n",
       "          const docLinkHtml = 'Like what you see? Visit the ' +\n",
       "            '<a target=\"_blank\" href=https://colab.research.google.com/notebooks/data_table.ipynb>data table notebook</a>'\n",
       "            + ' to learn more about interactive tables.';\n",
       "          element.innerHTML = '';\n",
       "          dataTable['output_type'] = 'display_data';\n",
       "          await google.colab.output.renderOutput(dataTable, element);\n",
       "          const docLink = document.createElement('div');\n",
       "          docLink.innerHTML = docLinkHtml;\n",
       "          element.appendChild(docLink);\n",
       "        }\n",
       "      </script>\n",
       "    </div>\n",
       "  </div>\n",
       "  "
      ],
      "text/plain": [
       "             0         1  y_hat\n",
       "0    -4.094006  3.828146      1\n",
       "1    -6.594884  1.059300      1\n",
       "2   -10.837313 -6.112001      0\n",
       "3    -5.264367  5.994146      1\n",
       "4    -3.369221 -5.703509      0\n",
       "..         ...       ...    ...\n",
       "195  -5.030622 -6.498906      0\n",
       "196  -7.140251 -5.526486      0\n",
       "197   0.551539  3.569637      1\n",
       "198  -2.399012  0.142734      1\n",
       "199  -6.046128 -6.089500      0\n",
       "\n",
       "[200 rows x 3 columns]"
      ]
     },
     "execution_count": 70,
     "metadata": {},
     "output_type": "execute_result"
    }
   ],
   "source": [
    "df = pd.DataFrame(X)\n",
    "df['y_hat'] = clusters\n",
    "df"
   ]
  },
  {
   "cell_type": "code",
   "execution_count": null,
   "metadata": {
    "id": "CBOo1CERby5W"
   },
   "outputs": [],
   "source": []
  }
 ],
 "metadata": {
  "colab": {
   "provenance": []
  },
  "kernelspec": {
   "display_name": "Python 3",
   "language": "python",
   "name": "python3"
  },
  "language_info": {
   "codemirror_mode": {
    "name": "ipython",
    "version": 3
   },
   "file_extension": ".py",
   "mimetype": "text/x-python",
   "name": "python",
   "nbconvert_exporter": "python",
   "pygments_lexer": "ipython3",
   "version": "3.11.5"
  }
 },
 "nbformat": 4,
 "nbformat_minor": 0
}
