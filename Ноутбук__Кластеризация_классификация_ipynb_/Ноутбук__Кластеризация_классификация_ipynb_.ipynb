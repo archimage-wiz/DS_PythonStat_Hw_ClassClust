{
  "nbformat": 4,
  "nbformat_minor": 0,
  "metadata": {
    "colab": {
      "provenance": []
    },
    "kernelspec": {
      "display_name": "Python 3",
      "language": "python",
      "name": "python3"
    },
    "language_info": {
      "codemirror_mode": {
        "name": "ipython",
        "version": 3
      },
      "file_extension": ".py",
      "mimetype": "text/x-python",
      "name": "python",
      "nbconvert_exporter": "python",
      "pygments_lexer": "ipython3",
      "version": "3.8.3"
    }
  },
  "cells": [
    {
      "cell_type": "code",
      "metadata": {
        "id": "-ppToJrUWoJ0"
      },
      "source": [
        "from sklearn.datasets import load_wine\n",
        "import pandas as pd\n",
        "import numpy as np\n",
        "import matplotlib.pyplot as plt\n",
        "from matplotlib import colors"
      ],
      "execution_count": null,
      "outputs": []
    },
    {
      "cell_type": "code",
      "metadata": {
        "id": "ik4WLSx51KZY"
      },
      "source": [
        "cmap = colors.LinearSegmentedColormap(\n",
        "    'red_blue_classes',\n",
        "    {'red': [(0, 1, 1), (1, 0.7, 0.7)],\n",
        "     'green': [(0, 0.7, 0.7), (1, 0.7, 0.7)],\n",
        "     'blue': [(0, 0.7, 0.7), (1, 1, 1)]})\n",
        "plt.cm.register_cmap(cmap=cmap)"
      ],
      "execution_count": null,
      "outputs": []
    },
    {
      "cell_type": "code",
      "metadata": {
        "id": "cmLC9M6oW2v8"
      },
      "source": [
        "wine = load_wine()"
      ],
      "execution_count": null,
      "outputs": []
    },
    {
      "cell_type": "code",
      "metadata": {
        "id": "7eptbMYNvq0S",
        "colab": {
          "base_uri": "https://localhost:8080/"
        },
        "outputId": "6d4fc0d1-62cb-4efe-bd76-9c4b2f129615"
      },
      "source": [
        "print(wine.DESCR)"
      ],
      "execution_count": null,
      "outputs": [
        {
          "output_type": "stream",
          "name": "stdout",
          "text": [
            ".. _wine_dataset:\n",
            "\n",
            "Wine recognition dataset\n",
            "------------------------\n",
            "\n",
            "**Data Set Characteristics:**\n",
            "\n",
            "    :Number of Instances: 178 (50 in each of three classes)\n",
            "    :Number of Attributes: 13 numeric, predictive attributes and the class\n",
            "    :Attribute Information:\n",
            " \t\t- Alcohol\n",
            " \t\t- Malic acid\n",
            " \t\t- Ash\n",
            "\t\t- Alcalinity of ash  \n",
            " \t\t- Magnesium\n",
            "\t\t- Total phenols\n",
            " \t\t- Flavanoids\n",
            " \t\t- Nonflavanoid phenols\n",
            " \t\t- Proanthocyanins\n",
            "\t\t- Color intensity\n",
            " \t\t- Hue\n",
            " \t\t- OD280/OD315 of diluted wines\n",
            " \t\t- Proline\n",
            "\n",
            "    - class:\n",
            "            - class_0\n",
            "            - class_1\n",
            "            - class_2\n",
            "\t\t\n",
            "    :Summary Statistics:\n",
            "    \n",
            "    ============================= ==== ===== ======= =====\n",
            "                                   Min   Max   Mean     SD\n",
            "    ============================= ==== ===== ======= =====\n",
            "    Alcohol:                      11.0  14.8    13.0   0.8\n",
            "    Malic Acid:                   0.74  5.80    2.34  1.12\n",
            "    Ash:                          1.36  3.23    2.36  0.27\n",
            "    Alcalinity of Ash:            10.6  30.0    19.5   3.3\n",
            "    Magnesium:                    70.0 162.0    99.7  14.3\n",
            "    Total Phenols:                0.98  3.88    2.29  0.63\n",
            "    Flavanoids:                   0.34  5.08    2.03  1.00\n",
            "    Nonflavanoid Phenols:         0.13  0.66    0.36  0.12\n",
            "    Proanthocyanins:              0.41  3.58    1.59  0.57\n",
            "    Colour Intensity:              1.3  13.0     5.1   2.3\n",
            "    Hue:                          0.48  1.71    0.96  0.23\n",
            "    OD280/OD315 of diluted wines: 1.27  4.00    2.61  0.71\n",
            "    Proline:                       278  1680     746   315\n",
            "    ============================= ==== ===== ======= =====\n",
            "\n",
            "    :Missing Attribute Values: None\n",
            "    :Class Distribution: class_0 (59), class_1 (71), class_2 (48)\n",
            "    :Creator: R.A. Fisher\n",
            "    :Donor: Michael Marshall (MARSHALL%PLU@io.arc.nasa.gov)\n",
            "    :Date: July, 1988\n",
            "\n",
            "This is a copy of UCI ML Wine recognition datasets.\n",
            "https://archive.ics.uci.edu/ml/machine-learning-databases/wine/wine.data\n",
            "\n",
            "The data is the results of a chemical analysis of wines grown in the same\n",
            "region in Italy by three different cultivators. There are thirteen different\n",
            "measurements taken for different constituents found in the three types of\n",
            "wine.\n",
            "\n",
            "Original Owners: \n",
            "\n",
            "Forina, M. et al, PARVUS - \n",
            "An Extendible Package for Data Exploration, Classification and Correlation. \n",
            "Institute of Pharmaceutical and Food Analysis and Technologies,\n",
            "Via Brigata Salerno, 16147 Genoa, Italy.\n",
            "\n",
            "Citation:\n",
            "\n",
            "Lichman, M. (2013). UCI Machine Learning Repository\n",
            "[https://archive.ics.uci.edu/ml]. Irvine, CA: University of California,\n",
            "School of Information and Computer Science. \n",
            "\n",
            ".. topic:: References\n",
            "\n",
            "  (1) S. Aeberhard, D. Coomans and O. de Vel, \n",
            "  Comparison of Classifiers in High Dimensional Settings, \n",
            "  Tech. Rep. no. 92-02, (1992), Dept. of Computer Science and Dept. of  \n",
            "  Mathematics and Statistics, James Cook University of North Queensland. \n",
            "  (Also submitted to Technometrics). \n",
            "\n",
            "  The data was used with many others for comparing various \n",
            "  classifiers. The classes are separable, though only RDA \n",
            "  has achieved 100% correct classification. \n",
            "  (RDA : 100%, QDA 99.4%, LDA 98.9%, 1NN 96.1% (z-transformed data)) \n",
            "  (All results using the leave-one-out technique) \n",
            "\n",
            "  (2) S. Aeberhard, D. Coomans and O. de Vel, \n",
            "  \"THE CLASSIFICATION PERFORMANCE OF RDA\" \n",
            "  Tech. Rep. no. 92-01, (1992), Dept. of Computer Science and Dept. of \n",
            "  Mathematics and Statistics, James Cook University of North Queensland. \n",
            "  (Also submitted to Journal of Chemometrics).\n",
            "\n"
          ]
        }
      ]
    },
    {
      "cell_type": "code",
      "metadata": {
        "id": "7rO21IhnvyIo"
      },
      "source": [
        "# загружаем данные в датафрейм\n",
        "data = pd.DataFrame(wine.data, columns=wine.feature_names)\n",
        "data_class = wine.target"
      ],
      "execution_count": null,
      "outputs": []
    },
    {
      "cell_type": "code",
      "metadata": {
        "id": "M92y_fa2wBjn",
        "colab": {
          "base_uri": "https://localhost:8080/",
          "height": 423
        },
        "outputId": "1252f211-b445-47d9-a501-6968ea815f81"
      },
      "source": [
        "data"
      ],
      "execution_count": null,
      "outputs": [
        {
          "output_type": "execute_result",
          "data": {
            "text/plain": [
              "     alcohol  malic_acid   ash  alcalinity_of_ash  magnesium  total_phenols  \\\n",
              "0      14.23        1.71  2.43               15.6      127.0           2.80   \n",
              "1      13.20        1.78  2.14               11.2      100.0           2.65   \n",
              "2      13.16        2.36  2.67               18.6      101.0           2.80   \n",
              "3      14.37        1.95  2.50               16.8      113.0           3.85   \n",
              "4      13.24        2.59  2.87               21.0      118.0           2.80   \n",
              "..       ...         ...   ...                ...        ...            ...   \n",
              "173    13.71        5.65  2.45               20.5       95.0           1.68   \n",
              "174    13.40        3.91  2.48               23.0      102.0           1.80   \n",
              "175    13.27        4.28  2.26               20.0      120.0           1.59   \n",
              "176    13.17        2.59  2.37               20.0      120.0           1.65   \n",
              "177    14.13        4.10  2.74               24.5       96.0           2.05   \n",
              "\n",
              "     flavanoids  nonflavanoid_phenols  proanthocyanins  color_intensity   hue  \\\n",
              "0          3.06                  0.28             2.29             5.64  1.04   \n",
              "1          2.76                  0.26             1.28             4.38  1.05   \n",
              "2          3.24                  0.30             2.81             5.68  1.03   \n",
              "3          3.49                  0.24             2.18             7.80  0.86   \n",
              "4          2.69                  0.39             1.82             4.32  1.04   \n",
              "..          ...                   ...              ...              ...   ...   \n",
              "173        0.61                  0.52             1.06             7.70  0.64   \n",
              "174        0.75                  0.43             1.41             7.30  0.70   \n",
              "175        0.69                  0.43             1.35            10.20  0.59   \n",
              "176        0.68                  0.53             1.46             9.30  0.60   \n",
              "177        0.76                  0.56             1.35             9.20  0.61   \n",
              "\n",
              "     od280/od315_of_diluted_wines  proline  \n",
              "0                            3.92   1065.0  \n",
              "1                            3.40   1050.0  \n",
              "2                            3.17   1185.0  \n",
              "3                            3.45   1480.0  \n",
              "4                            2.93    735.0  \n",
              "..                            ...      ...  \n",
              "173                          1.74    740.0  \n",
              "174                          1.56    750.0  \n",
              "175                          1.56    835.0  \n",
              "176                          1.62    840.0  \n",
              "177                          1.60    560.0  \n",
              "\n",
              "[178 rows x 13 columns]"
            ],
            "text/html": [
              "\n",
              "  <div id=\"df-e1272f35-24f9-4809-b45b-4c50e9cf9440\">\n",
              "    <div class=\"colab-df-container\">\n",
              "      <div>\n",
              "<style scoped>\n",
              "    .dataframe tbody tr th:only-of-type {\n",
              "        vertical-align: middle;\n",
              "    }\n",
              "\n",
              "    .dataframe tbody tr th {\n",
              "        vertical-align: top;\n",
              "    }\n",
              "\n",
              "    .dataframe thead th {\n",
              "        text-align: right;\n",
              "    }\n",
              "</style>\n",
              "<table border=\"1\" class=\"dataframe\">\n",
              "  <thead>\n",
              "    <tr style=\"text-align: right;\">\n",
              "      <th></th>\n",
              "      <th>alcohol</th>\n",
              "      <th>malic_acid</th>\n",
              "      <th>ash</th>\n",
              "      <th>alcalinity_of_ash</th>\n",
              "      <th>magnesium</th>\n",
              "      <th>total_phenols</th>\n",
              "      <th>flavanoids</th>\n",
              "      <th>nonflavanoid_phenols</th>\n",
              "      <th>proanthocyanins</th>\n",
              "      <th>color_intensity</th>\n",
              "      <th>hue</th>\n",
              "      <th>od280/od315_of_diluted_wines</th>\n",
              "      <th>proline</th>\n",
              "    </tr>\n",
              "  </thead>\n",
              "  <tbody>\n",
              "    <tr>\n",
              "      <th>0</th>\n",
              "      <td>14.23</td>\n",
              "      <td>1.71</td>\n",
              "      <td>2.43</td>\n",
              "      <td>15.6</td>\n",
              "      <td>127.0</td>\n",
              "      <td>2.80</td>\n",
              "      <td>3.06</td>\n",
              "      <td>0.28</td>\n",
              "      <td>2.29</td>\n",
              "      <td>5.64</td>\n",
              "      <td>1.04</td>\n",
              "      <td>3.92</td>\n",
              "      <td>1065.0</td>\n",
              "    </tr>\n",
              "    <tr>\n",
              "      <th>1</th>\n",
              "      <td>13.20</td>\n",
              "      <td>1.78</td>\n",
              "      <td>2.14</td>\n",
              "      <td>11.2</td>\n",
              "      <td>100.0</td>\n",
              "      <td>2.65</td>\n",
              "      <td>2.76</td>\n",
              "      <td>0.26</td>\n",
              "      <td>1.28</td>\n",
              "      <td>4.38</td>\n",
              "      <td>1.05</td>\n",
              "      <td>3.40</td>\n",
              "      <td>1050.0</td>\n",
              "    </tr>\n",
              "    <tr>\n",
              "      <th>2</th>\n",
              "      <td>13.16</td>\n",
              "      <td>2.36</td>\n",
              "      <td>2.67</td>\n",
              "      <td>18.6</td>\n",
              "      <td>101.0</td>\n",
              "      <td>2.80</td>\n",
              "      <td>3.24</td>\n",
              "      <td>0.30</td>\n",
              "      <td>2.81</td>\n",
              "      <td>5.68</td>\n",
              "      <td>1.03</td>\n",
              "      <td>3.17</td>\n",
              "      <td>1185.0</td>\n",
              "    </tr>\n",
              "    <tr>\n",
              "      <th>3</th>\n",
              "      <td>14.37</td>\n",
              "      <td>1.95</td>\n",
              "      <td>2.50</td>\n",
              "      <td>16.8</td>\n",
              "      <td>113.0</td>\n",
              "      <td>3.85</td>\n",
              "      <td>3.49</td>\n",
              "      <td>0.24</td>\n",
              "      <td>2.18</td>\n",
              "      <td>7.80</td>\n",
              "      <td>0.86</td>\n",
              "      <td>3.45</td>\n",
              "      <td>1480.0</td>\n",
              "    </tr>\n",
              "    <tr>\n",
              "      <th>4</th>\n",
              "      <td>13.24</td>\n",
              "      <td>2.59</td>\n",
              "      <td>2.87</td>\n",
              "      <td>21.0</td>\n",
              "      <td>118.0</td>\n",
              "      <td>2.80</td>\n",
              "      <td>2.69</td>\n",
              "      <td>0.39</td>\n",
              "      <td>1.82</td>\n",
              "      <td>4.32</td>\n",
              "      <td>1.04</td>\n",
              "      <td>2.93</td>\n",
              "      <td>735.0</td>\n",
              "    </tr>\n",
              "    <tr>\n",
              "      <th>...</th>\n",
              "      <td>...</td>\n",
              "      <td>...</td>\n",
              "      <td>...</td>\n",
              "      <td>...</td>\n",
              "      <td>...</td>\n",
              "      <td>...</td>\n",
              "      <td>...</td>\n",
              "      <td>...</td>\n",
              "      <td>...</td>\n",
              "      <td>...</td>\n",
              "      <td>...</td>\n",
              "      <td>...</td>\n",
              "      <td>...</td>\n",
              "    </tr>\n",
              "    <tr>\n",
              "      <th>173</th>\n",
              "      <td>13.71</td>\n",
              "      <td>5.65</td>\n",
              "      <td>2.45</td>\n",
              "      <td>20.5</td>\n",
              "      <td>95.0</td>\n",
              "      <td>1.68</td>\n",
              "      <td>0.61</td>\n",
              "      <td>0.52</td>\n",
              "      <td>1.06</td>\n",
              "      <td>7.70</td>\n",
              "      <td>0.64</td>\n",
              "      <td>1.74</td>\n",
              "      <td>740.0</td>\n",
              "    </tr>\n",
              "    <tr>\n",
              "      <th>174</th>\n",
              "      <td>13.40</td>\n",
              "      <td>3.91</td>\n",
              "      <td>2.48</td>\n",
              "      <td>23.0</td>\n",
              "      <td>102.0</td>\n",
              "      <td>1.80</td>\n",
              "      <td>0.75</td>\n",
              "      <td>0.43</td>\n",
              "      <td>1.41</td>\n",
              "      <td>7.30</td>\n",
              "      <td>0.70</td>\n",
              "      <td>1.56</td>\n",
              "      <td>750.0</td>\n",
              "    </tr>\n",
              "    <tr>\n",
              "      <th>175</th>\n",
              "      <td>13.27</td>\n",
              "      <td>4.28</td>\n",
              "      <td>2.26</td>\n",
              "      <td>20.0</td>\n",
              "      <td>120.0</td>\n",
              "      <td>1.59</td>\n",
              "      <td>0.69</td>\n",
              "      <td>0.43</td>\n",
              "      <td>1.35</td>\n",
              "      <td>10.20</td>\n",
              "      <td>0.59</td>\n",
              "      <td>1.56</td>\n",
              "      <td>835.0</td>\n",
              "    </tr>\n",
              "    <tr>\n",
              "      <th>176</th>\n",
              "      <td>13.17</td>\n",
              "      <td>2.59</td>\n",
              "      <td>2.37</td>\n",
              "      <td>20.0</td>\n",
              "      <td>120.0</td>\n",
              "      <td>1.65</td>\n",
              "      <td>0.68</td>\n",
              "      <td>0.53</td>\n",
              "      <td>1.46</td>\n",
              "      <td>9.30</td>\n",
              "      <td>0.60</td>\n",
              "      <td>1.62</td>\n",
              "      <td>840.0</td>\n",
              "    </tr>\n",
              "    <tr>\n",
              "      <th>177</th>\n",
              "      <td>14.13</td>\n",
              "      <td>4.10</td>\n",
              "      <td>2.74</td>\n",
              "      <td>24.5</td>\n",
              "      <td>96.0</td>\n",
              "      <td>2.05</td>\n",
              "      <td>0.76</td>\n",
              "      <td>0.56</td>\n",
              "      <td>1.35</td>\n",
              "      <td>9.20</td>\n",
              "      <td>0.61</td>\n",
              "      <td>1.60</td>\n",
              "      <td>560.0</td>\n",
              "    </tr>\n",
              "  </tbody>\n",
              "</table>\n",
              "<p>178 rows × 13 columns</p>\n",
              "</div>\n",
              "      <button class=\"colab-df-convert\" onclick=\"convertToInteractive('df-e1272f35-24f9-4809-b45b-4c50e9cf9440')\"\n",
              "              title=\"Convert this dataframe to an interactive table.\"\n",
              "              style=\"display:none;\">\n",
              "        \n",
              "  <svg xmlns=\"http://www.w3.org/2000/svg\" height=\"24px\"viewBox=\"0 0 24 24\"\n",
              "       width=\"24px\">\n",
              "    <path d=\"M0 0h24v24H0V0z\" fill=\"none\"/>\n",
              "    <path d=\"M18.56 5.44l.94 2.06.94-2.06 2.06-.94-2.06-.94-.94-2.06-.94 2.06-2.06.94zm-11 1L8.5 8.5l.94-2.06 2.06-.94-2.06-.94L8.5 2.5l-.94 2.06-2.06.94zm10 10l.94 2.06.94-2.06 2.06-.94-2.06-.94-.94-2.06-.94 2.06-2.06.94z\"/><path d=\"M17.41 7.96l-1.37-1.37c-.4-.4-.92-.59-1.43-.59-.52 0-1.04.2-1.43.59L10.3 9.45l-7.72 7.72c-.78.78-.78 2.05 0 2.83L4 21.41c.39.39.9.59 1.41.59.51 0 1.02-.2 1.41-.59l7.78-7.78 2.81-2.81c.8-.78.8-2.07 0-2.86zM5.41 20L4 18.59l7.72-7.72 1.47 1.35L5.41 20z\"/>\n",
              "  </svg>\n",
              "      </button>\n",
              "      \n",
              "  <style>\n",
              "    .colab-df-container {\n",
              "      display:flex;\n",
              "      flex-wrap:wrap;\n",
              "      gap: 12px;\n",
              "    }\n",
              "\n",
              "    .colab-df-convert {\n",
              "      background-color: #E8F0FE;\n",
              "      border: none;\n",
              "      border-radius: 50%;\n",
              "      cursor: pointer;\n",
              "      display: none;\n",
              "      fill: #1967D2;\n",
              "      height: 32px;\n",
              "      padding: 0 0 0 0;\n",
              "      width: 32px;\n",
              "    }\n",
              "\n",
              "    .colab-df-convert:hover {\n",
              "      background-color: #E2EBFA;\n",
              "      box-shadow: 0px 1px 2px rgba(60, 64, 67, 0.3), 0px 1px 3px 1px rgba(60, 64, 67, 0.15);\n",
              "      fill: #174EA6;\n",
              "    }\n",
              "\n",
              "    [theme=dark] .colab-df-convert {\n",
              "      background-color: #3B4455;\n",
              "      fill: #D2E3FC;\n",
              "    }\n",
              "\n",
              "    [theme=dark] .colab-df-convert:hover {\n",
              "      background-color: #434B5C;\n",
              "      box-shadow: 0px 1px 3px 1px rgba(0, 0, 0, 0.15);\n",
              "      filter: drop-shadow(0px 1px 2px rgba(0, 0, 0, 0.3));\n",
              "      fill: #FFFFFF;\n",
              "    }\n",
              "  </style>\n",
              "\n",
              "      <script>\n",
              "        const buttonEl =\n",
              "          document.querySelector('#df-e1272f35-24f9-4809-b45b-4c50e9cf9440 button.colab-df-convert');\n",
              "        buttonEl.style.display =\n",
              "          google.colab.kernel.accessAllowed ? 'block' : 'none';\n",
              "\n",
              "        async function convertToInteractive(key) {\n",
              "          const element = document.querySelector('#df-e1272f35-24f9-4809-b45b-4c50e9cf9440');\n",
              "          const dataTable =\n",
              "            await google.colab.kernel.invokeFunction('convertToInteractive',\n",
              "                                                     [key], {});\n",
              "          if (!dataTable) return;\n",
              "\n",
              "          const docLinkHtml = 'Like what you see? Visit the ' +\n",
              "            '<a target=\"_blank\" href=https://colab.research.google.com/notebooks/data_table.ipynb>data table notebook</a>'\n",
              "            + ' to learn more about interactive tables.';\n",
              "          element.innerHTML = '';\n",
              "          dataTable['output_type'] = 'display_data';\n",
              "          await google.colab.output.renderOutput(dataTable, element);\n",
              "          const docLink = document.createElement('div');\n",
              "          docLink.innerHTML = docLinkHtml;\n",
              "          element.appendChild(docLink);\n",
              "        }\n",
              "      </script>\n",
              "    </div>\n",
              "  </div>\n",
              "  "
            ]
          },
          "metadata": {},
          "execution_count": 7
        }
      ]
    },
    {
      "cell_type": "code",
      "metadata": {
        "id": "4u8TEZjzby45",
        "colab": {
          "base_uri": "https://localhost:8080/"
        },
        "outputId": "d55600b9-c7a6-4dee-9a73-2d36382acf08"
      },
      "source": [
        "data_class"
      ],
      "execution_count": null,
      "outputs": [
        {
          "output_type": "execute_result",
          "data": {
            "text/plain": [
              "array([0, 0, 0, 0, 0, 0, 0, 0, 0, 0, 0, 0, 0, 0, 0, 0, 0, 0, 0, 0, 0, 0,\n",
              "       0, 0, 0, 0, 0, 0, 0, 0, 0, 0, 0, 0, 0, 0, 0, 0, 0, 0, 0, 0, 0, 0,\n",
              "       0, 0, 0, 0, 0, 0, 0, 0, 0, 0, 0, 0, 0, 0, 0, 1, 1, 1, 1, 1, 1, 1,\n",
              "       1, 1, 1, 1, 1, 1, 1, 1, 1, 1, 1, 1, 1, 1, 1, 1, 1, 1, 1, 1, 1, 1,\n",
              "       1, 1, 1, 1, 1, 1, 1, 1, 1, 1, 1, 1, 1, 1, 1, 1, 1, 1, 1, 1, 1, 1,\n",
              "       1, 1, 1, 1, 1, 1, 1, 1, 1, 1, 1, 1, 1, 1, 1, 1, 1, 1, 1, 1, 2, 2,\n",
              "       2, 2, 2, 2, 2, 2, 2, 2, 2, 2, 2, 2, 2, 2, 2, 2, 2, 2, 2, 2, 2, 2,\n",
              "       2, 2, 2, 2, 2, 2, 2, 2, 2, 2, 2, 2, 2, 2, 2, 2, 2, 2, 2, 2, 2, 2,\n",
              "       2, 2])"
            ]
          },
          "metadata": {},
          "execution_count": 8
        }
      ]
    },
    {
      "cell_type": "code",
      "metadata": {
        "id": "lFjqjX-iwCaW"
      },
      "source": [
        "# разделяем выборку на тренировочную и тестовую\n",
        "from sklearn.model_selection import train_test_split\n",
        "X_train, X_test, y_train, y_test = train_test_split(data, data_class, test_size=0.25, random_state=42)"
      ],
      "execution_count": null,
      "outputs": []
    },
    {
      "cell_type": "code",
      "metadata": {
        "id": "ygkZ_ffYby48",
        "colab": {
          "base_uri": "https://localhost:8080/"
        },
        "outputId": "8b234ca5-ec35-4e3c-dd4f-f7c6bd82e81d"
      },
      "source": [
        "len(y_test)"
      ],
      "execution_count": null,
      "outputs": [
        {
          "output_type": "execute_result",
          "data": {
            "text/plain": [
              "45"
            ]
          },
          "metadata": {},
          "execution_count": 10
        }
      ]
    },
    {
      "cell_type": "code",
      "metadata": {
        "id": "6HINhvLtwdZT"
      },
      "source": [
        "# импортируем LDA-функционал\n",
        "from sklearn.discriminant_analysis import LinearDiscriminantAnalysis"
      ],
      "execution_count": null,
      "outputs": []
    },
    {
      "cell_type": "code",
      "metadata": {
        "id": "0Us8oVotwku1"
      },
      "source": [
        "lda = LinearDiscriminantAnalysis()"
      ],
      "execution_count": null,
      "outputs": []
    },
    {
      "cell_type": "code",
      "metadata": {
        "id": "h5Ufc5sjwnZ3",
        "colab": {
          "base_uri": "https://localhost:8080/"
        },
        "outputId": "d84bfc63-0626-49d1-b060-42d0afca71d7"
      },
      "source": [
        "# обучаем данные\n",
        "lda.fit(X_train, y_train)"
      ],
      "execution_count": null,
      "outputs": [
        {
          "output_type": "execute_result",
          "data": {
            "text/plain": [
              "LinearDiscriminantAnalysis()"
            ]
          },
          "metadata": {},
          "execution_count": 13
        }
      ]
    },
    {
      "cell_type": "code",
      "metadata": {
        "id": "bcZ3H-T1xSWu",
        "colab": {
          "base_uri": "https://localhost:8080/"
        },
        "outputId": "9b81ea99-0deb-43a3-9d68-298cca80be63"
      },
      "source": [
        "# делаем прогноз на тестовой выборке\n",
        "lda.predict(X_test)"
      ],
      "execution_count": null,
      "outputs": [
        {
          "output_type": "execute_result",
          "data": {
            "text/plain": [
              "array([0, 0, 2, 0, 1, 0, 1, 2, 1, 2, 0, 2, 0, 1, 0, 1, 1, 1, 0, 1, 0, 1,\n",
              "       1, 2, 2, 2, 1, 1, 1, 0, 0, 1, 2, 0, 0, 0, 2, 2, 1, 2, 0, 1, 1, 1,\n",
              "       2])"
            ]
          },
          "metadata": {},
          "execution_count": 14
        }
      ]
    },
    {
      "cell_type": "code",
      "metadata": {
        "id": "9wGodM6OxUds"
      },
      "source": [
        "# смотрим разницу факта и прогноза\n",
        "result = pd.DataFrame([y_test, lda.predict(X_test)]).T"
      ],
      "execution_count": null,
      "outputs": []
    },
    {
      "cell_type": "code",
      "metadata": {
        "id": "RK4zDP6ZxaXI",
        "colab": {
          "base_uri": "https://localhost:8080/",
          "height": 1000
        },
        "outputId": "775a10db-d7e2-4ec3-c86d-19486c3637c0"
      },
      "source": [
        "result"
      ],
      "execution_count": null,
      "outputs": [
        {
          "output_type": "execute_result",
          "data": {
            "text/plain": [
              "    0  1\n",
              "0   0  0\n",
              "1   0  0\n",
              "2   2  2\n",
              "3   0  0\n",
              "4   1  1\n",
              "5   0  0\n",
              "6   1  1\n",
              "7   2  2\n",
              "8   1  1\n",
              "9   2  2\n",
              "10  0  0\n",
              "11  2  2\n",
              "12  0  0\n",
              "13  1  1\n",
              "14  0  0\n",
              "15  1  1\n",
              "16  1  1\n",
              "17  1  1\n",
              "18  0  0\n",
              "19  1  1\n",
              "20  0  0\n",
              "21  1  1\n",
              "22  1  1\n",
              "23  2  2\n",
              "24  2  2\n",
              "25  2  2\n",
              "26  1  1\n",
              "27  1  1\n",
              "28  1  1\n",
              "29  0  0\n",
              "30  0  0\n",
              "31  1  1\n",
              "32  2  2\n",
              "33  0  0\n",
              "34  0  0\n",
              "35  0  0\n",
              "36  2  2\n",
              "37  2  2\n",
              "38  1  1\n",
              "39  2  2\n",
              "40  0  0\n",
              "41  1  1\n",
              "42  1  1\n",
              "43  1  1\n",
              "44  2  2"
            ],
            "text/html": [
              "\n",
              "  <div id=\"df-8d64f29f-cc57-4d9a-b731-ebff60cc45b2\">\n",
              "    <div class=\"colab-df-container\">\n",
              "      <div>\n",
              "<style scoped>\n",
              "    .dataframe tbody tr th:only-of-type {\n",
              "        vertical-align: middle;\n",
              "    }\n",
              "\n",
              "    .dataframe tbody tr th {\n",
              "        vertical-align: top;\n",
              "    }\n",
              "\n",
              "    .dataframe thead th {\n",
              "        text-align: right;\n",
              "    }\n",
              "</style>\n",
              "<table border=\"1\" class=\"dataframe\">\n",
              "  <thead>\n",
              "    <tr style=\"text-align: right;\">\n",
              "      <th></th>\n",
              "      <th>0</th>\n",
              "      <th>1</th>\n",
              "    </tr>\n",
              "  </thead>\n",
              "  <tbody>\n",
              "    <tr>\n",
              "      <th>0</th>\n",
              "      <td>0</td>\n",
              "      <td>0</td>\n",
              "    </tr>\n",
              "    <tr>\n",
              "      <th>1</th>\n",
              "      <td>0</td>\n",
              "      <td>0</td>\n",
              "    </tr>\n",
              "    <tr>\n",
              "      <th>2</th>\n",
              "      <td>2</td>\n",
              "      <td>2</td>\n",
              "    </tr>\n",
              "    <tr>\n",
              "      <th>3</th>\n",
              "      <td>0</td>\n",
              "      <td>0</td>\n",
              "    </tr>\n",
              "    <tr>\n",
              "      <th>4</th>\n",
              "      <td>1</td>\n",
              "      <td>1</td>\n",
              "    </tr>\n",
              "    <tr>\n",
              "      <th>5</th>\n",
              "      <td>0</td>\n",
              "      <td>0</td>\n",
              "    </tr>\n",
              "    <tr>\n",
              "      <th>6</th>\n",
              "      <td>1</td>\n",
              "      <td>1</td>\n",
              "    </tr>\n",
              "    <tr>\n",
              "      <th>7</th>\n",
              "      <td>2</td>\n",
              "      <td>2</td>\n",
              "    </tr>\n",
              "    <tr>\n",
              "      <th>8</th>\n",
              "      <td>1</td>\n",
              "      <td>1</td>\n",
              "    </tr>\n",
              "    <tr>\n",
              "      <th>9</th>\n",
              "      <td>2</td>\n",
              "      <td>2</td>\n",
              "    </tr>\n",
              "    <tr>\n",
              "      <th>10</th>\n",
              "      <td>0</td>\n",
              "      <td>0</td>\n",
              "    </tr>\n",
              "    <tr>\n",
              "      <th>11</th>\n",
              "      <td>2</td>\n",
              "      <td>2</td>\n",
              "    </tr>\n",
              "    <tr>\n",
              "      <th>12</th>\n",
              "      <td>0</td>\n",
              "      <td>0</td>\n",
              "    </tr>\n",
              "    <tr>\n",
              "      <th>13</th>\n",
              "      <td>1</td>\n",
              "      <td>1</td>\n",
              "    </tr>\n",
              "    <tr>\n",
              "      <th>14</th>\n",
              "      <td>0</td>\n",
              "      <td>0</td>\n",
              "    </tr>\n",
              "    <tr>\n",
              "      <th>15</th>\n",
              "      <td>1</td>\n",
              "      <td>1</td>\n",
              "    </tr>\n",
              "    <tr>\n",
              "      <th>16</th>\n",
              "      <td>1</td>\n",
              "      <td>1</td>\n",
              "    </tr>\n",
              "    <tr>\n",
              "      <th>17</th>\n",
              "      <td>1</td>\n",
              "      <td>1</td>\n",
              "    </tr>\n",
              "    <tr>\n",
              "      <th>18</th>\n",
              "      <td>0</td>\n",
              "      <td>0</td>\n",
              "    </tr>\n",
              "    <tr>\n",
              "      <th>19</th>\n",
              "      <td>1</td>\n",
              "      <td>1</td>\n",
              "    </tr>\n",
              "    <tr>\n",
              "      <th>20</th>\n",
              "      <td>0</td>\n",
              "      <td>0</td>\n",
              "    </tr>\n",
              "    <tr>\n",
              "      <th>21</th>\n",
              "      <td>1</td>\n",
              "      <td>1</td>\n",
              "    </tr>\n",
              "    <tr>\n",
              "      <th>22</th>\n",
              "      <td>1</td>\n",
              "      <td>1</td>\n",
              "    </tr>\n",
              "    <tr>\n",
              "      <th>23</th>\n",
              "      <td>2</td>\n",
              "      <td>2</td>\n",
              "    </tr>\n",
              "    <tr>\n",
              "      <th>24</th>\n",
              "      <td>2</td>\n",
              "      <td>2</td>\n",
              "    </tr>\n",
              "    <tr>\n",
              "      <th>25</th>\n",
              "      <td>2</td>\n",
              "      <td>2</td>\n",
              "    </tr>\n",
              "    <tr>\n",
              "      <th>26</th>\n",
              "      <td>1</td>\n",
              "      <td>1</td>\n",
              "    </tr>\n",
              "    <tr>\n",
              "      <th>27</th>\n",
              "      <td>1</td>\n",
              "      <td>1</td>\n",
              "    </tr>\n",
              "    <tr>\n",
              "      <th>28</th>\n",
              "      <td>1</td>\n",
              "      <td>1</td>\n",
              "    </tr>\n",
              "    <tr>\n",
              "      <th>29</th>\n",
              "      <td>0</td>\n",
              "      <td>0</td>\n",
              "    </tr>\n",
              "    <tr>\n",
              "      <th>30</th>\n",
              "      <td>0</td>\n",
              "      <td>0</td>\n",
              "    </tr>\n",
              "    <tr>\n",
              "      <th>31</th>\n",
              "      <td>1</td>\n",
              "      <td>1</td>\n",
              "    </tr>\n",
              "    <tr>\n",
              "      <th>32</th>\n",
              "      <td>2</td>\n",
              "      <td>2</td>\n",
              "    </tr>\n",
              "    <tr>\n",
              "      <th>33</th>\n",
              "      <td>0</td>\n",
              "      <td>0</td>\n",
              "    </tr>\n",
              "    <tr>\n",
              "      <th>34</th>\n",
              "      <td>0</td>\n",
              "      <td>0</td>\n",
              "    </tr>\n",
              "    <tr>\n",
              "      <th>35</th>\n",
              "      <td>0</td>\n",
              "      <td>0</td>\n",
              "    </tr>\n",
              "    <tr>\n",
              "      <th>36</th>\n",
              "      <td>2</td>\n",
              "      <td>2</td>\n",
              "    </tr>\n",
              "    <tr>\n",
              "      <th>37</th>\n",
              "      <td>2</td>\n",
              "      <td>2</td>\n",
              "    </tr>\n",
              "    <tr>\n",
              "      <th>38</th>\n",
              "      <td>1</td>\n",
              "      <td>1</td>\n",
              "    </tr>\n",
              "    <tr>\n",
              "      <th>39</th>\n",
              "      <td>2</td>\n",
              "      <td>2</td>\n",
              "    </tr>\n",
              "    <tr>\n",
              "      <th>40</th>\n",
              "      <td>0</td>\n",
              "      <td>0</td>\n",
              "    </tr>\n",
              "    <tr>\n",
              "      <th>41</th>\n",
              "      <td>1</td>\n",
              "      <td>1</td>\n",
              "    </tr>\n",
              "    <tr>\n",
              "      <th>42</th>\n",
              "      <td>1</td>\n",
              "      <td>1</td>\n",
              "    </tr>\n",
              "    <tr>\n",
              "      <th>43</th>\n",
              "      <td>1</td>\n",
              "      <td>1</td>\n",
              "    </tr>\n",
              "    <tr>\n",
              "      <th>44</th>\n",
              "      <td>2</td>\n",
              "      <td>2</td>\n",
              "    </tr>\n",
              "  </tbody>\n",
              "</table>\n",
              "</div>\n",
              "      <button class=\"colab-df-convert\" onclick=\"convertToInteractive('df-8d64f29f-cc57-4d9a-b731-ebff60cc45b2')\"\n",
              "              title=\"Convert this dataframe to an interactive table.\"\n",
              "              style=\"display:none;\">\n",
              "        \n",
              "  <svg xmlns=\"http://www.w3.org/2000/svg\" height=\"24px\"viewBox=\"0 0 24 24\"\n",
              "       width=\"24px\">\n",
              "    <path d=\"M0 0h24v24H0V0z\" fill=\"none\"/>\n",
              "    <path d=\"M18.56 5.44l.94 2.06.94-2.06 2.06-.94-2.06-.94-.94-2.06-.94 2.06-2.06.94zm-11 1L8.5 8.5l.94-2.06 2.06-.94-2.06-.94L8.5 2.5l-.94 2.06-2.06.94zm10 10l.94 2.06.94-2.06 2.06-.94-2.06-.94-.94-2.06-.94 2.06-2.06.94z\"/><path d=\"M17.41 7.96l-1.37-1.37c-.4-.4-.92-.59-1.43-.59-.52 0-1.04.2-1.43.59L10.3 9.45l-7.72 7.72c-.78.78-.78 2.05 0 2.83L4 21.41c.39.39.9.59 1.41.59.51 0 1.02-.2 1.41-.59l7.78-7.78 2.81-2.81c.8-.78.8-2.07 0-2.86zM5.41 20L4 18.59l7.72-7.72 1.47 1.35L5.41 20z\"/>\n",
              "  </svg>\n",
              "      </button>\n",
              "      \n",
              "  <style>\n",
              "    .colab-df-container {\n",
              "      display:flex;\n",
              "      flex-wrap:wrap;\n",
              "      gap: 12px;\n",
              "    }\n",
              "\n",
              "    .colab-df-convert {\n",
              "      background-color: #E8F0FE;\n",
              "      border: none;\n",
              "      border-radius: 50%;\n",
              "      cursor: pointer;\n",
              "      display: none;\n",
              "      fill: #1967D2;\n",
              "      height: 32px;\n",
              "      padding: 0 0 0 0;\n",
              "      width: 32px;\n",
              "    }\n",
              "\n",
              "    .colab-df-convert:hover {\n",
              "      background-color: #E2EBFA;\n",
              "      box-shadow: 0px 1px 2px rgba(60, 64, 67, 0.3), 0px 1px 3px 1px rgba(60, 64, 67, 0.15);\n",
              "      fill: #174EA6;\n",
              "    }\n",
              "\n",
              "    [theme=dark] .colab-df-convert {\n",
              "      background-color: #3B4455;\n",
              "      fill: #D2E3FC;\n",
              "    }\n",
              "\n",
              "    [theme=dark] .colab-df-convert:hover {\n",
              "      background-color: #434B5C;\n",
              "      box-shadow: 0px 1px 3px 1px rgba(0, 0, 0, 0.15);\n",
              "      filter: drop-shadow(0px 1px 2px rgba(0, 0, 0, 0.3));\n",
              "      fill: #FFFFFF;\n",
              "    }\n",
              "  </style>\n",
              "\n",
              "      <script>\n",
              "        const buttonEl =\n",
              "          document.querySelector('#df-8d64f29f-cc57-4d9a-b731-ebff60cc45b2 button.colab-df-convert');\n",
              "        buttonEl.style.display =\n",
              "          google.colab.kernel.accessAllowed ? 'block' : 'none';\n",
              "\n",
              "        async function convertToInteractive(key) {\n",
              "          const element = document.querySelector('#df-8d64f29f-cc57-4d9a-b731-ebff60cc45b2');\n",
              "          const dataTable =\n",
              "            await google.colab.kernel.invokeFunction('convertToInteractive',\n",
              "                                                     [key], {});\n",
              "          if (!dataTable) return;\n",
              "\n",
              "          const docLinkHtml = 'Like what you see? Visit the ' +\n",
              "            '<a target=\"_blank\" href=https://colab.research.google.com/notebooks/data_table.ipynb>data table notebook</a>'\n",
              "            + ' to learn more about interactive tables.';\n",
              "          element.innerHTML = '';\n",
              "          dataTable['output_type'] = 'display_data';\n",
              "          await google.colab.output.renderOutput(dataTable, element);\n",
              "          const docLink = document.createElement('div');\n",
              "          docLink.innerHTML = docLinkHtml;\n",
              "          element.appendChild(docLink);\n",
              "        }\n",
              "      </script>\n",
              "    </div>\n",
              "  </div>\n",
              "  "
            ]
          },
          "metadata": {},
          "execution_count": 16
        }
      ]
    },
    {
      "cell_type": "code",
      "metadata": {
        "id": "B66nVhbk2Mf1"
      },
      "source": [
        "# расчет точности - отношение верных прогнозов к общему количеству позиций\n",
        "# является хорошей метрикой для сбалансированных классов\n",
        "# (наблюдений в категориях примерно одинаковое количество)\n",
        "\n",
        "from sklearn.metrics import accuracy_score"
      ],
      "execution_count": null,
      "outputs": []
    },
    {
      "cell_type": "code",
      "metadata": {
        "id": "2x5pYOZB2P2F",
        "colab": {
          "base_uri": "https://localhost:8080/"
        },
        "outputId": "34bda971-b84f-42dd-fb5a-e150f1565853"
      },
      "source": [
        "accuracy_score(y_test, lda.predict(X_test))"
      ],
      "execution_count": null,
      "outputs": [
        {
          "output_type": "execute_result",
          "data": {
            "text/plain": [
              "1.0"
            ]
          },
          "metadata": {},
          "execution_count": 18
        }
      ]
    },
    {
      "cell_type": "code",
      "metadata": {
        "id": "aBdqgd5ixdMh",
        "colab": {
          "base_uri": "https://localhost:8080/"
        },
        "outputId": "e007ce6c-3f52-4036-b1e4-9bc95ca7b8a3"
      },
      "source": [
        "# коэффициенты дискриминатных линий\n",
        "lda.coef_"
      ],
      "execution_count": null,
      "outputs": [
        {
          "output_type": "execute_result",
          "data": {
            "text/plain": [
              "array([[ 2.77785654e+00, -2.62823777e-01,  6.34033699e+00,\n",
              "        -9.23264800e-01,  1.12148061e-03, -1.73622434e+00,\n",
              "         4.95743646e+00,  3.14554165e+00, -1.19253447e+00,\n",
              "        -8.98034416e-01, -1.73258088e-01,  3.81064150e+00,\n",
              "         1.36856107e-02],\n",
              "       [-2.00764892e+00, -4.89578703e-01, -6.54854947e+00,\n",
              "         4.49722072e-01,  4.06933168e-05, -7.56394603e-01,\n",
              "         1.34633325e+00,  2.67670321e+00,  1.06737575e+00,\n",
              "        -6.98689535e-01,  3.51943073e+00,  4.92874648e-01,\n",
              "        -5.99014310e-03],\n",
              "       [-4.39452636e-01,  1.04199771e+00,  1.89161928e+00,\n",
              "         4.66343927e-01, -1.43060813e-03,  3.23563291e+00,\n",
              "        -8.04119074e+00, -7.78525286e+00, -1.13872164e-01,\n",
              "         2.12622388e+00, -4.96962424e+00, -5.38307173e+00,\n",
              "        -7.90803569e-03]])"
            ]
          },
          "metadata": {},
          "execution_count": 19
        }
      ]
    },
    {
      "cell_type": "code",
      "metadata": {
        "id": "6fWjKgl4yLHO",
        "colab": {
          "base_uri": "https://localhost:8080/",
          "height": 265
        },
        "outputId": "3a04a131-21c4-45f9-8d7b-cbc755f9a6bb"
      },
      "source": [
        "# визуализируем дискриминантную линию только по 2 признакам\n",
        "plt.scatter(x=X_train['ash'], y=X_train['flavanoids'], c=y_train)\n",
        "plt.show()"
      ],
      "execution_count": null,
      "outputs": [
        {
          "output_type": "display_data",
          "data": {
            "text/plain": [
              "<Figure size 432x288 with 1 Axes>"
            ],
            "image/png": "[encoded data removed]"
          },
          "metadata": {
            "needs_background": "light"
          }
        }
      ]
    },
    {
      "cell_type": "code",
      "source": [],
      "metadata": {
        "id": "z6GzQbdr8B-u"
      },
      "execution_count": null,
      "outputs": []
    },
    {
      "cell_type": "markdown",
      "source": [
        "### Кластеризация на этом же наборе данных с этой же моделью"
      ],
      "metadata": {
        "id": "Zm-g9kH18Cd9"
      }
    },
    {
      "cell_type": "code",
      "metadata": {
        "id": "KFSam-cJzCOG"
      },
      "source": [
        "small_train = X_train[(y_train == 0) | (y_train == 2)]\n",
        "small_train = small_train[['ash', 'flavanoids']]\n",
        "sy_train = y_train[(y_train == 0) | (y_train == 2)]\n",
        "small_test = X_test[(y_test == 0) | (y_test == 2)]\n",
        "small_test = small_test[['ash', 'flavanoids']]\n",
        "sy_test = y_test[(y_test == 0) | (y_test == 2)]"
      ],
      "execution_count": null,
      "outputs": []
    },
    {
      "cell_type": "code",
      "metadata": {
        "id": "SX47KNgXySEU",
        "colab": {
          "base_uri": "https://localhost:8080/",
          "height": 265
        },
        "outputId": "0d4b0db1-2e2c-4a95-e956-1364d895dcc7"
      },
      "source": [
        "plt.scatter(x=small_train['ash'], y=small_train['flavanoids'], c=sy_train)\n",
        "plt.show()"
      ],
      "execution_count": null,
      "outputs": [
        {
          "output_type": "display_data",
          "data": {
            "text/plain": [
              "<Figure size 432x288 with 1 Axes>"
            ],
            "image/png": "[encoded data removed]"
          },
          "metadata": {
            "needs_background": "light"
          }
        }
      ]
    },
    {
      "cell_type": "code",
      "metadata": {
        "id": "jzWXDuY7y453",
        "colab": {
          "base_uri": "https://localhost:8080/"
        },
        "outputId": "8fe07f74-ef3c-4b8c-b9db-674222ed9a36"
      },
      "source": [
        "lda_small = LinearDiscriminantAnalysis()\n",
        "lda_small.fit(small_train, sy_train)"
      ],
      "execution_count": null,
      "outputs": [
        {
          "output_type": "execute_result",
          "data": {
            "text/plain": [
              "LinearDiscriminantAnalysis()"
            ]
          },
          "metadata": {},
          "execution_count": 32
        }
      ]
    },
    {
      "cell_type": "code",
      "metadata": {
        "id": "MSo9yPBxzPYx",
        "colab": {
          "base_uri": "https://localhost:8080/"
        },
        "outputId": "7edbcefe-5f39-4afb-9eef-a3f6cd15d8c6"
      },
      "source": [
        "# посмотрим на наши центроиды\n",
        "lda_small.means_"
      ],
      "execution_count": null,
      "outputs": [
        {
          "output_type": "execute_result",
          "data": {
            "text/plain": [
              "array([[2.45795455, 2.98522727],\n",
              "       [2.41416667, 0.76888889]])"
            ]
          },
          "metadata": {},
          "execution_count": 33
        }
      ]
    },
    {
      "cell_type": "code",
      "metadata": {
        "id": "IrQb_JTwzREc",
        "colab": {
          "base_uri": "https://localhost:8080/",
          "height": 317
        },
        "outputId": "21d5231b-4f12-4061-9b32-1e9be3f67897"
      },
      "source": [
        "# сам scatter plot\n",
        "plt.scatter(small_train['ash'], small_train['flavanoids'], c=sy_train)\n",
        "# центроиды\n",
        "plt.scatter(lda_small.means_[:, 0], lda_small.means_[:, 1], c='r', s=150, marker='*')\n",
        "\n",
        "# делаем условную \"сетку\"\n",
        "nx, ny = 200, 100\n",
        "x_min, x_max = plt.xlim()\n",
        "y_min, y_max = plt.ylim()\n",
        "xx, yy = np.meshgrid(np.linspace(x_min, x_max, nx),\n",
        "                         np.linspace(y_min, y_max, ny))\n",
        "\n",
        "# предсказываем класс каждой точки нашей сетки\n",
        "Z = lda_small.predict_proba(np.c_[xx.ravel(), yy.ravel()])\n",
        "Z = Z[:, 1].reshape(xx.shape)\n",
        "\n",
        "# закрашиваем классы разными цветами\n",
        "plt.pcolormesh(xx, yy, Z, cmap='red_blue_classes',\n",
        "                   norm=colors.Normalize(0., 1.), zorder=-1, shading='auto')\n",
        "\n",
        "plt.contour(xx, yy, Z, [0.5], linewidths=2., colors='white')"
      ],
      "execution_count": null,
      "outputs": [
        {
          "output_type": "stream",
          "name": "stderr",
          "text": [
            "/usr/local/lib/python3.7/dist-packages/sklearn/base.py:451: UserWarning: X does not have valid feature names, but LinearDiscriminantAnalysis was fitted with feature names\n",
            "  \"X does not have valid feature names, but\"\n"
          ]
        },
        {
          "output_type": "execute_result",
          "data": {
            "text/plain": [
              "<matplotlib.contour.QuadContourSet at 0x7fe0eefd36d0>"
            ]
          },
          "metadata": {},
          "execution_count": 34
        },
        {
          "output_type": "display_data",
          "data": {
            "text/plain": [
              "<Figure size 432x288 with 1 Axes>"
            ],
            "image/png": "[encoded data removed]"
          },
          "metadata": {
            "needs_background": "light"
          }
        }
      ]
    },
    {
      "cell_type": "code",
      "metadata": {
        "id": "e4_nponj4X5a",
        "colab": {
          "base_uri": "https://localhost:8080/"
        },
        "outputId": "3546bc20-44b1-47d9-a18f-171b84f97153"
      },
      "source": [
        "# второй признак во много раз важнее первого для кластеризации (это видно по визуализации)\n",
        "lda_small.coef_"
      ],
      "execution_count": null,
      "outputs": [
        {
          "output_type": "execute_result",
          "data": {
            "text/plain": [
              "array([[ -4.34521388, -18.55400407]])"
            ]
          },
          "metadata": {},
          "execution_count": 35
        }
      ]
    },
    {
      "cell_type": "code",
      "metadata": {
        "id": "fDmV457H4kz_",
        "colab": {
          "base_uri": "https://localhost:8080/"
        },
        "outputId": "cfa41921-4769-4ee7-bca4-3d660cbb8012"
      },
      "source": [
        "# какая будет точность?\n",
        "accuracy_score(sy_test, lda_small.predict(small_test))"
      ],
      "execution_count": null,
      "outputs": [
        {
          "output_type": "execute_result",
          "data": {
            "text/plain": [
              "1.0"
            ]
          },
          "metadata": {},
          "execution_count": 36
        }
      ]
    },
    {
      "cell_type": "code",
      "metadata": {
        "id": "bhPt9IHjby5I",
        "colab": {
          "base_uri": "https://localhost:8080/",
          "height": 112
        },
        "outputId": "df96296b-2d59-4e17-d5d1-c1930dd66c0a"
      },
      "source": [
        "data[['flavanoids', 'ash']].corr()"
      ],
      "execution_count": null,
      "outputs": [
        {
          "output_type": "execute_result",
          "data": {
            "text/plain": [
              "            flavanoids       ash\n",
              "flavanoids    1.000000  0.115077\n",
              "ash           0.115077  1.000000"
            ],
            "text/html": [
              "\n",
              "  <div id=\"df-601339fc-dcf0-43d7-931b-5b26fec2279b\">\n",
              "    <div class=\"colab-df-container\">\n",
              "      <div>\n",
              "<style scoped>\n",
              "    .dataframe tbody tr th:only-of-type {\n",
              "        vertical-align: middle;\n",
              "    }\n",
              "\n",
              "    .dataframe tbody tr th {\n",
              "        vertical-align: top;\n",
              "    }\n",
              "\n",
              "    .dataframe thead th {\n",
              "        text-align: right;\n",
              "    }\n",
              "</style>\n",
              "<table border=\"1\" class=\"dataframe\">\n",
              "  <thead>\n",
              "    <tr style=\"text-align: right;\">\n",
              "      <th></th>\n",
              "      <th>flavanoids</th>\n",
              "      <th>ash</th>\n",
              "    </tr>\n",
              "  </thead>\n",
              "  <tbody>\n",
              "    <tr>\n",
              "      <th>flavanoids</th>\n",
              "      <td>1.000000</td>\n",
              "      <td>0.115077</td>\n",
              "    </tr>\n",
              "    <tr>\n",
              "      <th>ash</th>\n",
              "      <td>0.115077</td>\n",
              "      <td>1.000000</td>\n",
              "    </tr>\n",
              "  </tbody>\n",
              "</table>\n",
              "</div>\n",
              "      <button class=\"colab-df-convert\" onclick=\"convertToInteractive('df-601339fc-dcf0-43d7-931b-5b26fec2279b')\"\n",
              "              title=\"Convert this dataframe to an interactive table.\"\n",
              "              style=\"display:none;\">\n",
              "        \n",
              "  <svg xmlns=\"http://www.w3.org/2000/svg\" height=\"24px\"viewBox=\"0 0 24 24\"\n",
              "       width=\"24px\">\n",
              "    <path d=\"M0 0h24v24H0V0z\" fill=\"none\"/>\n",
              "    <path d=\"M18.56 5.44l.94 2.06.94-2.06 2.06-.94-2.06-.94-.94-2.06-.94 2.06-2.06.94zm-11 1L8.5 8.5l.94-2.06 2.06-.94-2.06-.94L8.5 2.5l-.94 2.06-2.06.94zm10 10l.94 2.06.94-2.06 2.06-.94-2.06-.94-.94-2.06-.94 2.06-2.06.94z\"/><path d=\"M17.41 7.96l-1.37-1.37c-.4-.4-.92-.59-1.43-.59-.52 0-1.04.2-1.43.59L10.3 9.45l-7.72 7.72c-.78.78-.78 2.05 0 2.83L4 21.41c.39.39.9.59 1.41.59.51 0 1.02-.2 1.41-.59l7.78-7.78 2.81-2.81c.8-.78.8-2.07 0-2.86zM5.41 20L4 18.59l7.72-7.72 1.47 1.35L5.41 20z\"/>\n",
              "  </svg>\n",
              "      </button>\n",
              "      \n",
              "  <style>\n",
              "    .colab-df-container {\n",
              "      display:flex;\n",
              "      flex-wrap:wrap;\n",
              "      gap: 12px;\n",
              "    }\n",
              "\n",
              "    .colab-df-convert {\n",
              "      background-color: #E8F0FE;\n",
              "      border: none;\n",
              "      border-radius: 50%;\n",
              "      cursor: pointer;\n",
              "      display: none;\n",
              "      fill: #1967D2;\n",
              "      height: 32px;\n",
              "      padding: 0 0 0 0;\n",
              "      width: 32px;\n",
              "    }\n",
              "\n",
              "    .colab-df-convert:hover {\n",
              "      background-color: #E2EBFA;\n",
              "      box-shadow: 0px 1px 2px rgba(60, 64, 67, 0.3), 0px 1px 3px 1px rgba(60, 64, 67, 0.15);\n",
              "      fill: #174EA6;\n",
              "    }\n",
              "\n",
              "    [theme=dark] .colab-df-convert {\n",
              "      background-color: #3B4455;\n",
              "      fill: #D2E3FC;\n",
              "    }\n",
              "\n",
              "    [theme=dark] .colab-df-convert:hover {\n",
              "      background-color: #434B5C;\n",
              "      box-shadow: 0px 1px 3px 1px rgba(0, 0, 0, 0.15);\n",
              "      filter: drop-shadow(0px 1px 2px rgba(0, 0, 0, 0.3));\n",
              "      fill: #FFFFFF;\n",
              "    }\n",
              "  </style>\n",
              "\n",
              "      <script>\n",
              "        const buttonEl =\n",
              "          document.querySelector('#df-601339fc-dcf0-43d7-931b-5b26fec2279b button.colab-df-convert');\n",
              "        buttonEl.style.display =\n",
              "          google.colab.kernel.accessAllowed ? 'block' : 'none';\n",
              "\n",
              "        async function convertToInteractive(key) {\n",
              "          const element = document.querySelector('#df-601339fc-dcf0-43d7-931b-5b26fec2279b');\n",
              "          const dataTable =\n",
              "            await google.colab.kernel.invokeFunction('convertToInteractive',\n",
              "                                                     [key], {});\n",
              "          if (!dataTable) return;\n",
              "\n",
              "          const docLinkHtml = 'Like what you see? Visit the ' +\n",
              "            '<a target=\"_blank\" href=https://colab.research.google.com/notebooks/data_table.ipynb>data table notebook</a>'\n",
              "            + ' to learn more about interactive tables.';\n",
              "          element.innerHTML = '';\n",
              "          dataTable['output_type'] = 'display_data';\n",
              "          await google.colab.output.renderOutput(dataTable, element);\n",
              "          const docLink = document.createElement('div');\n",
              "          docLink.innerHTML = docLinkHtml;\n",
              "          element.appendChild(docLink);\n",
              "        }\n",
              "      </script>\n",
              "    </div>\n",
              "  </div>\n",
              "  "
            ]
          },
          "metadata": {},
          "execution_count": 37
        }
      ]
    },
    {
      "cell_type": "code",
      "metadata": {
        "id": "E-gchIEJ4t2d"
      },
      "source": [
        "# заменим модель на логистическую регрессиию\n",
        "# кому интересно, отличия логистической регрессии от LDA:\n",
        "# https://www.introspective-mode.org/logistic-regression-or-discriminant-function-analysis/\n",
        "# Основные моменты:\n",
        "# LR может работать с категориальными признаками\n",
        "# зависимая переменная в LR подчиняется логистической функции (изменяется от 0 до 1) и непрерывна\n",
        "from sklearn.linear_model import LogisticRegression"
      ],
      "execution_count": null,
      "outputs": []
    },
    {
      "cell_type": "code",
      "metadata": {
        "id": "R4NDgweF41cm"
      },
      "source": [
        "lr = LogisticRegression()"
      ],
      "execution_count": null,
      "outputs": []
    },
    {
      "cell_type": "code",
      "metadata": {
        "id": "badyR0Tj43nx",
        "colab": {
          "base_uri": "https://localhost:8080/"
        },
        "outputId": "127651b7-3c74-4211-9efa-4b5199742bad"
      },
      "source": [
        "lr.fit(small_train, sy_train)"
      ],
      "execution_count": null,
      "outputs": [
        {
          "output_type": "execute_result",
          "data": {
            "text/plain": [
              "LogisticRegression()"
            ]
          },
          "metadata": {},
          "execution_count": 40
        }
      ]
    },
    {
      "cell_type": "code",
      "metadata": {
        "id": "NfqW9uR9481f",
        "colab": {
          "base_uri": "https://localhost:8080/"
        },
        "outputId": "ec24050e-9ca6-4d24-8687-f3feeda359fa"
      },
      "source": [
        "lr.predict(small_test)"
      ],
      "execution_count": null,
      "outputs": [
        {
          "output_type": "execute_result",
          "data": {
            "text/plain": [
              "array([0, 0, 2, 0, 0, 2, 2, 0, 2, 0, 0, 0, 0, 2, 2, 2, 0, 0, 2, 0, 0, 0,\n",
              "       2, 2, 2, 0, 2])"
            ]
          },
          "metadata": {},
          "execution_count": 41
        }
      ]
    },
    {
      "cell_type": "code",
      "metadata": {
        "id": "DNUNJ6NLby5J",
        "colab": {
          "base_uri": "https://localhost:8080/"
        },
        "outputId": "33adb6cc-c019-421b-9d9b-d131cf263dbf"
      },
      "source": [
        "lr.predict_proba(small_test)"
      ],
      "execution_count": null,
      "outputs": [
        {
          "output_type": "execute_result",
          "data": {
            "text/plain": [
              "array([[0.97834045, 0.02165955],\n",
              "       [0.93221509, 0.06778491],\n",
              "       [0.01748788, 0.98251212],\n",
              "       [0.9890649 , 0.0109351 ],\n",
              "       [0.98470954, 0.01529046],\n",
              "       [0.03657156, 0.96342844],\n",
              "       [0.01699235, 0.98300765],\n",
              "       [0.92493082, 0.07506918],\n",
              "       [0.32848902, 0.67151098],\n",
              "       [0.93628937, 0.06371063],\n",
              "       [0.96922354, 0.03077646],\n",
              "       [0.98461022, 0.01538978],\n",
              "       [0.99863668, 0.00136332],\n",
              "       [0.06992575, 0.93007425],\n",
              "       [0.01741811, 0.98258189],\n",
              "       [0.02921328, 0.97078672],\n",
              "       [0.95374787, 0.04625213],\n",
              "       [0.83327626, 0.16672374],\n",
              "       [0.01946624, 0.98053376],\n",
              "       [0.98648283, 0.01351717],\n",
              "       [0.95073645, 0.04926355],\n",
              "       [0.99575405, 0.00424595],\n",
              "       [0.18017914, 0.81982086],\n",
              "       [0.02358415, 0.97641585],\n",
              "       [0.10231262, 0.89768738],\n",
              "       [0.92836091, 0.07163909],\n",
              "       [0.04200962, 0.95799038]])"
            ]
          },
          "metadata": {},
          "execution_count": 42
        }
      ]
    },
    {
      "cell_type": "code",
      "metadata": {
        "id": "qqFys9hT4_Eo",
        "colab": {
          "base_uri": "https://localhost:8080/"
        },
        "outputId": "d417a2ab-c74e-4967-a859-ceec2df6764c"
      },
      "source": [
        "accuracy_score(sy_test, lr.predict(small_test))"
      ],
      "execution_count": null,
      "outputs": [
        {
          "output_type": "execute_result",
          "data": {
            "text/plain": [
              "1.0"
            ]
          },
          "metadata": {},
          "execution_count": 43
        }
      ]
    },
    {
      "cell_type": "code",
      "metadata": {
        "id": "1Ei0UlN55CZ_",
        "colab": {
          "base_uri": "https://localhost:8080/"
        },
        "outputId": "305810cd-10c0-462d-d2ec-a45eaf064355"
      },
      "source": [
        "lr.coef_"
      ],
      "execution_count": null,
      "outputs": [
        {
          "output_type": "execute_result",
          "data": {
            "text/plain": [
              "array([[-0.08356991, -3.1030496 ]])"
            ]
          },
          "metadata": {},
          "execution_count": 44
        }
      ]
    },
    {
      "cell_type": "code",
      "metadata": {
        "id": "eTw2FBQh5GKr",
        "colab": {
          "base_uri": "https://localhost:8080/",
          "height": 300
        },
        "outputId": "66b9ff2b-62bd-4e05-e4a6-0237354a883b"
      },
      "source": [
        "plt.scatter(small_train['ash'], small_train['flavanoids'], c=sy_train)\n",
        "\n",
        "nx, ny = 200, 100\n",
        "x_min, x_max = plt.xlim()\n",
        "y_min, y_max = plt.ylim()\n",
        "xx, yy = np.meshgrid(np.linspace(x_min, x_max, nx),\n",
        "                         np.linspace(y_min, y_max, ny))\n",
        "Z = lr.predict_proba(np.c_[xx.ravel(), yy.ravel()])\n",
        "Z = Z[:, 1].reshape(xx.shape)\n",
        "plt.pcolormesh(xx, yy, Z, cmap='red_blue_classes',\n",
        "                   norm=colors.Normalize(0., 1.), zorder=-1, shading='auto')\n",
        "plt.contour(xx, yy, Z, [0.5], linewidths=2., colors='white')\n",
        "\n",
        "plt.show()"
      ],
      "execution_count": null,
      "outputs": [
        {
          "output_type": "stream",
          "name": "stderr",
          "text": [
            "/usr/local/lib/python3.7/dist-packages/sklearn/base.py:451: UserWarning: X does not have valid feature names, but LogisticRegression was fitted with feature names\n",
            "  \"X does not have valid feature names, but\"\n"
          ]
        },
        {
          "output_type": "display_data",
          "data": {
            "text/plain": [
              "<Figure size 432x288 with 1 Axes>"
            ],
            "image/png": "[encoded data removed]"
          },
          "metadata": {
            "needs_background": "light"
          }
        }
      ]
    },
    {
      "cell_type": "markdown",
      "metadata": {
        "id": "UJefBk-e58kX"
      },
      "source": [
        "## Кластеризация"
      ]
    },
    {
      "cell_type": "code",
      "metadata": {
        "id": "ZK-UchxSXREG"
      },
      "source": [
        "# генерируем искусвтенные данные для примера\n",
        "from sklearn.datasets import make_blobs"
      ],
      "execution_count": null,
      "outputs": []
    },
    {
      "cell_type": "code",
      "metadata": {
        "id": "_NxdrQ7RXSF5"
      },
      "source": [
        "# 200 точек с 2 центрами, СКО - 2.5\n",
        "X, y = make_blobs(n_samples=200, centers=2, cluster_std=2.5)"
      ],
      "execution_count": null,
      "outputs": []
    },
    {
      "cell_type": "code",
      "metadata": {
        "id": "Ih7skwiwby5N",
        "outputId": "2ce8c6b7-ffd6-44e2-aa5a-5aa37de5a424",
        "colab": {
          "base_uri": "https://localhost:8080/"
        }
      },
      "source": [
        "X"
      ],
      "execution_count": null,
      "outputs": [
        {
          "output_type": "execute_result",
          "data": {
            "text/plain": [
              "array([[-4.09400593e+00,  3.82814571e+00],\n",
              "       [-6.59488355e+00,  1.05930021e+00],\n",
              "       [-1.08373127e+01, -6.11200115e+00],\n",
              "       [-5.26436690e+00,  5.99414625e+00],\n",
              "       [-3.36922103e+00, -5.70350862e+00],\n",
              "       [-5.21678673e+00, -9.64140464e+00],\n",
              "       [-5.65929481e+00,  8.17875015e-01],\n",
              "       [-6.51891935e+00, -9.60786856e+00],\n",
              "       [-9.52520964e+00,  1.59593272e+00],\n",
              "       [-1.93105104e+00,  4.03087201e+00],\n",
              "       [-5.07967910e+00, -2.64633236e+00],\n",
              "       [-5.59337420e+00, -7.87792167e-01],\n",
              "       [-5.59521669e+00,  1.81737430e+00],\n",
              "       [-1.11165766e+01, -9.21888200e+00],\n",
              "       [-5.01120492e+00,  3.25783769e+00],\n",
              "       [-1.02803772e+01, -9.01835763e+00],\n",
              "       [-5.75790452e+00, -8.81247696e+00],\n",
              "       [-2.92087434e+00, -5.30703116e+00],\n",
              "       [-6.51591757e+00, -1.12212513e+01],\n",
              "       [-8.57949724e+00, -7.20773175e+00],\n",
              "       [-8.90087555e-01,  3.18053914e-01],\n",
              "       [-1.24100099e+01, -8.19037161e+00],\n",
              "       [-5.89708066e+00,  5.59294459e+00],\n",
              "       [-5.57553808e+00, -3.55710351e+00],\n",
              "       [-8.06540198e+00, -9.27322651e+00],\n",
              "       [-2.61614475e+00,  9.21107082e-01],\n",
              "       [-5.58841831e+00,  1.50289397e+00],\n",
              "       [-8.38049699e+00, -2.25119022e+00],\n",
              "       [-5.76050073e+00, -1.01793588e+01],\n",
              "       [-4.71113159e+00,  4.33249635e+00],\n",
              "       [-1.88020995e+00,  8.24293273e-01],\n",
              "       [-9.75938248e+00, -9.40399909e+00],\n",
              "       [-2.04791410e+00,  1.85962881e+00],\n",
              "       [-6.03327867e+00, -1.02932786e+01],\n",
              "       [-9.85751467e+00, -7.93879628e+00],\n",
              "       [-1.03489295e+01, -7.69540533e+00],\n",
              "       [-5.87915556e+00, -9.16534820e+00],\n",
              "       [-9.92055515e-01,  4.98599113e+00],\n",
              "       [-2.14143136e+00, -1.24663700e+01],\n",
              "       [-9.47560868e+00, -6.14526282e+00],\n",
              "       [-7.53917676e+00, -7.26869305e+00],\n",
              "       [-7.08360538e+00, -6.57267425e+00],\n",
              "       [-1.05484928e+01, -1.29980909e+01],\n",
              "       [-3.78014693e+00, -8.67690504e+00],\n",
              "       [-4.49223563e+00, -8.76001308e+00],\n",
              "       [-9.12193851e+00, -9.74021603e+00],\n",
              "       [-2.37387029e+00, -9.33118602e+00],\n",
              "       [-2.74568648e+00,  1.55771228e+00],\n",
              "       [-4.38965291e+00,  2.41617398e+00],\n",
              "       [-5.78402495e+00, -5.28762580e+00],\n",
              "       [-5.01403035e+00, -2.10704952e+00],\n",
              "       [-4.63883767e+00,  3.19990369e+00],\n",
              "       [-6.46431564e-01,  2.47655837e+00],\n",
              "       [-5.33464133e+00,  5.79018436e+00],\n",
              "       [-5.35884330e+00,  8.92500523e-01],\n",
              "       [-3.84226684e+00,  3.74791250e+00],\n",
              "       [-4.50978235e+00,  2.18518252e+00],\n",
              "       [-2.28292887e+00,  4.54394229e+00],\n",
              "       [-8.15255897e+00, -1.08485467e+01],\n",
              "       [-6.55228665e+00, -3.13245898e+00],\n",
              "       [-9.59650540e+00,  2.11234135e+00],\n",
              "       [-2.25787067e+00,  5.57149926e+00],\n",
              "       [-1.23735296e+01, -1.07955354e+01],\n",
              "       [-7.78428486e+00,  3.26002927e-01],\n",
              "       [-4.77756514e+00,  2.45852496e-01],\n",
              "       [-2.35805760e+00,  1.34129535e+00],\n",
              "       [-8.12806761e+00, -7.06126602e+00],\n",
              "       [-5.23878685e+00, -5.94603518e+00],\n",
              "       [-8.78898199e+00, -4.97971266e+00],\n",
              "       [ 5.37974409e-01, -2.37477919e-01],\n",
              "       [-2.81403742e+00,  1.53946855e+00],\n",
              "       [-8.94898661e+00, -1.00348053e+01],\n",
              "       [-5.35666828e+00,  8.08259570e-01],\n",
              "       [ 5.25808728e-01,  4.26091726e-01],\n",
              "       [-5.72142864e+00,  1.56707329e+00],\n",
              "       [-8.54133427e+00, -7.73245679e+00],\n",
              "       [-1.32107243e+00, -9.61050053e+00],\n",
              "       [-7.22040598e+00, -1.30986192e+01],\n",
              "       [-7.14043966e+00,  2.53885897e+00],\n",
              "       [-5.98590284e+00, -9.23557835e+00],\n",
              "       [-7.04522103e+00,  7.67185295e+00],\n",
              "       [-5.13449405e+00,  1.25265161e+00],\n",
              "       [-4.68767987e+00,  2.39932643e+00],\n",
              "       [-4.34824946e+00, -4.55176288e+00],\n",
              "       [-4.53367417e+00, -1.49614184e-01],\n",
              "       [-2.49273232e+00,  2.43978988e+00],\n",
              "       [-1.86166513e+00,  6.33066208e+00],\n",
              "       [-9.42033840e+00, -1.02849987e+01],\n",
              "       [-7.97658890e+00,  9.93763426e-01],\n",
              "       [-4.45053443e+00, -6.50230801e+00],\n",
              "       [-7.60268583e+00, -5.06746243e+00],\n",
              "       [-4.32387586e+00,  2.85564747e+00],\n",
              "       [-4.82550982e+00,  2.73254518e+00],\n",
              "       [-6.66597505e+00, -1.00213571e+01],\n",
              "       [-8.34444240e+00, -1.22373783e+01],\n",
              "       [-3.27123299e+00,  7.68251240e-01],\n",
              "       [-4.12096620e+00,  2.35755245e+00],\n",
              "       [-7.11212722e+00, -1.25657708e-01],\n",
              "       [-8.39944979e+00,  3.36095716e+00],\n",
              "       [-6.26609045e+00, -1.22357572e+01],\n",
              "       [-6.91024538e+00, -5.75080007e+00],\n",
              "       [-6.11855526e+00, -4.49826105e-01],\n",
              "       [-8.04430128e+00, -7.78344371e+00],\n",
              "       [-6.47155459e+00, -1.29316474e+01],\n",
              "       [-2.82149815e+00, -1.00918057e+01],\n",
              "       [-3.03966894e+00, -8.30974343e+00],\n",
              "       [-9.61272627e+00, -7.86376519e+00],\n",
              "       [-5.86508305e+00, -8.32569459e+00],\n",
              "       [-9.06176113e+00, -8.87548410e+00],\n",
              "       [-2.69678173e+00,  3.85858256e+00],\n",
              "       [-6.98128859e-01,  2.46317410e+00],\n",
              "       [-8.95202580e+00, -8.96549421e+00],\n",
              "       [-7.90631597e+00, -3.92220908e+00],\n",
              "       [-4.92297799e+00,  1.09929327e+00],\n",
              "       [-4.62497699e-01,  2.38851357e+00],\n",
              "       [-4.48917856e+00, -6.11499135e-01],\n",
              "       [-2.57204669e+00,  3.28257344e+00],\n",
              "       [-4.24547520e+00,  1.13910282e+00],\n",
              "       [-6.95771530e+00, -8.13766589e+00],\n",
              "       [-4.66230679e+00, -6.09472529e+00],\n",
              "       [-5.69002618e+00, -8.94593717e+00],\n",
              "       [-4.97189973e+00,  1.34730138e+00],\n",
              "       [-5.21212610e+00, -7.06260649e+00],\n",
              "       [-3.87945576e+00, -7.83179761e+00],\n",
              "       [-6.10912868e+00, -7.21416021e+00],\n",
              "       [-5.29227092e+00, -1.22958541e+01],\n",
              "       [-6.38854377e+00, -8.32618259e+00],\n",
              "       [-4.41796596e+00, -1.05997860e+01],\n",
              "       [-1.04023855e+00,  6.50642998e-01],\n",
              "       [-6.49233746e+00,  5.14181737e-01],\n",
              "       [-1.04179759e+01, -8.90176708e+00],\n",
              "       [-1.48041798e+00, -2.29800644e+00],\n",
              "       [-9.37791669e+00, -4.57415152e+00],\n",
              "       [-5.03161962e+00, -8.81552865e+00],\n",
              "       [-4.62575288e-01,  1.31623603e+00],\n",
              "       [-5.27321470e+00,  3.00633853e+00],\n",
              "       [-5.14151726e+00,  4.78284530e+00],\n",
              "       [-7.45372774e+00, -8.67289768e+00],\n",
              "       [-4.55930318e+00,  3.27838277e+00],\n",
              "       [-3.85080966e+00, -6.32291755e+00],\n",
              "       [-3.04490765e+00, -1.16358422e+00],\n",
              "       [-3.57367310e+00, -3.91132854e+00],\n",
              "       [-9.18242755e-01,  8.75540626e-01],\n",
              "       [-7.30849988e+00, -2.46547455e-01],\n",
              "       [-8.32417046e+00, -1.09561761e+01],\n",
              "       [-2.94427686e+00,  2.24531383e+00],\n",
              "       [-5.96487585e+00,  7.35091500e-01],\n",
              "       [-3.79953331e+00,  3.10324280e-02],\n",
              "       [-8.90127176e+00, -9.85769527e+00],\n",
              "       [-7.55054722e+00, -5.93347342e+00],\n",
              "       [-2.81684689e+00,  2.43788426e+00],\n",
              "       [ 1.28117545e-02,  1.16215549e+00],\n",
              "       [-4.84179488e+00, -6.69845426e+00],\n",
              "       [-1.02737126e+01, -1.03170843e+01],\n",
              "       [-4.43134297e+00,  3.41099003e+00],\n",
              "       [-6.91916078e+00, -6.85094194e+00],\n",
              "       [-5.87218086e+00,  6.81403951e-01],\n",
              "       [-6.52032452e+00, -9.38149456e+00],\n",
              "       [-1.06504682e+01, -7.56868058e+00],\n",
              "       [-7.92823068e+00, -7.28200677e+00],\n",
              "       [-4.64881456e+00, -8.77272050e+00],\n",
              "       [-8.32394134e+00, -7.47188643e+00],\n",
              "       [-8.70996954e-01, -5.29098328e+00],\n",
              "       [-5.01171436e+00, -6.95357272e+00],\n",
              "       [-4.50341953e+00,  8.95747542e-01],\n",
              "       [-3.03853392e+00,  7.01840675e-01],\n",
              "       [-7.26800669e+00, -1.04941620e+01],\n",
              "       [-8.62353787e-01,  1.62115081e+00],\n",
              "       [-1.05930882e+01, -1.06999474e+01],\n",
              "       [-7.27256807e+00, -8.13947345e+00],\n",
              "       [-3.07735224e+00,  7.10472946e-01],\n",
              "       [-2.51992330e+00, -1.14063439e+01],\n",
              "       [-5.01092233e+00, -7.17649941e+00],\n",
              "       [-2.15781529e+00,  1.75207718e+00],\n",
              "       [-3.93819723e+00, -8.54619147e+00],\n",
              "       [-3.01942384e+00, -7.67528121e-01],\n",
              "       [-6.23101201e+00, -7.20407876e+00],\n",
              "       [-3.65363254e+00,  4.03410348e+00],\n",
              "       [-3.11683347e+00,  5.86033042e-01],\n",
              "       [-3.93346643e+00, -4.34026836e+00],\n",
              "       [-4.02438756e+00, -2.50956690e+00],\n",
              "       [-6.52243067e+00, -9.90234732e+00],\n",
              "       [-7.56503354e+00,  4.44749844e+00],\n",
              "       [-2.77655644e+00,  7.30643961e-01],\n",
              "       [-6.77316365e+00, -9.06503626e-01],\n",
              "       [-5.88602743e+00,  1.88186439e+00],\n",
              "       [-9.64372642e+00, -8.09881821e+00],\n",
              "       [-8.68093021e+00, -3.07382650e-02],\n",
              "       [-5.39229166e+00, -6.21026213e+00],\n",
              "       [-1.06603822e+01, -1.12961048e+01],\n",
              "       [-6.96566993e+00, -7.10648722e+00],\n",
              "       [-4.17099317e+00, -6.64103444e+00],\n",
              "       [-7.77119119e+00, -5.89699785e+00],\n",
              "       [-7.98113768e+00,  9.04205014e-01],\n",
              "       [-9.96105370e+00, -6.81008839e+00],\n",
              "       [-5.03062177e+00, -6.49890612e+00],\n",
              "       [-7.14025138e+00, -5.52648638e+00],\n",
              "       [ 5.51539268e-01,  3.56963725e+00],\n",
              "       [-2.39901188e+00,  1.42733812e-01],\n",
              "       [-6.04612805e+00, -6.08950025e+00]])"
            ]
          },
          "metadata": {},
          "execution_count": 48
        }
      ]
    },
    {
      "cell_type": "code",
      "metadata": {
        "id": "TjSYaC57XUeq",
        "scrolled": true,
        "colab": {
          "base_uri": "https://localhost:8080/",
          "height": 282
        },
        "outputId": "7b64cb17-4313-499e-849d-bcb93b7cbd48"
      },
      "source": [
        "plt.scatter(X[:, 0], X[:, 1], cmap='autumn', s=60)"
      ],
      "execution_count": null,
      "outputs": [
        {
          "output_type": "execute_result",
          "data": {
            "text/plain": [
              "<matplotlib.collections.PathCollection at 0x7fe0eee9d3d0>"
            ]
          },
          "metadata": {},
          "execution_count": 49
        },
        {
          "output_type": "display_data",
          "data": {
            "text/plain": [
              "<Figure size 432x288 with 1 Axes>"
            ],
            "image/png": "[encoded data removed]"
          },
          "metadata": {
            "needs_background": "light"
          }
        }
      ]
    },
    {
      "cell_type": "code",
      "metadata": {
        "id": "bWdNYOIqzzO-"
      },
      "source": [
        "# приведем данные к единому масштабу\n",
        "from sklearn.preprocessing import StandardScaler"
      ],
      "execution_count": null,
      "outputs": []
    },
    {
      "cell_type": "code",
      "metadata": {
        "id": "NzLJH0GBXGwQ"
      },
      "source": [
        "scaler = StandardScaler()"
      ],
      "execution_count": null,
      "outputs": []
    },
    {
      "cell_type": "markdown",
      "metadata": {
        "id": "JcyHcWN-by5Q"
      },
      "source": [
        "В реальных задачах при разделении выборки на train и test нужно обучать StandardScaler только на тренировочных данных (и применять уже к тестовым данным).\n"
      ]
    },
    {
      "cell_type": "code",
      "metadata": {
        "id": "ZjwJ2Nbxby5Q"
      },
      "source": [
        "v_1 = np.array(np.random.randint(0, 1000, 500))\n",
        "v_2 = np.array(np.random.randint(0, 10, 500))"
      ],
      "execution_count": null,
      "outputs": []
    },
    {
      "cell_type": "code",
      "source": [],
      "metadata": {
        "id": "1_6LhdtcFuw2"
      },
      "execution_count": null,
      "outputs": []
    },
    {
      "cell_type": "code",
      "metadata": {
        "id": "ejb3KNymby5R",
        "colab": {
          "base_uri": "https://localhost:8080/"
        },
        "outputId": "e8314243-25a9-4275-e94a-7dc4b63c7847"
      },
      "source": [
        "print(v_1.max())\n",
        "print(v_1.min())\n",
        "\n",
        "print(v_2.max())\n",
        "print(v_2.min())"
      ],
      "execution_count": null,
      "outputs": [
        {
          "output_type": "stream",
          "name": "stdout",
          "text": [
            "998\n",
            "0\n",
            "9\n",
            "0\n"
          ]
        }
      ]
    },
    {
      "cell_type": "code",
      "metadata": {
        "id": "l6wzLVZ-by5R",
        "colab": {
          "base_uri": "https://localhost:8080/"
        },
        "outputId": "134f013e-f14d-4bed-96a1-2f19dd55a51a"
      },
      "source": [
        "v_1_scaled = scaler.fit_transform(v_1.reshape(-1, 1))\n",
        "v_1_scaled\n",
        "v_2_scaled = scaler.fit_transform(v_2.reshape(-1, 1))\n",
        "v_2_scaled"
      ],
      "execution_count": null,
      "outputs": [
        {
          "output_type": "execute_result",
          "data": {
            "text/plain": [
              "array([[ 0.20007147],\n",
              "       [-1.22901044],\n",
              "       [-0.87173996],\n",
              "       [ 0.55734194],\n",
              "       [ 1.2718829 ],\n",
              "       [ 1.62915337],\n",
              "       [-0.51446949],\n",
              "       [-0.51446949],\n",
              "       [-1.58628092],\n",
              "       [-0.15719901],\n",
              "       [-0.15719901],\n",
              "       [-1.22901044],\n",
              "       [-1.22901044],\n",
              "       [ 0.55734194],\n",
              "       [ 0.91461242],\n",
              "       [-0.15719901],\n",
              "       [-0.51446949],\n",
              "       [ 1.2718829 ],\n",
              "       [-0.51446949],\n",
              "       [-1.22901044],\n",
              "       [ 0.20007147],\n",
              "       [-0.15719901],\n",
              "       [-0.87173996],\n",
              "       [ 0.20007147],\n",
              "       [-0.87173996],\n",
              "       [-0.15719901],\n",
              "       [ 1.2718829 ],\n",
              "       [ 0.20007147],\n",
              "       [ 0.55734194],\n",
              "       [ 0.91461242],\n",
              "       [-0.15719901],\n",
              "       [ 1.62915337],\n",
              "       [-0.87173996],\n",
              "       [ 0.20007147],\n",
              "       [ 0.91461242],\n",
              "       [-1.58628092],\n",
              "       [ 1.62915337],\n",
              "       [-0.87173996],\n",
              "       [-0.15719901],\n",
              "       [ 1.2718829 ],\n",
              "       [-1.22901044],\n",
              "       [-0.15719901],\n",
              "       [ 0.91461242],\n",
              "       [ 0.91461242],\n",
              "       [-0.15719901],\n",
              "       [-0.87173996],\n",
              "       [-0.15719901],\n",
              "       [-0.87173996],\n",
              "       [ 0.55734194],\n",
              "       [ 0.55734194],\n",
              "       [ 1.2718829 ],\n",
              "       [-0.15719901],\n",
              "       [-0.51446949],\n",
              "       [ 1.2718829 ],\n",
              "       [-0.51446949],\n",
              "       [-0.15719901],\n",
              "       [-0.87173996],\n",
              "       [-0.87173996],\n",
              "       [ 1.62915337],\n",
              "       [-1.22901044],\n",
              "       [ 0.20007147],\n",
              "       [ 0.55734194],\n",
              "       [-0.87173996],\n",
              "       [-0.51446949],\n",
              "       [ 0.20007147],\n",
              "       [ 0.20007147],\n",
              "       [ 0.91461242],\n",
              "       [-0.87173996],\n",
              "       [ 0.91461242],\n",
              "       [ 0.20007147],\n",
              "       [ 0.91461242],\n",
              "       [-1.58628092],\n",
              "       [ 0.20007147],\n",
              "       [ 1.2718829 ],\n",
              "       [ 0.55734194],\n",
              "       [-0.51446949],\n",
              "       [ 1.62915337],\n",
              "       [ 0.20007147],\n",
              "       [-0.51446949],\n",
              "       [ 1.2718829 ],\n",
              "       [-0.51446949],\n",
              "       [ 0.91461242],\n",
              "       [-0.51446949],\n",
              "       [-1.58628092],\n",
              "       [-1.22901044],\n",
              "       [ 0.91461242],\n",
              "       [ 0.55734194],\n",
              "       [-0.51446949],\n",
              "       [ 1.2718829 ],\n",
              "       [ 0.91461242],\n",
              "       [ 0.20007147],\n",
              "       [-0.87173996],\n",
              "       [-0.51446949],\n",
              "       [-0.15719901],\n",
              "       [ 1.2718829 ],\n",
              "       [-0.15719901],\n",
              "       [-0.87173996],\n",
              "       [ 1.62915337],\n",
              "       [-0.51446949],\n",
              "       [-0.51446949],\n",
              "       [-1.58628092],\n",
              "       [ 0.55734194],\n",
              "       [ 1.62915337],\n",
              "       [ 1.62915337],\n",
              "       [-0.87173996],\n",
              "       [-0.51446949],\n",
              "       [ 0.20007147],\n",
              "       [-1.58628092],\n",
              "       [ 0.20007147],\n",
              "       [ 1.62915337],\n",
              "       [-0.51446949],\n",
              "       [-1.58628092],\n",
              "       [ 0.91461242],\n",
              "       [-1.22901044],\n",
              "       [ 1.62915337],\n",
              "       [-1.22901044],\n",
              "       [-1.58628092],\n",
              "       [ 1.2718829 ],\n",
              "       [-0.87173996],\n",
              "       [-0.15719901],\n",
              "       [ 0.20007147],\n",
              "       [-1.22901044],\n",
              "       [-0.15719901],\n",
              "       [ 0.55734194],\n",
              "       [-0.87173996],\n",
              "       [-1.58628092],\n",
              "       [ 0.20007147],\n",
              "       [ 0.91461242],\n",
              "       [ 0.55734194],\n",
              "       [ 0.91461242],\n",
              "       [-1.58628092],\n",
              "       [ 1.2718829 ],\n",
              "       [-0.15719901],\n",
              "       [-0.87173996],\n",
              "       [-1.22901044],\n",
              "       [ 0.55734194],\n",
              "       [-0.51446949],\n",
              "       [-0.51446949],\n",
              "       [ 0.91461242],\n",
              "       [-1.22901044],\n",
              "       [-0.51446949],\n",
              "       [ 0.20007147],\n",
              "       [-1.58628092],\n",
              "       [-1.22901044],\n",
              "       [-0.15719901],\n",
              "       [-0.87173996],\n",
              "       [ 0.91461242],\n",
              "       [ 1.62915337],\n",
              "       [-0.15719901],\n",
              "       [ 0.55734194],\n",
              "       [-1.22901044],\n",
              "       [-1.58628092],\n",
              "       [ 0.91461242],\n",
              "       [-0.87173996],\n",
              "       [ 1.62915337],\n",
              "       [ 0.55734194],\n",
              "       [ 0.91461242],\n",
              "       [-0.87173996],\n",
              "       [ 1.2718829 ],\n",
              "       [ 0.20007147],\n",
              "       [ 0.20007147],\n",
              "       [ 0.20007147],\n",
              "       [ 0.20007147],\n",
              "       [ 1.62915337],\n",
              "       [-0.15719901],\n",
              "       [-0.15719901],\n",
              "       [ 1.62915337],\n",
              "       [-0.51446949],\n",
              "       [ 1.62915337],\n",
              "       [-1.22901044],\n",
              "       [-0.15719901],\n",
              "       [ 0.55734194],\n",
              "       [ 1.2718829 ],\n",
              "       [ 0.91461242],\n",
              "       [ 0.55734194],\n",
              "       [-0.15719901],\n",
              "       [ 0.91461242],\n",
              "       [-1.22901044],\n",
              "       [-1.58628092],\n",
              "       [ 0.55734194],\n",
              "       [-0.51446949],\n",
              "       [-0.15719901],\n",
              "       [ 0.20007147],\n",
              "       [ 0.91461242],\n",
              "       [ 1.62915337],\n",
              "       [-0.51446949],\n",
              "       [ 0.55734194],\n",
              "       [-0.87173996],\n",
              "       [-1.58628092],\n",
              "       [-0.87173996],\n",
              "       [ 0.91461242],\n",
              "       [-1.22901044],\n",
              "       [ 0.91461242],\n",
              "       [ 0.20007147],\n",
              "       [ 1.62915337],\n",
              "       [-0.51446949],\n",
              "       [ 1.2718829 ],\n",
              "       [ 1.62915337],\n",
              "       [-1.22901044],\n",
              "       [ 0.91461242],\n",
              "       [ 1.2718829 ],\n",
              "       [-0.51446949],\n",
              "       [-0.51446949],\n",
              "       [-0.87173996],\n",
              "       [-1.58628092],\n",
              "       [-0.51446949],\n",
              "       [ 0.55734194],\n",
              "       [-0.87173996],\n",
              "       [-1.22901044],\n",
              "       [-1.22901044],\n",
              "       [-1.22901044],\n",
              "       [-1.22901044],\n",
              "       [-0.87173996],\n",
              "       [-0.51446949],\n",
              "       [ 0.91461242],\n",
              "       [-1.22901044],\n",
              "       [ 0.20007147],\n",
              "       [-1.22901044],\n",
              "       [ 0.91461242],\n",
              "       [ 0.55734194],\n",
              "       [-0.51446949],\n",
              "       [ 0.55734194],\n",
              "       [-1.22901044],\n",
              "       [-1.58628092],\n",
              "       [ 0.55734194],\n",
              "       [ 0.55734194],\n",
              "       [ 0.55734194],\n",
              "       [ 0.91461242],\n",
              "       [ 0.55734194],\n",
              "       [ 0.20007147],\n",
              "       [-0.15719901],\n",
              "       [-1.58628092],\n",
              "       [ 1.2718829 ],\n",
              "       [-1.58628092],\n",
              "       [ 0.20007147],\n",
              "       [-1.58628092],\n",
              "       [ 1.62915337],\n",
              "       [ 1.62915337],\n",
              "       [ 0.91461242],\n",
              "       [-0.51446949],\n",
              "       [ 0.55734194],\n",
              "       [ 0.20007147],\n",
              "       [-1.58628092],\n",
              "       [-1.58628092],\n",
              "       [-1.22901044],\n",
              "       [ 0.20007147],\n",
              "       [-1.58628092],\n",
              "       [ 0.55734194],\n",
              "       [-0.51446949],\n",
              "       [ 1.2718829 ],\n",
              "       [ 1.62915337],\n",
              "       [-1.58628092],\n",
              "       [ 0.55734194],\n",
              "       [ 0.20007147],\n",
              "       [-1.22901044],\n",
              "       [ 1.62915337],\n",
              "       [ 1.62915337],\n",
              "       [ 0.91461242],\n",
              "       [ 1.62915337],\n",
              "       [ 1.62915337],\n",
              "       [ 1.2718829 ],\n",
              "       [-0.87173996],\n",
              "       [-0.51446949],\n",
              "       [ 0.55734194],\n",
              "       [-1.58628092],\n",
              "       [-0.15719901],\n",
              "       [ 1.62915337],\n",
              "       [ 0.20007147],\n",
              "       [-0.51446949],\n",
              "       [-0.15719901],\n",
              "       [ 0.91461242],\n",
              "       [ 0.20007147],\n",
              "       [ 1.62915337],\n",
              "       [-0.15719901],\n",
              "       [ 1.2718829 ],\n",
              "       [ 1.62915337],\n",
              "       [-1.22901044],\n",
              "       [ 0.55734194],\n",
              "       [-0.51446949],\n",
              "       [-0.15719901],\n",
              "       [ 0.91461242],\n",
              "       [-0.15719901],\n",
              "       [ 0.55734194],\n",
              "       [ 0.20007147],\n",
              "       [ 1.2718829 ],\n",
              "       [-1.22901044],\n",
              "       [ 0.55734194],\n",
              "       [ 1.62915337],\n",
              "       [ 1.62915337],\n",
              "       [-1.22901044],\n",
              "       [ 0.55734194],\n",
              "       [-0.51446949],\n",
              "       [-1.58628092],\n",
              "       [ 0.55734194],\n",
              "       [-1.58628092],\n",
              "       [-1.58628092],\n",
              "       [ 1.62915337],\n",
              "       [-0.87173996],\n",
              "       [ 0.91461242],\n",
              "       [-0.15719901],\n",
              "       [-1.22901044],\n",
              "       [ 0.55734194],\n",
              "       [ 1.62915337],\n",
              "       [-0.51446949],\n",
              "       [ 0.91461242],\n",
              "       [-1.22901044],\n",
              "       [-0.51446949],\n",
              "       [ 0.55734194],\n",
              "       [ 0.20007147],\n",
              "       [-0.51446949],\n",
              "       [-0.87173996],\n",
              "       [ 0.91461242],\n",
              "       [-0.15719901],\n",
              "       [-0.51446949],\n",
              "       [-1.58628092],\n",
              "       [ 0.55734194],\n",
              "       [ 1.62915337],\n",
              "       [ 1.62915337],\n",
              "       [-1.58628092],\n",
              "       [-0.51446949],\n",
              "       [ 0.91461242],\n",
              "       [-0.51446949],\n",
              "       [-0.87173996],\n",
              "       [ 0.55734194],\n",
              "       [-0.87173996],\n",
              "       [-1.58628092],\n",
              "       [ 0.91461242],\n",
              "       [-0.87173996],\n",
              "       [-0.15719901],\n",
              "       [-0.15719901],\n",
              "       [ 1.2718829 ],\n",
              "       [ 0.55734194],\n",
              "       [ 1.62915337],\n",
              "       [ 0.91461242],\n",
              "       [ 1.2718829 ],\n",
              "       [-0.15719901],\n",
              "       [-0.51446949],\n",
              "       [-0.15719901],\n",
              "       [ 0.55734194],\n",
              "       [-1.22901044],\n",
              "       [-1.22901044],\n",
              "       [-0.15719901],\n",
              "       [-1.58628092],\n",
              "       [-0.51446949],\n",
              "       [ 1.2718829 ],\n",
              "       [ 0.91461242],\n",
              "       [-0.51446949],\n",
              "       [ 0.91461242],\n",
              "       [ 1.62915337],\n",
              "       [ 0.55734194],\n",
              "       [-1.58628092],\n",
              "       [ 0.55734194],\n",
              "       [ 0.91461242],\n",
              "       [ 1.2718829 ],\n",
              "       [-0.87173996],\n",
              "       [-0.15719901],\n",
              "       [-1.22901044],\n",
              "       [ 1.2718829 ],\n",
              "       [ 1.62915337],\n",
              "       [-0.15719901],\n",
              "       [ 0.20007147],\n",
              "       [ 0.91461242],\n",
              "       [ 0.20007147],\n",
              "       [-1.22901044],\n",
              "       [ 0.91461242],\n",
              "       [ 1.2718829 ],\n",
              "       [ 0.55734194],\n",
              "       [-0.87173996],\n",
              "       [ 1.2718829 ],\n",
              "       [-0.87173996],\n",
              "       [ 0.55734194],\n",
              "       [-0.87173996],\n",
              "       [ 1.62915337],\n",
              "       [ 0.91461242],\n",
              "       [ 0.55734194],\n",
              "       [-0.15719901],\n",
              "       [ 0.91461242],\n",
              "       [ 0.91461242],\n",
              "       [ 0.20007147],\n",
              "       [ 0.91461242],\n",
              "       [ 1.2718829 ],\n",
              "       [ 1.62915337],\n",
              "       [ 1.2718829 ],\n",
              "       [-0.51446949],\n",
              "       [ 1.2718829 ],\n",
              "       [ 0.55734194],\n",
              "       [-0.51446949],\n",
              "       [ 0.91461242],\n",
              "       [-0.15719901],\n",
              "       [ 1.2718829 ],\n",
              "       [ 1.62915337],\n",
              "       [-0.87173996],\n",
              "       [ 1.2718829 ],\n",
              "       [ 0.91461242],\n",
              "       [-1.22901044],\n",
              "       [ 1.2718829 ],\n",
              "       [ 0.55734194],\n",
              "       [ 0.20007147],\n",
              "       [ 0.91461242],\n",
              "       [-0.51446949],\n",
              "       [-1.22901044],\n",
              "       [-0.87173996],\n",
              "       [-1.22901044],\n",
              "       [-1.58628092],\n",
              "       [ 0.20007147],\n",
              "       [-0.15719901],\n",
              "       [-1.58628092],\n",
              "       [-0.15719901],\n",
              "       [-0.87173996],\n",
              "       [ 1.2718829 ],\n",
              "       [ 0.20007147],\n",
              "       [-0.51446949],\n",
              "       [-1.58628092],\n",
              "       [ 1.62915337],\n",
              "       [-0.15719901],\n",
              "       [-1.22901044],\n",
              "       [ 0.20007147],\n",
              "       [-1.58628092],\n",
              "       [ 0.91461242],\n",
              "       [-0.15719901],\n",
              "       [ 1.62915337],\n",
              "       [-1.58628092],\n",
              "       [-1.58628092],\n",
              "       [-0.51446949],\n",
              "       [-0.51446949],\n",
              "       [ 1.62915337],\n",
              "       [ 0.20007147],\n",
              "       [-1.58628092],\n",
              "       [ 1.2718829 ],\n",
              "       [-0.51446949],\n",
              "       [ 0.20007147],\n",
              "       [-0.51446949],\n",
              "       [-1.22901044],\n",
              "       [-1.22901044],\n",
              "       [-0.87173996],\n",
              "       [ 1.2718829 ],\n",
              "       [-0.87173996],\n",
              "       [-0.51446949],\n",
              "       [-0.51446949],\n",
              "       [-0.15719901],\n",
              "       [-0.15719901],\n",
              "       [-0.87173996],\n",
              "       [-1.58628092],\n",
              "       [ 1.62915337],\n",
              "       [-1.22901044],\n",
              "       [ 1.2718829 ],\n",
              "       [-0.51446949],\n",
              "       [-0.87173996],\n",
              "       [-1.22901044],\n",
              "       [ 0.20007147],\n",
              "       [ 0.55734194],\n",
              "       [ 1.2718829 ],\n",
              "       [ 0.55734194],\n",
              "       [ 0.91461242],\n",
              "       [-1.58628092],\n",
              "       [-1.58628092],\n",
              "       [ 0.20007147],\n",
              "       [ 0.55734194],\n",
              "       [ 0.55734194],\n",
              "       [-0.87173996],\n",
              "       [-1.58628092],\n",
              "       [ 0.20007147],\n",
              "       [ 0.91461242],\n",
              "       [-0.87173996],\n",
              "       [ 1.2718829 ],\n",
              "       [-1.58628092],\n",
              "       [-0.51446949],\n",
              "       [-0.87173996],\n",
              "       [-1.22901044],\n",
              "       [-0.87173996],\n",
              "       [-0.15719901],\n",
              "       [-0.87173996],\n",
              "       [ 0.91461242],\n",
              "       [ 0.55734194],\n",
              "       [-1.22901044],\n",
              "       [ 1.62915337],\n",
              "       [ 0.55734194],\n",
              "       [-0.87173996],\n",
              "       [-1.58628092],\n",
              "       [ 1.62915337],\n",
              "       [ 0.55734194],\n",
              "       [-0.51446949],\n",
              "       [-1.58628092],\n",
              "       [ 0.20007147],\n",
              "       [ 0.20007147],\n",
              "       [-0.51446949],\n",
              "       [ 0.55734194],\n",
              "       [-1.58628092],\n",
              "       [-0.51446949],\n",
              "       [-1.22901044],\n",
              "       [-1.22901044],\n",
              "       [ 0.20007147],\n",
              "       [-0.15719901],\n",
              "       [ 1.62915337],\n",
              "       [-1.22901044],\n",
              "       [ 0.20007147],\n",
              "       [-0.87173996],\n",
              "       [-0.87173996],\n",
              "       [ 0.20007147],\n",
              "       [-0.15719901]])"
            ]
          },
          "metadata": {},
          "execution_count": 55
        }
      ]
    },
    {
      "cell_type": "code",
      "metadata": {
        "id": "Q-TdaM01by5S",
        "colab": {
          "base_uri": "https://localhost:8080/"
        },
        "outputId": "1a923b08-e321-4ec1-805c-feb4f65c4a6d"
      },
      "source": [
        "print(v_1_scaled.max())\n",
        "print(v_1_scaled.min())\n",
        "\n",
        "print(v_2_scaled.max())\n",
        "print(v_2_scaled.min())"
      ],
      "execution_count": null,
      "outputs": [
        {
          "output_type": "stream",
          "name": "stdout",
          "text": [
            "1.7512710682660064\n",
            "-1.6251068543480474\n",
            "1.6291533729989964\n",
            "-1.5862809158148126\n"
          ]
        }
      ]
    },
    {
      "cell_type": "code",
      "metadata": {
        "id": "6UC4SNUdXIru",
        "colab": {
          "base_uri": "https://localhost:8080/"
        },
        "outputId": "f2fd5908-d032-4bfe-c069-e4c1ec1f1d3a"
      },
      "source": [
        "# fit-transform сразу обучается и преобразует данные\n",
        "X_scaled = scaler.fit_transform(X)\n",
        "X_scaled"
      ],
      "execution_count": null,
      "outputs": [
        {
          "output_type": "execute_result",
          "data": {
            "text/plain": [
              "array([[ 0.52921917,  1.34891465],\n",
              "       [-0.38087255,  0.83416365],\n",
              "       [-1.92473046, -0.49903988],\n",
              "       [ 0.10331435,  1.75159185],\n",
              "       [ 0.79297487, -0.42309778],\n",
              "       [ 0.1206292 , -1.15518483],\n",
              "       [-0.04040345,  0.78928073],\n",
              "       [-0.3532285 , -1.1489502 ],\n",
              "       [-1.44724441,  0.93392802],\n",
              "       [ 1.31633778,  1.38660313],\n",
              "       [ 0.17052389,  0.14525627],\n",
              "       [-0.01641435,  0.49077408],\n",
              "       [-0.01708485,  0.97509581],\n",
              "       [-2.02635707, -1.07663442],\n",
              "       [ 0.19544226,  1.24288973],\n",
              "       [-1.72205665, -1.0393553 ],\n",
              "       [-0.0762884 , -1.0010804 ],\n",
              "       [ 0.95613224, -0.34938938],\n",
              "       [-0.35213613, -1.44889124],\n",
              "       [-1.10309121, -0.70274515],\n",
              "       [ 1.6951537 ,  0.6963599 ],\n",
              "       [-2.49704902, -0.88542593],\n",
              "       [-0.12693584,  1.67700519],\n",
              "       [-0.00992362, -0.02406353],\n",
              "       [-0.91600735, -1.08673751],\n",
              "       [ 1.06702606,  0.80847241],\n",
              "       [-0.01461086,  0.91663135],\n",
              "       [-1.03067324,  0.21871642],\n",
              "       [-0.07723319, -1.2551949 ],\n",
              "       [ 0.30464162,  1.44267756],\n",
              "       [ 1.33483931,  0.79047394],\n",
              "       [-1.532462  , -1.1110492 ],\n",
              "       [ 1.27381027,  0.98295127],\n",
              "       [-0.17649952, -1.27637352],\n",
              "       [-1.56817318, -0.83865602],\n",
              "       [-1.74700342, -0.79340765],\n",
              "       [-0.12041274, -1.06668205],\n",
              "       [ 1.65804665,  1.56416758],\n",
              "       [ 1.23977851, -1.68036898],\n",
              "       [-1.42919418, -0.5052235 ],\n",
              "       [-0.72450929, -0.71407836],\n",
              "       [-0.55872279, -0.58468277],\n",
              "       [-1.81962631, -1.77922023],\n",
              "       [ 0.64343526, -0.97587647],\n",
              "       [ 0.38429982, -0.99132694],\n",
              "       [-1.30049044, -1.17355467],\n",
              "       [ 1.1551919 , -1.09751265],\n",
              "       [ 1.01988467,  0.92682252],\n",
              "       [ 0.42163059,  1.08641757],\n",
              "       [-0.08579386, -0.34578176],\n",
              "       [ 0.19441406,  0.24551336],\n",
              "       [ 0.33095003,  1.23211933],\n",
              "       [ 1.78382229,  1.09764352],\n",
              "       [ 0.07774085,  1.71367367],\n",
              "       [ 0.06893354,  0.80315422],\n",
              "       [ 0.62082927,  1.33399864],\n",
              "       [ 0.37791441,  1.04347437],\n",
              "       [ 1.1882863 ,  1.48198709],\n",
              "       [-0.94772456, -1.3796024 ],\n",
              "       [-0.36537116,  0.05488136],\n",
              "       [-1.47318957,  1.0299326 ],\n",
              "       [ 1.1974052 ,  1.67301832],\n",
              "       [-2.48377351, -1.36974717],\n",
              "       [-0.81370632,  0.69783769],\n",
              "       [ 0.28046586,  0.68293707],\n",
              "       [ 1.16094628,  0.88658885],\n",
              "       [-0.93881194, -0.67551598],\n",
              "       [ 0.11262316, -0.46818545],\n",
              "       [-1.17932459, -0.2885382 ],\n",
              "       [ 2.21483821,  0.593082  ],\n",
              "       [ 0.99501115,  0.92343086],\n",
              "       [-1.2375517 , -1.22832123],\n",
              "       [ 0.06972505,  0.78749314],\n",
              "       [ 2.21041101,  0.71644501],\n",
              "       [-0.0630145 ,  0.92856281],\n",
              "       [-1.08920337, -0.80029582],\n",
              "       [ 1.53831445, -1.1494395 ],\n",
              "       [-0.60850576, -1.79790927],\n",
              "       [-0.5794053 ,  1.10922571],\n",
              "       [-0.15925903, -1.0797384 ],\n",
              "       [-0.54475439,  2.06349124],\n",
              "       [ 0.15057624,  0.87010925],\n",
              "       [ 0.31317591,  1.08328547],\n",
              "       [ 0.43669767, -0.20897883],\n",
              "       [ 0.36921996,  0.60941658],\n",
              "       [ 1.11193695,  1.09080796],\n",
              "       [ 1.34158794,  1.81415289],\n",
              "       [-1.40908083, -1.27483423],\n",
              "       [-0.88368748,  0.82197982],\n",
              "       [ 0.39947526, -0.57160111],\n",
              "       [-0.74762081, -0.3048516 ],\n",
              "       [ 0.44556745,  1.16811928],\n",
              "       [ 0.26301836,  1.14523356],\n",
              "       [-0.40674339, -1.22582109],\n",
              "       [-1.01755266, -1.63779754],\n",
              "       [ 0.8286336 ,  0.78005526],\n",
              "       [ 0.51940808,  1.07551935],\n",
              "       [-0.56910215,  0.61387029],\n",
              "       [-1.03757034,  1.26206048],\n",
              "       [-0.26122181, -1.63749617],\n",
              "       [-0.49563554, -0.43188965],\n",
              "       [-0.20753243,  0.55360473],\n",
              "       [-0.90832862, -0.80977471],\n",
              "       [-0.33599204, -1.76686784],\n",
              "       [ 0.99229612, -1.23891807],\n",
              "       [ 0.91290182, -0.90761813],\n",
              "       [-1.47909249, -0.82470713],\n",
              "       [-0.11529163, -0.91058358],\n",
              "       [-1.27859136, -1.01279394],\n",
              "       [ 1.03768154,  1.35457311],\n",
              "       [ 1.76500919,  1.09515527],\n",
              "       [-1.23865768, -1.02952756],\n",
              "       [-0.85811453, -0.09193964],\n",
              "       [ 0.22754883,  0.84159868],\n",
              "       [ 1.85075747,  1.08127527],\n",
              "       [ 0.38541231,  0.52354839],\n",
              "       [ 1.08307374,  1.24748831],\n",
              "       [ 0.47409815,  0.8489996 ],\n",
              "       [-0.51291027, -0.87562751],\n",
              "       [ 0.3224094 , -0.49582816],\n",
              "       [-0.05158687, -1.02589174],\n",
              "       [ 0.20974577,  0.88770542],\n",
              "       [ 0.12232524, -0.67576518],\n",
              "       [ 0.60729589, -0.81876409],\n",
              "       [-0.20410201, -0.70394025],\n",
              "       [ 0.09315983, -1.64866867],\n",
              "       [-0.30578366, -0.9106743 ],\n",
              "       [ 0.41132722, -1.33335575],\n",
              "       [ 1.64051241,  0.75819093],\n",
              "       [-0.34355511,  0.73282167],\n",
              "       [-1.77213002, -1.01768016],\n",
              "       [ 1.48032718,  0.21001291],\n",
              "       [-1.39364319, -0.21314107],\n",
              "       [ 0.18801316, -1.00164773],\n",
              "       [ 1.85072924,  0.88193011],\n",
              "       [ 0.10009455,  1.19613398],\n",
              "       [ 0.14802043,  1.52640111],\n",
              "       [-0.69341363, -0.97513147],\n",
              "       [ 0.35989334,  1.24670923],\n",
              "       [ 0.61772046, -0.53825096],\n",
              "       [ 0.91099541,  0.42091127],\n",
              "       [ 0.71857293, -0.08991686],\n",
              "       [ 1.68490777,  0.80000124],\n",
              "       [-0.64056391,  0.59139589],\n",
              "       [-1.01017552, -1.39961159],\n",
              "       [ 0.94761585,  1.05465327],\n",
              "       [-0.15160712,  0.7738906 ],\n",
              "       [ 0.63638038,  0.64300026],\n",
              "       [-1.22018784, -1.19539503],\n",
              "       [-0.7286471 , -0.46585011],\n",
              "       [ 0.99398876,  1.09045369],\n",
              "       [ 2.02372683,  0.85328528],\n",
              "       [ 0.25709208, -0.6080663 ],\n",
              "       [-1.71963133, -1.2807992 ],\n",
              "       [ 0.4064592 ,  1.271362  ],\n",
              "       [-0.49887994, -0.63641501],\n",
              "       [-0.11787458,  0.76390964],\n",
              "       [-0.35373986, -1.10686542],\n",
              "       [-1.85673606, -0.76984849],\n",
              "       [-0.86608949, -0.71655348],\n",
              "       [ 0.32731935, -0.99368935],\n",
              "       [-1.01009214, -0.75185366],\n",
              "       [ 1.70210094, -0.34640595],\n",
              "       [ 0.19525687, -0.65549491],\n",
              "       [ 0.3802299 ,  0.80375787],\n",
              "       [ 0.91331487,  0.767709  ],\n",
              "       [-0.62582808, -1.3137194 ],\n",
              "       [ 1.70524627,  0.93861626],\n",
              "       [-1.83585496, -1.35197659],\n",
              "       [-0.62748801, -0.87596355],\n",
              "       [ 0.89918853,  0.76931381],\n",
              "       [ 1.10204191, -1.48330146],\n",
              "       [ 0.19554509, -0.6969388 ],\n",
              "       [ 1.23381625,  0.96295655],\n",
              "       [ 0.58591934, -0.95157575],\n",
              "       [ 0.9202692 ,  0.49454133],\n",
              "       [-0.24845645, -0.70206603],\n",
              "       [ 0.68947498,  1.38720388],\n",
              "       [ 0.88482096,  0.74617941],\n",
              "       [ 0.58764093, -0.16966027],\n",
              "       [ 0.55455391,  0.17068209],\n",
              "       [-0.3545063 , -1.20369621],\n",
              "       [-0.73391881,  1.46405738],\n",
              "       [ 1.00865081,  0.77306376],\n",
              "       [-0.44575027,  0.46870465],\n",
              "       [-0.12291347,  0.98708505],\n",
              "       [-1.49037372, -0.86840541],\n",
              "       [-1.14000358,  0.63151659],\n",
              "       [ 0.05676138, -0.5173074 ],\n",
              "       [-1.86034384, -1.46280711],\n",
              "       [-0.51580503, -0.68392297],\n",
              "       [ 0.50120282, -0.59739149],\n",
              "       [-0.80894142, -0.45906901],\n",
              "       [-0.88534282,  0.80533018],\n",
              "       [-1.60585196, -0.62882   ],\n",
              "       [ 0.18837629, -0.57096867],\n",
              "       [-0.57933678, -0.3901879 ],\n",
              "       [ 2.21977459,  1.30085582],\n",
              "       [ 1.14604265,  0.66376646],\n",
              "       [-0.18117552, -0.49485678]])"
            ]
          },
          "metadata": {},
          "execution_count": 57
        }
      ]
    },
    {
      "cell_type": "code",
      "metadata": {
        "id": "TRnNnC3kXbcr",
        "colab": {
          "base_uri": "https://localhost:8080/",
          "height": 282
        },
        "outputId": "a3915072-2c99-42b8-81d8-8eb3ab21c918"
      },
      "source": [
        "plt.scatter(X_scaled[:, 0], X_scaled[:, 1],cmap='autumn', s=60)"
      ],
      "execution_count": null,
      "outputs": [
        {
          "output_type": "execute_result",
          "data": {
            "text/plain": [
              "<matplotlib.collections.PathCollection at 0x7fe0eee67b90>"
            ]
          },
          "metadata": {},
          "execution_count": 58
        },
        {
          "output_type": "display_data",
          "data": {
            "text/plain": [
              "<Figure size 432x288 with 1 Axes>"
            ],
            "image/png": "[encoded data removed]"
          },
          "metadata": {
            "needs_background": "light"
          }
        }
      ]
    },
    {
      "cell_type": "code",
      "metadata": {
        "id": "XftqUwUlYLIj"
      },
      "source": [
        "from sklearn.cluster import KMeans"
      ],
      "execution_count": null,
      "outputs": []
    },
    {
      "cell_type": "code",
      "metadata": {
        "id": "7PkhGAB-YN1C",
        "colab": {
          "base_uri": "https://localhost:8080/"
        },
        "outputId": "bc0b1ea1-5397-409b-deb5-210a7b7ef4c6"
      },
      "source": [
        "# явно указываем количество кластеров\n",
        "kmeans = KMeans(n_clusters=2)\n",
        "# fit_predict обучается на данных и каждому объекту присваивает кластер\n",
        "clusters = kmeans.fit_predict(X_scaled)\n",
        "clusters"
      ],
      "execution_count": null,
      "outputs": [
        {
          "output_type": "execute_result",
          "data": {
            "text/plain": [
              "array([1, 1, 0, 1, 1, 0, 1, 0, 1, 1, 1, 1, 1, 0, 1, 0, 0, 1, 0, 0, 1, 0,\n",
              "       1, 0, 0, 1, 1, 0, 0, 1, 1, 0, 1, 0, 0, 0, 0, 1, 0, 0, 0, 0, 0, 0,\n",
              "       0, 0, 0, 1, 1, 0, 1, 1, 1, 1, 1, 1, 1, 1, 0, 0, 1, 1, 0, 1, 1, 1,\n",
              "       0, 0, 0, 1, 1, 0, 1, 1, 1, 0, 0, 0, 1, 0, 1, 1, 1, 1, 1, 1, 1, 0,\n",
              "       1, 0, 0, 1, 1, 0, 0, 1, 1, 1, 1, 0, 0, 1, 0, 0, 0, 0, 0, 0, 0, 1,\n",
              "       1, 0, 0, 1, 1, 1, 1, 1, 0, 0, 0, 1, 0, 0, 0, 0, 0, 0, 1, 1, 0, 1,\n",
              "       0, 0, 1, 1, 1, 0, 1, 0, 1, 1, 1, 1, 0, 1, 1, 1, 0, 0, 1, 1, 0, 0,\n",
              "       1, 0, 1, 0, 0, 0, 0, 0, 1, 0, 1, 1, 0, 1, 0, 0, 1, 0, 0, 1, 0, 1,\n",
              "       0, 1, 1, 1, 1, 0, 1, 1, 1, 1, 0, 0, 0, 0, 0, 0, 0, 1, 0, 0, 0, 1,\n",
              "       1, 0], dtype=int32)"
            ]
          },
          "metadata": {},
          "execution_count": 60
        }
      ]
    },
    {
      "cell_type": "code",
      "metadata": {
        "id": "EIhtpQU4YXiR",
        "colab": {
          "base_uri": "https://localhost:8080/",
          "height": 282
        },
        "outputId": "9cbffc9c-81cd-4681-c869-7f0652679d3d"
      },
      "source": [
        "plt.scatter(X_scaled[:, 0], X_scaled[:, 1], cmap='autumn', c=clusters, s=60)"
      ],
      "execution_count": null,
      "outputs": [
        {
          "output_type": "execute_result",
          "data": {
            "text/plain": [
              "<matplotlib.collections.PathCollection at 0x7fe0edf1be50>"
            ]
          },
          "metadata": {},
          "execution_count": 62
        },
        {
          "output_type": "display_data",
          "data": {
            "text/plain": [
              "<Figure size 432x288 with 1 Axes>"
            ],
            "image/png": "[encoded data removed]"
          },
          "metadata": {
            "needs_background": "light"
          }
        }
      ]
    },
    {
      "cell_type": "code",
      "metadata": {
        "id": "JakzZ_1WYbgI"
      },
      "source": [
        "# строим график локтя\n",
        "\n",
        "# создаем список для инерции\n",
        "k_inertia = []\n",
        "# задаем диапазон кластеров\n",
        "ks = range(1, 20)\n",
        "\n",
        "for k in ks:\n",
        "    clf_kmeans = KMeans(n_clusters=k)\n",
        "    clusters_kmeans = clf_kmeans.fit_predict(X_scaled)\n",
        "    # добавляем инерцию каждой модели в список\n",
        "    k_inertia.append(clf_kmeans.inertia_)"
      ],
      "execution_count": null,
      "outputs": []
    },
    {
      "cell_type": "code",
      "metadata": {
        "id": "BL2K84DOYzQp",
        "colab": {
          "base_uri": "https://localhost:8080/",
          "height": 282
        },
        "outputId": "4cdf55a9-65c7-4599-a7f9-1ce1dc259ee7"
      },
      "source": [
        "plt.plot(ks, k_inertia)\n",
        "plt.plot(ks, k_inertia ,'ro')"
      ],
      "execution_count": null,
      "outputs": [
        {
          "output_type": "execute_result",
          "data": {
            "text/plain": [
              "[<matplotlib.lines.Line2D at 0x7fe0ede4c410>]"
            ]
          },
          "metadata": {},
          "execution_count": 64
        },
        {
          "output_type": "display_data",
          "data": {
            "text/plain": [
              "<Figure size 432x288 with 1 Axes>"
            ],
            "image/png": "[encoded data removed]"
          },
          "metadata": {
            "needs_background": "light"
          }
        }
      ]
    },
    {
      "cell_type": "markdown",
      "metadata": {
        "id": "07VGmeIrby5U"
      },
      "source": [
        "Иерархическая кластеризация"
      ]
    },
    {
      "cell_type": "code",
      "metadata": {
        "id": "wGWt37snY1ak"
      },
      "source": [
        "from scipy.spatial.distance import pdist\n",
        "from scipy.cluster import hierarchy"
      ],
      "execution_count": null,
      "outputs": []
    },
    {
      "cell_type": "code",
      "metadata": {
        "id": "UL2QOOH_Y8vL",
        "colab": {
          "base_uri": "https://localhost:8080/",
          "height": 537
        },
        "outputId": "68be5d42-0139-44f4-8007-7e1fdc492288"
      },
      "source": [
        "# строим дендрограмму\n",
        "distance_mat = pdist(X_scaled) # pdist посчитает нам матрицу попарных расстояний между точками\n",
        "# Z = hierarchy.linkage(distance_mat) # linkage — реализация агломеративного алгоритма\n",
        "Z = hierarchy.linkage(distance_mat, 'ward')\n",
        "plt.figure(figsize=(20, 9))\n",
        "dn = hierarchy.dendrogram(Z)"
      ],
      "execution_count": null,
      "outputs": [
        {
          "output_type": "display_data",
          "data": {
            "text/plain": [
              "<Figure size 1440x648 with 1 Axes>"
            ],
            "image/png": "[encoded data removed]"
          },
          "metadata": {
            "needs_background": "light"
          }
        }
      ]
    },
    {
      "cell_type": "code",
      "metadata": {
        "id": "K_0ejaBzZBIv"
      },
      "source": [
        "# делаем уже кластеризацию по факту\n",
        "from sklearn.cluster import AgglomerativeClustering"
      ],
      "execution_count": null,
      "outputs": []
    },
    {
      "cell_type": "code",
      "metadata": {
        "id": "wjEgXrmpZVrY",
        "colab": {
          "base_uri": "https://localhost:8080/"
        },
        "outputId": "33100eda-70da-4085-bff0-d437f9a06994"
      },
      "source": [
        "aglo = AgglomerativeClustering(n_clusters=2)\n",
        "clusters = aglo.fit_predict(X_scaled)\n",
        "clusters"
      ],
      "execution_count": null,
      "outputs": [
        {
          "output_type": "execute_result",
          "data": {
            "text/plain": [
              "array([1, 1, 0, 1, 0, 0, 1, 0, 1, 1, 1, 1, 1, 0, 1, 0, 0, 0, 0, 0, 1, 0,\n",
              "       1, 1, 0, 1, 1, 0, 0, 1, 1, 0, 1, 0, 0, 0, 0, 1, 0, 0, 0, 0, 0, 0,\n",
              "       0, 0, 0, 1, 1, 0, 1, 1, 1, 1, 1, 1, 1, 1, 0, 1, 1, 1, 0, 1, 1, 1,\n",
              "       0, 0, 0, 1, 1, 0, 1, 1, 1, 0, 0, 0, 1, 0, 1, 1, 1, 0, 1, 1, 1, 0,\n",
              "       1, 0, 0, 1, 1, 0, 0, 1, 1, 1, 1, 0, 0, 1, 0, 0, 0, 0, 0, 0, 0, 1,\n",
              "       1, 0, 0, 1, 1, 1, 1, 1, 0, 0, 0, 1, 0, 0, 0, 0, 0, 0, 1, 1, 0, 0,\n",
              "       0, 0, 1, 1, 1, 0, 1, 0, 1, 0, 1, 1, 0, 1, 1, 1, 0, 0, 1, 1, 0, 0,\n",
              "       1, 0, 1, 0, 0, 0, 0, 0, 0, 0, 1, 1, 0, 1, 0, 0, 1, 0, 0, 1, 0, 1,\n",
              "       0, 1, 1, 0, 0, 0, 1, 1, 1, 1, 0, 1, 0, 0, 0, 0, 0, 1, 0, 0, 0, 1,\n",
              "       1, 0])"
            ]
          },
          "metadata": {},
          "execution_count": 68
        }
      ]
    },
    {
      "cell_type": "code",
      "metadata": {
        "id": "Us0SDSD1ZtX7",
        "colab": {
          "base_uri": "https://localhost:8080/",
          "height": 282
        },
        "outputId": "902368bc-fd77-4a4b-caec-ad4492f9ca2b"
      },
      "source": [
        "plt.scatter(X_scaled[:, 0], X_scaled[:, 1],cmap='autumn', c=clusters, s=60)"
      ],
      "execution_count": null,
      "outputs": [
        {
          "output_type": "execute_result",
          "data": {
            "text/plain": [
              "<matplotlib.collections.PathCollection at 0x7fe0ed6bda10>"
            ]
          },
          "metadata": {},
          "execution_count": 69
        },
        {
          "output_type": "display_data",
          "data": {
            "text/plain": [
              "<Figure size 432x288 with 1 Axes>"
            ],
            "image/png": "[encoded data removed]"
          },
          "metadata": {
            "needs_background": "light"
          }
        }
      ]
    },
    {
      "cell_type": "code",
      "metadata": {
        "id": "tPUIlJOaZv5J",
        "colab": {
          "base_uri": "https://localhost:8080/",
          "height": 423
        },
        "outputId": "5ec50bb4-ea7b-47ba-bfda-0bbbcfbdc0d4"
      },
      "source": [
        "df = pd.DataFrame(X)\n",
        "df['y_hat'] = clusters\n",
        "df"
      ],
      "execution_count": null,
      "outputs": [
        {
          "output_type": "execute_result",
          "data": {
            "text/plain": [
              "             0         1  y_hat\n",
              "0    -4.094006  3.828146      1\n",
              "1    -6.594884  1.059300      1\n",
              "2   -10.837313 -6.112001      0\n",
              "3    -5.264367  5.994146      1\n",
              "4    -3.369221 -5.703509      0\n",
              "..         ...       ...    ...\n",
              "195  -5.030622 -6.498906      0\n",
              "196  -7.140251 -5.526486      0\n",
              "197   0.551539  3.569637      1\n",
              "198  -2.399012  0.142734      1\n",
              "199  -6.046128 -6.089500      0\n",
              "\n",
              "[200 rows x 3 columns]"
            ],
            "text/html": [
              "\n",
              "  <div id=\"df-6560668b-b026-41bd-a35a-8a70405d4465\">\n",
              "    <div class=\"colab-df-container\">\n",
              "      <div>\n",
              "<style scoped>\n",
              "    .dataframe tbody tr th:only-of-type {\n",
              "        vertical-align: middle;\n",
              "    }\n",
              "\n",
              "    .dataframe tbody tr th {\n",
              "        vertical-align: top;\n",
              "    }\n",
              "\n",
              "    .dataframe thead th {\n",
              "        text-align: right;\n",
              "    }\n",
              "</style>\n",
              "<table border=\"1\" class=\"dataframe\">\n",
              "  <thead>\n",
              "    <tr style=\"text-align: right;\">\n",
              "      <th></th>\n",
              "      <th>0</th>\n",
              "      <th>1</th>\n",
              "      <th>y_hat</th>\n",
              "    </tr>\n",
              "  </thead>\n",
              "  <tbody>\n",
              "    <tr>\n",
              "      <th>0</th>\n",
              "      <td>-4.094006</td>\n",
              "      <td>3.828146</td>\n",
              "      <td>1</td>\n",
              "    </tr>\n",
              "    <tr>\n",
              "      <th>1</th>\n",
              "      <td>-6.594884</td>\n",
              "      <td>1.059300</td>\n",
              "      <td>1</td>\n",
              "    </tr>\n",
              "    <tr>\n",
              "      <th>2</th>\n",
              "      <td>-10.837313</td>\n",
              "      <td>-6.112001</td>\n",
              "      <td>0</td>\n",
              "    </tr>\n",
              "    <tr>\n",
              "      <th>3</th>\n",
              "      <td>-5.264367</td>\n",
              "      <td>5.994146</td>\n",
              "      <td>1</td>\n",
              "    </tr>\n",
              "    <tr>\n",
              "      <th>4</th>\n",
              "      <td>-3.369221</td>\n",
              "      <td>-5.703509</td>\n",
              "      <td>0</td>\n",
              "    </tr>\n",
              "    <tr>\n",
              "      <th>...</th>\n",
              "      <td>...</td>\n",
              "      <td>...</td>\n",
              "      <td>...</td>\n",
              "    </tr>\n",
              "    <tr>\n",
              "      <th>195</th>\n",
              "      <td>-5.030622</td>\n",
              "      <td>-6.498906</td>\n",
              "      <td>0</td>\n",
              "    </tr>\n",
              "    <tr>\n",
              "      <th>196</th>\n",
              "      <td>-7.140251</td>\n",
              "      <td>-5.526486</td>\n",
              "      <td>0</td>\n",
              "    </tr>\n",
              "    <tr>\n",
              "      <th>197</th>\n",
              "      <td>0.551539</td>\n",
              "      <td>3.569637</td>\n",
              "      <td>1</td>\n",
              "    </tr>\n",
              "    <tr>\n",
              "      <th>198</th>\n",
              "      <td>-2.399012</td>\n",
              "      <td>0.142734</td>\n",
              "      <td>1</td>\n",
              "    </tr>\n",
              "    <tr>\n",
              "      <th>199</th>\n",
              "      <td>-6.046128</td>\n",
              "      <td>-6.089500</td>\n",
              "      <td>0</td>\n",
              "    </tr>\n",
              "  </tbody>\n",
              "</table>\n",
              "<p>200 rows × 3 columns</p>\n",
              "</div>\n",
              "      <button class=\"colab-df-convert\" onclick=\"convertToInteractive('df-6560668b-b026-41bd-a35a-8a70405d4465')\"\n",
              "              title=\"Convert this dataframe to an interactive table.\"\n",
              "              style=\"display:none;\">\n",
              "        \n",
              "  <svg xmlns=\"http://www.w3.org/2000/svg\" height=\"24px\"viewBox=\"0 0 24 24\"\n",
              "       width=\"24px\">\n",
              "    <path d=\"M0 0h24v24H0V0z\" fill=\"none\"/>\n",
              "    <path d=\"M18.56 5.44l.94 2.06.94-2.06 2.06-.94-2.06-.94-.94-2.06-.94 2.06-2.06.94zm-11 1L8.5 8.5l.94-2.06 2.06-.94-2.06-.94L8.5 2.5l-.94 2.06-2.06.94zm10 10l.94 2.06.94-2.06 2.06-.94-2.06-.94-.94-2.06-.94 2.06-2.06.94z\"/><path d=\"M17.41 7.96l-1.37-1.37c-.4-.4-.92-.59-1.43-.59-.52 0-1.04.2-1.43.59L10.3 9.45l-7.72 7.72c-.78.78-.78 2.05 0 2.83L4 21.41c.39.39.9.59 1.41.59.51 0 1.02-.2 1.41-.59l7.78-7.78 2.81-2.81c.8-.78.8-2.07 0-2.86zM5.41 20L4 18.59l7.72-7.72 1.47 1.35L5.41 20z\"/>\n",
              "  </svg>\n",
              "      </button>\n",
              "      \n",
              "  <style>\n",
              "    .colab-df-container {\n",
              "      display:flex;\n",
              "      flex-wrap:wrap;\n",
              "      gap: 12px;\n",
              "    }\n",
              "\n",
              "    .colab-df-convert {\n",
              "      background-color: #E8F0FE;\n",
              "      border: none;\n",
              "      border-radius: 50%;\n",
              "      cursor: pointer;\n",
              "      display: none;\n",
              "      fill: #1967D2;\n",
              "      height: 32px;\n",
              "      padding: 0 0 0 0;\n",
              "      width: 32px;\n",
              "    }\n",
              "\n",
              "    .colab-df-convert:hover {\n",
              "      background-color: #E2EBFA;\n",
              "      box-shadow: 0px 1px 2px rgba(60, 64, 67, 0.3), 0px 1px 3px 1px rgba(60, 64, 67, 0.15);\n",
              "      fill: #174EA6;\n",
              "    }\n",
              "\n",
              "    [theme=dark] .colab-df-convert {\n",
              "      background-color: #3B4455;\n",
              "      fill: #D2E3FC;\n",
              "    }\n",
              "\n",
              "    [theme=dark] .colab-df-convert:hover {\n",
              "      background-color: #434B5C;\n",
              "      box-shadow: 0px 1px 3px 1px rgba(0, 0, 0, 0.15);\n",
              "      filter: drop-shadow(0px 1px 2px rgba(0, 0, 0, 0.3));\n",
              "      fill: #FFFFFF;\n",
              "    }\n",
              "  </style>\n",
              "\n",
              "      <script>\n",
              "        const buttonEl =\n",
              "          document.querySelector('#df-6560668b-b026-41bd-a35a-8a70405d4465 button.colab-df-convert');\n",
              "        buttonEl.style.display =\n",
              "          google.colab.kernel.accessAllowed ? 'block' : 'none';\n",
              "\n",
              "        async function convertToInteractive(key) {\n",
              "          const element = document.querySelector('#df-6560668b-b026-41bd-a35a-8a70405d4465');\n",
              "          const dataTable =\n",
              "            await google.colab.kernel.invokeFunction('convertToInteractive',\n",
              "                                                     [key], {});\n",
              "          if (!dataTable) return;\n",
              "\n",
              "          const docLinkHtml = 'Like what you see? Visit the ' +\n",
              "            '<a target=\"_blank\" href=https://colab.research.google.com/notebooks/data_table.ipynb>data table notebook</a>'\n",
              "            + ' to learn more about interactive tables.';\n",
              "          element.innerHTML = '';\n",
              "          dataTable['output_type'] = 'display_data';\n",
              "          await google.colab.output.renderOutput(dataTable, element);\n",
              "          const docLink = document.createElement('div');\n",
              "          docLink.innerHTML = docLinkHtml;\n",
              "          element.appendChild(docLink);\n",
              "        }\n",
              "      </script>\n",
              "    </div>\n",
              "  </div>\n",
              "  "
            ]
          },
          "metadata": {},
          "execution_count": 70
        }
      ]
    },
    {
      "cell_type": "code",
      "metadata": {
        "id": "CBOo1CERby5W"
      },
      "source": [],
      "execution_count": null,
      "outputs": []
    }
  ]
}